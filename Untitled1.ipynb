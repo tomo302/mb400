{
 "cells": [
  {
   "cell_type": "code",
   "execution_count": 56,
   "id": "180e704d-ab31-4f79-9875-e82378cbdf42",
   "metadata": {},
   "outputs": [
    {
     "name": "stdout",
     "output_type": "stream",
     "text": [
      "['/home/fed36-mb400/git/mb400/Fanza_main/AV女優 [ね] - エロ動画・アダルトビデオ - FANZA動画.pickle', '/home/fed36-mb400/git/mb400/Fanza_main/AV女優 [あ].pickle']\n",
      "<class 'bs4.BeautifulSoup'>\n",
      "[<ul class=\"d-item act-box-100 group\">\n",
      "<li>\n",
      "<a href=\"https://www.dmm.co.jp/digital/videoa/-/list/=/article=actress/id=1051794/\"><img alt=\"根尾あかり\" height=\"100\" src=\"https://pics.dmm.co.jp/mono/actjpgs/medium/neo_akari.jpg\" width=\"100\"/><br/>根尾あかり<br/><span>ねおあかり</span><span>出演作品：378</span></a></li>\n",
      "<li>\n",
      "<a href=\"https://www.dmm.co.jp/digital/videoa/-/list/=/article=actress/id=1074637/\"><img alt=\"猫宮みけ\" height=\"100\" src=\"https://pics.dmm.co.jp/mono/actjpgs/medium/nekomiya_mike.jpg\" width=\"100\"/><br/>猫宮みけ<br/><span>ねこみやみけ</span><span>出演作品：1</span></a></li>\n",
      "<li>\n",
      "<a href=\"https://www.dmm.co.jp/digital/videoa/-/list/=/article=actress/id=1013375/\"><img alt=\"猫村ゆゆ\" height=\"100\" src=\"https://pics.dmm.co.jp/mono/actjpgs/medium/nekomura_yuyu.jpg\" width=\"100\"/><br/>猫村ゆゆ<br/><span>ねこむらゆゆ</span><span>出演作品：4</span></a></li>\n",
      "<li>\n",
      "<a href=\"https://www.dmm.co.jp/digital/videoa/-/list/=/article=actress/id=11492/\"><img alt=\"寧々\" height=\"100\" src=\"https://pics.dmm.co.jp/mono/actjpgs/medium/nene.jpg\" width=\"100\"/><br/>寧々<br/><span>ねね</span><span>出演作品：228</span></a></li>\n",
      "<li>\n",
      "<a href=\"https://www.dmm.co.jp/digital/videoa/-/list/=/article=actress/id=25526/\"><img alt=\"根本恵津子\" height=\"100\" src=\"https://pics.dmm.co.jp/mono/actjpgs/medium/nemoto_etuko.jpg\" width=\"100\"/><br/>根本恵津子<br/><span>ねもとえつこ</span><span>出演作品：20</span></a></li>\n",
      "<li>\n",
      "<a href=\"https://www.dmm.co.jp/digital/videoa/-/list/=/article=actress/id=8538/\"><img alt=\"根本かおり\" height=\"100\" src=\"https://pics.dmm.co.jp/mono/actjpgs/medium/nemoto_kaori.jpg\" width=\"100\"/><br/>根本かおり<br/><span>ねもとかおり</span><span>出演作品：4</span></a></li>\n",
      "<li>\n",
      "<a href=\"https://www.dmm.co.jp/digital/videoa/-/list/=/article=actress/id=26002/\"><img alt=\"根元純\" height=\"100\" src=\"https://pics.dmm.co.jp/mono/actjpgs/medium/nemoto_zyun.jpg\" width=\"100\"/><br/>根元純<br/><span>ねもとじゅん</span><span>出演作品：145</span></a></li>\n",
      "</ul>]\n",
      "aaaaaa\n"
     ]
    }
   ],
   "source": [
    "#!/usr/bin/env python\n",
    "# coding: utf-8\n",
    "import os\n",
    "import glob\n",
    "import pickle\n",
    "import sys\n",
    "txt_files = []\n",
    "#from pickle_save import soup2\n",
    "sys.setrecursionlimit(20000)\n",
    "#dir_path = \"C:/Users/i3-12100/git/mb400/*.pickle\" ##ワイルドカードを設定「*txt」\n",
    "dir_path = \"/home/fed36-mb400/git/mb400/Fanza_main/*pickle\" ##ワイルドカードを設定「*txt」\n",
    "txt_files = glob.glob(dir_path)\n",
    "#txt_files = txt_files[0]\n",
    "print(txt_files)\n",
    "#print(txt_files[0])\n",
    "#full_size = 0\n",
    "\n",
    "\n",
    "\n",
    "with open(txt_files[0], \"rb\") as f:\n",
    "\tx = pickle.load(f)\n",
    "\tprint(type(x))\n",
    "\tprint(x.find_all('ul', class_ = \"d-item act-box-100 group\"))\n",
    "print(\"aaaaaa\")"
   ]
  },
  {
   "cell_type": "code",
   "execution_count": null,
   "id": "8141296d-4e92-43e5-bf3a-a703c6bdee4d",
   "metadata": {},
   "outputs": [],
   "source": []
  },
  {
   "cell_type": "code",
   "execution_count": null,
   "id": "cc078088-1485-4b33-b32b-1b42a039ef36",
   "metadata": {},
   "outputs": [],
   "source": []
  },
  {
   "cell_type": "code",
   "execution_count": null,
   "id": "b56e0b6c-dfa2-4f11-960f-dbefcab3deaa",
   "metadata": {},
   "outputs": [],
   "source": []
  }
 ],
 "metadata": {
  "kernelspec": {
   "display_name": "Python 3 (ipykernel)",
   "language": "python",
   "name": "python3"
  },
  "language_info": {
   "codemirror_mode": {
    "name": "ipython",
    "version": 3
   },
   "file_extension": ".py",
   "mimetype": "text/x-python",
   "name": "python",
   "nbconvert_exporter": "python",
   "pygments_lexer": "ipython3",
   "version": "3.10.6"
  }
 },
 "nbformat": 4,
 "nbformat_minor": 5
}
