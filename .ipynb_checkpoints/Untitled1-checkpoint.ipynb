{
 "cells": [
  {
   "cell_type": "code",
   "execution_count": 38,
   "id": "180e704d-ab31-4f79-9875-e82378cbdf42",
   "metadata": {},
   "outputs": [
    {
     "name": "stdout",
     "output_type": "stream",
     "text": [
      "['/home/fed36-mb400/git/mb400/Fanza_main/AV女優 [あ].pickle', '/home/fed36-mb400/git/mb400/Fanza_main/AV女優 [さ] - エロ動画・アダルトビデオ - FANZA動画.pickle']\n"
     ]
    },
    {
     "ename": "TypeError",
     "evalue": "expected str, bytes or os.PathLike object, not list",
     "output_type": "error",
     "traceback": [
      "\u001b[0;31m---------------------------------------------------------------------------\u001b[0m",
      "\u001b[0;31mTypeError\u001b[0m                                 Traceback (most recent call last)",
      "Input \u001b[0;32mIn [38]\u001b[0m, in \u001b[0;36m<cell line: 19>\u001b[0;34m()\u001b[0m\n\u001b[1;32m     13\u001b[0m \u001b[38;5;28mprint\u001b[39m(txt_files)\n\u001b[1;32m     14\u001b[0m \u001b[38;5;66;03m#print(txt_files[0])\u001b[39;00m\n\u001b[1;32m     15\u001b[0m \u001b[38;5;66;03m#full_size = 0\u001b[39;00m\n\u001b[0;32m---> 19\u001b[0m \u001b[38;5;28;01mwith\u001b[39;00m \u001b[38;5;28;43mopen\u001b[39;49m\u001b[43m(\u001b[49m\u001b[43mtxt_files\u001b[49m\u001b[43m,\u001b[49m\u001b[43m \u001b[49m\u001b[38;5;124;43m\"\u001b[39;49m\u001b[38;5;124;43mrb\u001b[39;49m\u001b[38;5;124;43m\"\u001b[39;49m\u001b[43m)\u001b[49m \u001b[38;5;28;01mas\u001b[39;00m f:\n\u001b[1;32m     20\u001b[0m \tx \u001b[38;5;241m=\u001b[39m pickle\u001b[38;5;241m.\u001b[39mload(f)\n\u001b[1;32m     21\u001b[0m \t\u001b[38;5;28mprint\u001b[39m(\u001b[38;5;28mtype\u001b[39m(x))\n",
      "\u001b[0;31mTypeError\u001b[0m: expected str, bytes or os.PathLike object, not list"
     ]
    }
   ],
   "source": [
    "#!/usr/bin/env python\n",
    "# coding: utf-8\n",
    "import os\n",
    "import glob\n",
    "import pickle\n",
    "import sys\n",
    "#from pickle_save import soup2\n",
    "sys.setrecursionlimit(20000)\n",
    "#dir_path = \"C:/Users/i3-12100/git/mb400/*.pickle\" ##ワイルドカードを設定「*txt」\n",
    "dir_path = \"/home/fed36-mb400/git/mb400/Fanza_main/*.pickle\" ##ワイルドカードを設定「*txt」\n",
    "txt_files = glob.glob(dir_path)\n",
    "#txt_files = txt_files[0]\n",
    "print(txt_files)\n",
    "#print(txt_files[0])\n",
    "#full_size = 0\n",
    "\n",
    "\n",
    "\n",
    "with open(txt_files, \"rb\") as f:\n",
    "\tx = pickle.load(f)\n",
    "\tprint(type(x))\n",
    "\tprint(x.find_all('ul', class_ = \"d-item act-box-100 group\"))\n",
    "print(\"aaaaaa\")"
   ]
  },
  {
   "cell_type": "code",
   "execution_count": null,
   "id": "8141296d-4e92-43e5-bf3a-a703c6bdee4d",
   "metadata": {},
   "outputs": [],
   "source": []
  }
 ],
 "metadata": {
  "kernelspec": {
   "display_name": "Python 3 (ipykernel)",
   "language": "python",
   "name": "python3"
  },
  "language_info": {
   "codemirror_mode": {
    "name": "ipython",
    "version": 3
   },
   "file_extension": ".py",
   "mimetype": "text/x-python",
   "name": "python",
   "nbconvert_exporter": "python",
   "pygments_lexer": "ipython3",
   "version": "3.10.6"
  }
 },
 "nbformat": 4,
 "nbformat_minor": 5
}
