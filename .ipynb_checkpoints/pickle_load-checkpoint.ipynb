{
 "cells": [
  {
   "cell_type": "code",
   "execution_count": 15,
   "id": "0f823e83-b74a-4a54-aedd-7af1772cd02b",
   "metadata": {},
   "outputs": [
    {
     "name": "stdout",
     "output_type": "stream",
     "text": [
      "C:/Users/i3-12100/git/mb400/OK_pickle_data_bynary\\AV女優 [ま].pickle\n",
      "<class 'bs4.BeautifulSoup'>\n",
      "aaaaaa\n"
     ]
    }
   ],
   "source": [
    "#!/usr/bin/env python\n",
    "# coding: utf-8\n",
    "#　このコードは、Windows環境（ASRockPC)で作成されたpickleファイルは、EOFError: Ran out of inputが発生して読み込めない。\n",
    "#　Fedora環境でも読み込めないので、Windows環境で作成されたpickleファイルは使用できません。\n",
    "# 結論！！　pickleファイルの作成はとりあえず20220924現在、Fedora環境で作成すること！！\n",
    "\n",
    "import os\n",
    "import glob\n",
    "import pickle\n",
    "import sys\n",
    "import re \n",
    "\n",
    "#from pickle_save import soup2\n",
    "sys.setrecursionlimit(20000)\n",
    "dir_path = \"C:/Users/i3-12100/git/mb400/OK_pickle_data_bynary/*pickle\" ##ワイルドカードを設定「*txt」\n",
    "#type(list)\n",
    "txt_files = glob.glob(dir_path)\n",
    "#txt_files = txt_files[0]\n",
    "print(txt_files[3])\n",
    "#full_size = 0\n",
    "\n",
    "with open(txt_files[0],'rb') as f:\n",
    "\t\n",
    "\n",
    "\tx = pickle.load(f)\n",
    "\t#print(x.find_all('ul', class_ = 'd-item act-box-100 group'))\n",
    "\tprint(type(x))\n",
    "print(\"aaaaaa\")"
   ]
  },
  {
   "cell_type": "raw",
   "id": "2158bed3-f7c3-4323-9ef4-deacbf8113f3",
   "metadata": {},
   "source": []
  },
  {
   "cell_type": "code",
   "execution_count": null,
   "id": "a7721806-6321-4cf9-a4b8-df72ee5aadbe",
   "metadata": {},
   "outputs": [],
   "source": []
  },
  {
   "cell_type": "code",
   "execution_count": null,
   "id": "aa971ff5-7661-4c6c-98a4-43d7fd9f2a3b",
   "metadata": {},
   "outputs": [],
   "source": []
  }
 ],
 "metadata": {
  "kernelspec": {
   "display_name": "Python 3 (ipykernel)",
   "language": "python",
   "name": "python3"
  },
  "language_info": {
   "codemirror_mode": {
    "name": "ipython",
    "version": 3
   },
   "file_extension": ".py",
   "mimetype": "text/x-python",
   "name": "python",
   "nbconvert_exporter": "python",
   "pygments_lexer": "ipython3",
   "version": "3.8.13"
  }
 },
 "nbformat": 4,
 "nbformat_minor": 5
}
