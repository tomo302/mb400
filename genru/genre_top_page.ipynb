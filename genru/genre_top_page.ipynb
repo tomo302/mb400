{
 "cells": [
  {
   "cell_type": "code",
   "execution_count": 1,
   "id": "8167b3d3-51eb-486b-9273-4351de98d241",
   "metadata": {},
   "outputs": [],
   "source": [
    "import requests\n",
    "from bs4 import BeautifulSoup\n",
    "import os\n",
    "import json\n",
    "import itertools\n",
    "import csv\n",
    "import regex\n",
    "import re"
   ]
  },
  {
   "cell_type": "code",
   "execution_count": 2,
   "id": "3a4ca931-adad-4f4d-8b84-a94e92e5d735",
   "metadata": {},
   "outputs": [],
   "source": [
    "url = \"https://www.dmm.co.jp/digital/videoc/-/genre/\""
   ]
  },
  {
   "cell_type": "code",
   "execution_count": 3,
   "id": "11644625-2d9a-4b24-8ea7-20af153deae9",
   "metadata": {},
   "outputs": [],
   "source": [
    "res = requests.get(url)\n",
    "soup = BeautifulSoup(res.text, 'html.parser')\n",
    "firstpage_url = soup.find('a', class_=\"ageCheck__link ageCheck__link--r18\").get('href')\n",
    "res2 = requests.get(firstpage_url)\n",
    "soup2 = BeautifulSoup(res2.text, 'html.parser')"
   ]
  },
  {
   "cell_type": "code",
   "execution_count": 4,
   "id": "6aee1b50-e716-4f90-997b-77f36183d25e",
   "metadata": {},
   "outputs": [],
   "source": [
    "data = soup2.find(\"div\", id=\"genre_list_box\").encode().decode('unicode-escape')"
   ]
  },
  {
   "cell_type": "code",
   "execution_count": 5,
   "id": "69d6337c-f8dc-4889-b203-b2be0a55e3c3",
   "metadata": {},
   "outputs": [],
   "source": [
    "#正規表現で{}囲まれている部分を抽出。リストで取得される。インデックスは１まで\n",
    "dic = re.findall(r'\\{.*\\}', data) "
   ]
  },
  {
   "cell_type": "code",
   "execution_count": 6,
   "id": "d4ec7f5c-e858-44c2-9a8c-60cffa2063c3",
   "metadata": {},
   "outputs": [
    {
     "name": "stdout",
     "output_type": "stream",
     "text": [
      "<class 'list'>\n"
     ]
    }
   ],
   "source": [
    "print(type(dic))"
   ]
  },
  {
   "cell_type": "code",
   "execution_count": 7,
   "id": "ca9fb90e-ab12-4107-a2d8-1e55a99db5d4",
   "metadata": {},
   "outputs": [],
   "source": [
    "#超重要\n",
    "#dicはリストでインデックス指定で辞書構造にアクセスしてjson.loads()してもdictに変換されずstrのままでKeyを使用してvaluesを取得できず\n",
    "#かなりの時間ハマった！！dic[0],dic[1]ともに辞書構造であるので、タプルで囲ってみたら内部の{}{}がdictで取得できた！！！！"
   ]
  },
  {
   "cell_type": "code",
   "execution_count": 8,
   "id": "0c10044d-650c-45be-b942-0dccd5b88283",
   "metadata": {},
   "outputs": [
    {
     "name": "stdout",
     "output_type": "stream",
     "text": [
      "<class 'str'>\n"
     ]
    }
   ],
   "source": [
    "print(type(dic[0]))"
   ]
  },
  {
   "cell_type": "code",
   "execution_count": 9,
   "id": "0ccd0f34-2b35-4247-80c9-401f1acaddf7",
   "metadata": {},
   "outputs": [],
   "source": [
    "dic0 = dic[0]#ここの値は必要ない"
   ]
  },
  {
   "cell_type": "code",
   "execution_count": 10,
   "id": "040973db-3ca7-4fb2-bc3b-c238f8600152",
   "metadata": {},
   "outputs": [],
   "source": [
    "dic_0 = eval(dic0)"
   ]
  },
  {
   "cell_type": "code",
   "execution_count": 11,
   "id": "e5cc1fd3-39a2-405b-a3e9-df3748d934d2",
   "metadata": {},
   "outputs": [
    {
     "data": {
      "text/plain": [
       "({'genre_id': 8508, 'genre': '巨乳'},\n",
       " {'genre_id': 1014, 'genre': '熟女'},\n",
       " {'genre_id': 1039, 'genre': '人妻・主婦'},\n",
       " {'genre_id': 1018, 'genre': '女子校生'},\n",
       " {'genre_id': 5001, 'genre': '中出し'},\n",
       " {'genre_id': 1027, 'genre': '美少女'},\n",
       " {'genre_id': 8502, 'genre': '清楚'},\n",
       " {'genre_id': 8523, 'genre': '貧乳・微乳'},\n",
       " {'genre_id': 8528, 'genre': '外国人'})"
      ]
     },
     "execution_count": 11,
     "metadata": {},
     "output_type": "execute_result"
    }
   ],
   "source": [
    "dic_0"
   ]
  },
  {
   "cell_type": "code",
   "execution_count": 12,
   "id": "0294a522-e6c7-4819-82cb-fc841a79d25a",
   "metadata": {},
   "outputs": [],
   "source": [
    "dic1 = dic[1] #ここが取得したい部分でstrなので、まだ値をキーを使用して取り出せない"
   ]
  },
  {
   "cell_type": "code",
   "execution_count": 13,
   "id": "8f124101-38e4-4154-a8ba-4221505871b0",
   "metadata": {
    "collapsed": true,
    "jupyter": {
     "outputs_hidden": true
    },
    "tags": []
   },
   "outputs": [
    {
     "data": {
      "text/plain": [
       "'{\"category\":\"シチュエーション\",\"genres\":[{\"genre_id\":\"4118\",\"genre\":\"アイドル・芸能人\"},{\"genre_id\":\"6968\",\"genre\":\"アクメ・オーガズム\"},{\"genre_id\":\"6965\",\"genre\":\"アスリート\"},{\"genre_id\":\"525\",\"genre\":\"アニメキャラクター\"},{\"genre_id\":\"4057\",\"genre\":\"姉・妹\"},{\"genre_id\":\"4122\",\"genre\":\"イタズラ\"},{\"genre_id\":\"1004\",\"genre\":\"インストラクター\"},{\"genre_id\":\"1040\",\"genre\":\"ウェイトレス\"},{\"genre_id\":\"6942\",\"genre\":\"受付嬢\"},{\"genre_id\":\"4119\",\"genre\":\"エステ\"},{\"genre_id\":\"6967\",\"genre\":\"M女\"},{\"genre_id\":\"1001\",\"genre\":\"OL\"},{\"genre_id\":\"1032\",\"genre\":\"お母さん\"},{\"genre_id\":\"1003\",\"genre\":\"女将・女主人\"},{\"genre_id\":\"1083\",\"genre\":\"幼なじみ\"},{\"genre_id\":\"6947\",\"genre\":\"お婆ちゃん\"},{\"genre_id\":\"6943\",\"genre\":\"叔母さん\"},{\"genre_id\":\"528\",\"genre\":\"お姫様\"},{\"genre_id\":\"6969\",\"genre\":\"お風呂\"},{\"genre_id\":\"4140\",\"genre\":\"温泉\"},{\"genre_id\":\"1016\",\"genre\":\"女教師\"},{\"genre_id\":\"6945\",\"genre\":\"女上司\"},{\"genre_id\":\"4026\",\"genre\":\"カーセックス\"},{\"genre_id\":\"4123\",\"genre\":\"カップル\"},{\"genre_id\":\"1022\",\"genre\":\"家庭教師\"},{\"genre_id\":\"1013\",\"genre\":\"看護婦・ナース\"},{\"genre_id\":\"1036\",\"genre\":\"キャバ嬢・風俗嬢\"},{\"genre_id\":\"1005\",\"genre\":\"キャンギャル\"},{\"genre_id\":\"4002\",\"genre\":\"近親相姦\"},{\"genre_id\":\"524\",\"genre\":\"義母\"},{\"genre_id\":\"1041\",\"genre\":\"コンパニオン\"},{\"genre_id\":\"5063\",\"genre\":\"主観\"},{\"genre_id\":\"1026\",\"genre\":\"職業色々\"},{\"genre_id\":\"4058\",\"genre\":\"ショタ\"},{\"genre_id\":\"6966\",\"genre\":\"白目・失神\"},{\"genre_id\":\"1014\",\"genre\":\"熟女\"},{\"genre_id\":\"1015\",\"genre\":\"女医\"},{\"genre_id\":\"1017\",\"genre\":\"女子アナ\"},{\"genre_id\":\"1018\",\"genre\":\"女子校生\"},{\"genre_id\":\"1019\",\"genre\":\"女子大生\"},{\"genre_id\":\"1007\",\"genre\":\"スチュワーデス\"},{\"genre_id\":\"6955\",\"genre\":\"セレブ\"},{\"genre_id\":\"6959\",\"genre\":\"チアガール\"},{\"genre_id\":\"1031\",\"genre\":\"痴女\"},{\"genre_id\":\"2019\",\"genre\":\"ツンデレ\"},{\"genre_id\":\"6956\",\"genre\":\"デート\"},{\"genre_id\":\"4021\",\"genre\":\"盗撮・のぞき\"},{\"genre_id\":\"4111\",\"genre\":\"寝取り・寝取られ・NTR\"},{\"genre_id\":\"6964\",\"genre\":\"ノーパン\"},{\"genre_id\":\"6972\",\"genre\":\"ノーブラ\"},{\"genre_id\":\"6957\",\"genre\":\"飲み会・合コン\"},{\"genre_id\":\"5071\",\"genre\":\"ハーレム\"},{\"genre_id\":\"6974\",\"genre\":\"花嫁\"},{\"genre_id\":\"1012\",\"genre\":\"バスガイド\"},{\"genre_id\":\"1023\",\"genre\":\"秘書\"},{\"genre_id\":\"1039\",\"genre\":\"人妻・主婦\"},{\"genre_id\":\"6164\",\"genre\":\"ビッチ\"},{\"genre_id\":\"6963\",\"genre\":\"病院・クリニック\"},{\"genre_id\":\"1069\",\"genre\":\"不倫\"},{\"genre_id\":\"6961\",\"genre\":\"部活・マネージャー\"},{\"genre_id\":\"6946\",\"genre\":\"部下・同僚\"},{\"genre_id\":\"6937\",\"genre\":\"ヘルス・ソープ\"},{\"genre_id\":\"6962\",\"genre\":\"ホテル\"},{\"genre_id\":\"4124\",\"genre\":\"マッサージ・リフレ\"},{\"genre_id\":\"1025\",\"genre\":\"未亡人\"},{\"genre_id\":\"6973\",\"genre\":\"娘・養女\"},{\"genre_id\":\"6971\",\"genre\":\"胸チラ\"},{\"genre_id\":\"1008\",\"genre\":\"メイド\"},{\"genre_id\":\"6936\",\"genre\":\"面接\"},{\"genre_id\":\"1009\",\"genre\":\"モデル\"},{\"genre_id\":\"4020\",\"genre\":\"野外・露出\"},{\"genre_id\":\"6933\",\"genre\":\"ヨガ\"},{\"genre_id\":\"4005\",\"genre\":\"乱交\"},{\"genre_id\":\"6975\",\"genre\":\"旅行\"},{\"genre_id\":\"1011\",\"genre\":\"レースクィーン\"},{\"genre_id\":\"1020\",\"genre\":\"若妻・幼妻\"}],\"index\":0},{\"category\":\"タイプ\",\"genres\":[{\"genre_id\":\"2011\",\"genre\":\"アジア女優\"},{\"genre_id\":\"8514\",\"genre\":\"色黒\"},{\"genre_id\":\"8513\",\"genre\":\"色白\"},{\"genre_id\":\"8524\",\"genre\":\"お嬢様・令嬢\"},{\"genre_id\":\"8521\",\"genre\":\"お姉さん\"},{\"genre_id\":\"8528\",\"genre\":\"外国人\"},{\"genre_id\":\"2024\",\"genre\":\"巨尻\"},{\"genre_id\":\"8508\",\"genre\":\"巨乳\"},{\"genre_id\":\"97\",\"genre\":\"筋肉\"},{\"genre_id\":\"8519\",\"genre\":\"金髪\"},{\"genre_id\":\"8503\",\"genre\":\"ギャル\"},{\"genre_id\":\"8505\",\"genre\":\"くびれ\"},{\"genre_id\":\"8527\",\"genre\":\"黒髪\"},{\"genre_id\":\"8526\",\"genre\":\"小柄\"},{\"genre_id\":\"1028\",\"genre\":\"黒人男優\"},{\"genre_id\":\"8516\",\"genre\":\"ショートヘアー\"},{\"genre_id\":\"55\",\"genre\":\"処女\"},{\"genre_id\":\"8511\",\"genre\":\"スレンダー\"},{\"genre_id\":\"8502\",\"genre\":\"清楚\"},{\"genre_id\":\"1030\",\"genre\":\"そっくりさん\"},{\"genre_id\":\"8522\",\"genre\":\"タトゥー\"},{\"genre_id\":\"8518\",\"genre\":\"茶髪\"},{\"genre_id\":\"8507\",\"genre\":\"長身\"},{\"genre_id\":\"6149\",\"genre\":\"超乳\"},{\"genre_id\":\"5073\",\"genre\":\"デカチン・巨根\"},{\"genre_id\":\"4014\",\"genre\":\"童貞\"},{\"genre_id\":\"6935\",\"genre\":\"軟体\"},{\"genre_id\":\"4015\",\"genre\":\"ニューハーフ\"},{\"genre_id\":\"1029\",\"genre\":\"妊婦\"},{\"genre_id\":\"2012\",\"genre\":\"白人女優\"},{\"genre_id\":\"8512\",\"genre\":\"パイパン\"},{\"genre_id\":\"2023\",\"genre\":\"日焼け\"},{\"genre_id\":\"8523\",\"genre\":\"貧乳・微乳\"},{\"genre_id\":\"8504\",\"genre\":\"美脚\"},{\"genre_id\":\"1027\",\"genre\":\"美少女\"},{\"genre_id\":\"8509\",\"genre\":\"美乳\"},{\"genre_id\":\"8506\",\"genre\":\"ボディピアス\"},{\"genre_id\":\"8510\",\"genre\":\"ぽっちゃり\"},{\"genre_id\":\"8520\",\"genre\":\"巻き髪\"},{\"genre_id\":\"8525\",\"genre\":\"ミディアムヘアー\"},{\"genre_id\":\"8501\",\"genre\":\"ミニ系\"},{\"genre_id\":\"8515\",\"genre\":\"ロングヘアー\"}],\"index\":1},{\"category\":\"コスチューム\",\"genres\":[{\"genre_id\":\"3011\",\"genre\":\"学生服\"},{\"genre_id\":\"3009\",\"genre\":\"競泳・スクール水着\"},{\"genre_id\":\"4031\",\"genre\":\"コスプレ\"},{\"genre_id\":\"3034\",\"genre\":\"ゴスロリ\"},{\"genre_id\":\"3003\",\"genre\":\"セーラー服\"},{\"genre_id\":\"48\",\"genre\":\"制服\"},{\"genre_id\":\"3001\",\"genre\":\"体操着・ブルマ\"},{\"genre_id\":\"3005\",\"genre\":\"チャイナドレス\"},{\"genre_id\":\"94\",\"genre\":\"ニーソックス\"},{\"genre_id\":\"64\",\"genre\":\"ネコミミ・獣系\"},{\"genre_id\":\"93\",\"genre\":\"裸エプロン\"},{\"genre_id\":\"3033\",\"genre\":\"バニーガール\"},{\"genre_id\":\"3006\",\"genre\":\"パンスト・タイツ\"},{\"genre_id\":\"6939\",\"genre\":\"ビジネススーツ\"},{\"genre_id\":\"6951\",\"genre\":\"覆面・マスク\"},{\"genre_id\":\"3013\",\"genre\":\"ボディコン\"},{\"genre_id\":\"3015\",\"genre\":\"ボンテージ\"},{\"genre_id\":\"63\",\"genre\":\"巫女\"},{\"genre_id\":\"3008\",\"genre\":\"水着\"},{\"genre_id\":\"3007\",\"genre\":\"ミニスカ\"},{\"genre_id\":\"3012\",\"genre\":\"ミニスカポリス\"},{\"genre_id\":\"2004\",\"genre\":\"めがね\"},{\"genre_id\":\"3014\",\"genre\":\"ランジェリー\"},{\"genre_id\":\"3032\",\"genre\":\"ルーズソックス\"},{\"genre_id\":\"3035\",\"genre\":\"レオタード\"},{\"genre_id\":\"3002\",\"genre\":\"和服・浴衣\"}],\"index\":2},{\"category\":\"ジャンル\",\"genres\":[{\"genre_id\":\"514\",\"genre\":\"アクション・格闘\"},{\"genre_id\":\"4008\",\"genre\":\"脚フェチ\"},{\"genre_id\":\"4030\",\"genre\":\"淫乱・ハード系\"},{\"genre_id\":\"4001\",\"genre\":\"SM\"},{\"genre_id\":\"553\",\"genre\":\"学園もの\"},{\"genre_id\":\"4007\",\"genre\":\"企画\"},{\"genre_id\":\"4017\",\"genre\":\"局部アップ\"},{\"genre_id\":\"4009\",\"genre\":\"巨乳フェチ\"},{\"genre_id\":\"4011\",\"genre\":\"尻フェチ\"},{\"genre_id\":\"4096\",\"genre\":\"スポーツ\"},{\"genre_id\":\"4098\",\"genre\":\"セクシー\"},{\"genre_id\":\"4010\",\"genre\":\"その他フェチ\"},{\"genre_id\":\"6086\",\"genre\":\"体験告白\"},{\"genre_id\":\"4116\",\"genre\":\"着エロ\"},{\"genre_id\":\"6006\",\"genre\":\"デビュー作品\"},{\"genre_id\":\"4023\",\"genre\":\"ドキュメンタリー\"},{\"genre_id\":\"4114\",\"genre\":\"ドラマ\"},{\"genre_id\":\"4006\",\"genre\":\"ナンパ\"},{\"genre_id\":\"4016\",\"genre\":\"パンチラ\"},{\"genre_id\":\"4028\",\"genre\":\"妄想\"},{\"genre_id\":\"4022\",\"genre\":\"洋ピン・海外輸入\"},{\"genre_id\":\"4013\",\"genre\":\"レズ\"}],\"index\":3},{\"category\":\"プレイ\",\"genres\":[{\"genre_id\":\"5048\",\"genre\":\"足コキ\"},{\"genre_id\":\"5075\",\"genre\":\"汗だく\"},{\"genre_id\":\"5005\",\"genre\":\"アナル\"},{\"genre_id\":\"5076\",\"genre\":\"アナルセックス\"},{\"genre_id\":\"72\",\"genre\":\"異物挿入\"},{\"genre_id\":\"5068\",\"genre\":\"イラマチオ\"},{\"genre_id\":\"5025\",\"genre\":\"淫語\"},{\"genre_id\":\"5012\",\"genre\":\"飲尿\"},{\"genre_id\":\"6948\",\"genre\":\"男の潮吹き\"},{\"genre_id\":\"5008\",\"genre\":\"オナニー\"},{\"genre_id\":\"5017\",\"genre\":\"おもちゃ\"},{\"genre_id\":\"5010\",\"genre\":\"監禁\"},{\"genre_id\":\"5014\",\"genre\":\"浣腸\"},{\"genre_id\":\"5023\",\"genre\":\"顔射\"},{\"genre_id\":\"5067\",\"genre\":\"顔面騎乗\"},{\"genre_id\":\"4106\",\"genre\":\"騎乗位\"},{\"genre_id\":\"4059\",\"genre\":\"キス・接吻\"},{\"genre_id\":\"567\",\"genre\":\"鬼畜\"},{\"genre_id\":\"5007\",\"genre\":\"クスコ\"},{\"genre_id\":\"38\",\"genre\":\"クンニ\"},{\"genre_id\":\"25\",\"genre\":\"拘束\"},{\"genre_id\":\"5009\",\"genre\":\"ごっくん\"},{\"genre_id\":\"5016\",\"genre\":\"潮吹き\"},{\"genre_id\":\"5020\",\"genre\":\"シックスナイン\"},{\"genre_id\":\"5021\",\"genre\":\"縛り・緊縛\"},{\"genre_id\":\"28\",\"genre\":\"羞恥\"},{\"genre_id\":\"4018\",\"genre\":\"スカトロ\"},{\"genre_id\":\"6940\",\"genre\":\"スパンキング\"},{\"genre_id\":\"3029\",\"genre\":\"即ハメ\"},{\"genre_id\":\"5013\",\"genre\":\"脱糞\"},{\"genre_id\":\"5004\",\"genre\":\"手コキ\"},{\"genre_id\":\"6941\",\"genre\":\"ディルド\"},{\"genre_id\":\"5066\",\"genre\":\"電マ\"},{\"genre_id\":\"5015\",\"genre\":\"ドラッグ\"},{\"genre_id\":\"5001\",\"genre\":\"中出し\"},{\"genre_id\":\"27\",\"genre\":\"辱め\"},{\"genre_id\":\"6002\",\"genre\":\"ハメ撮り\"},{\"genre_id\":\"5006\",\"genre\":\"バイブ\"},{\"genre_id\":\"6958\",\"genre\":\"バック\"},{\"genre_id\":\"5019\",\"genre\":\"パイズリ\"},{\"genre_id\":\"88\",\"genre\":\"フィスト\"},{\"genre_id\":\"5002\",\"genre\":\"フェラ\"},{\"genre_id\":\"5003\",\"genre\":\"ぶっかけ\"},{\"genre_id\":\"6952\",\"genre\":\"放置\"},{\"genre_id\":\"5011\",\"genre\":\"放尿・お漏らし\"},{\"genre_id\":\"5060\",\"genre\":\"母乳\"},{\"genre_id\":\"5053\",\"genre\":\"指マン\"},{\"genre_id\":\"569\",\"genre\":\"ラブコメ\"},{\"genre_id\":\"5062\",\"genre\":\"レズキス\"},{\"genre_id\":\"5057\",\"genre\":\"ローション・オイル\"},{\"genre_id\":\"5018\",\"genre\":\"ローター\"},{\"genre_id\":\"5022\",\"genre\":\"3P・4P\"}],\"index\":4},{\"category\":\"その他\",\"genres\":[{\"genre_id\":\"6565\",\"genre\":\"期間限定セール\"},{\"genre_id\":\"6671\",\"genre\":\"スマホ推奨縦動画\"},{\"genre_id\":\"6005\",\"genre\":\"投稿\"},{\"genre_id\":\"6548\",\"genre\":\"独占配信\"},{\"genre_id\":\"6533\",\"genre\":\"ハイビジョン\"},{\"genre\":\"50％OFFセール第1弾\",\"campaign_id\":\"UFHfheN5J3Tb54rbsIqFtMqCmpoB3NiH\"}],\"index\":5}'"
      ]
     },
     "execution_count": 13,
     "metadata": {},
     "output_type": "execute_result"
    }
   ],
   "source": [
    "dic1"
   ]
  },
  {
   "cell_type": "code",
   "execution_count": 146,
   "id": "67a37e30-e17b-45c6-a63e-922c3ceb24eb",
   "metadata": {
    "tags": []
   },
   "outputs": [
    {
     "name": "stdout",
     "output_type": "stream",
     "text": [
      "<class 'str'>\n"
     ]
    }
   ],
   "source": [
    "print(type(dic1))"
   ]
  },
  {
   "cell_type": "code",
   "execution_count": 14,
   "id": "9d6b6bb5-adaa-4863-90a6-fdfb2dbd80fa",
   "metadata": {},
   "outputs": [],
   "source": [
    "#タプルに変換。　= {},{},{}はタプルと評価されるで全体をタプルで包む({},{},{})として\n",
    "dic_01 = eval(dic1)"
   ]
  },
  {
   "cell_type": "code",
   "execution_count": 15,
   "id": "e0aab99e-21f2-46aa-8ce2-6e14bbcecc00",
   "metadata": {
    "tags": []
   },
   "outputs": [
    {
     "name": "stdout",
     "output_type": "stream",
     "text": [
      "<class 'tuple'>\n"
     ]
    }
   ],
   "source": [
    "print(type(dic_01))"
   ]
  },
  {
   "cell_type": "code",
   "execution_count": 16,
   "id": "a8d13432-6b91-44b4-9ff6-4b731b25304c",
   "metadata": {},
   "outputs": [
    {
     "name": "stdout",
     "output_type": "stream",
     "text": [
      "<class 'dict'>\n"
     ]
    }
   ],
   "source": [
    "print(type(dic_01[0]))"
   ]
  },
  {
   "cell_type": "code",
   "execution_count": 17,
   "id": "a88b2a53-a78a-495c-9818-fc81e312aded",
   "metadata": {},
   "outputs": [],
   "source": [
    "dd = dic_01[0]['genres']"
   ]
  },
  {
   "cell_type": "code",
   "execution_count": 18,
   "id": "6d574050-6908-49b6-b6a9-209901d1775b",
   "metadata": {
    "collapsed": true,
    "jupyter": {
     "outputs_hidden": true
    },
    "tags": []
   },
   "outputs": [
    {
     "data": {
      "text/plain": [
       "[{'genre_id': '4118', 'genre': 'アイドル・芸能人'},\n",
       " {'genre_id': '6968', 'genre': 'アクメ・オーガズム'},\n",
       " {'genre_id': '6965', 'genre': 'アスリート'},\n",
       " {'genre_id': '525', 'genre': 'アニメキャラクター'},\n",
       " {'genre_id': '4057', 'genre': '姉・妹'},\n",
       " {'genre_id': '4122', 'genre': 'イタズラ'},\n",
       " {'genre_id': '1004', 'genre': 'インストラクター'},\n",
       " {'genre_id': '1040', 'genre': 'ウェイトレス'},\n",
       " {'genre_id': '6942', 'genre': '受付嬢'},\n",
       " {'genre_id': '4119', 'genre': 'エステ'},\n",
       " {'genre_id': '6967', 'genre': 'M女'},\n",
       " {'genre_id': '1001', 'genre': 'OL'},\n",
       " {'genre_id': '1032', 'genre': 'お母さん'},\n",
       " {'genre_id': '1003', 'genre': '女将・女主人'},\n",
       " {'genre_id': '1083', 'genre': '幼なじみ'},\n",
       " {'genre_id': '6947', 'genre': 'お婆ちゃん'},\n",
       " {'genre_id': '6943', 'genre': '叔母さん'},\n",
       " {'genre_id': '528', 'genre': 'お姫様'},\n",
       " {'genre_id': '6969', 'genre': 'お風呂'},\n",
       " {'genre_id': '4140', 'genre': '温泉'},\n",
       " {'genre_id': '1016', 'genre': '女教師'},\n",
       " {'genre_id': '6945', 'genre': '女上司'},\n",
       " {'genre_id': '4026', 'genre': 'カーセックス'},\n",
       " {'genre_id': '4123', 'genre': 'カップル'},\n",
       " {'genre_id': '1022', 'genre': '家庭教師'},\n",
       " {'genre_id': '1013', 'genre': '看護婦・ナース'},\n",
       " {'genre_id': '1036', 'genre': 'キャバ嬢・風俗嬢'},\n",
       " {'genre_id': '1005', 'genre': 'キャンギャル'},\n",
       " {'genre_id': '4002', 'genre': '近親相姦'},\n",
       " {'genre_id': '524', 'genre': '義母'},\n",
       " {'genre_id': '1041', 'genre': 'コンパニオン'},\n",
       " {'genre_id': '5063', 'genre': '主観'},\n",
       " {'genre_id': '1026', 'genre': '職業色々'},\n",
       " {'genre_id': '4058', 'genre': 'ショタ'},\n",
       " {'genre_id': '6966', 'genre': '白目・失神'},\n",
       " {'genre_id': '1014', 'genre': '熟女'},\n",
       " {'genre_id': '1015', 'genre': '女医'},\n",
       " {'genre_id': '1017', 'genre': '女子アナ'},\n",
       " {'genre_id': '1018', 'genre': '女子校生'},\n",
       " {'genre_id': '1019', 'genre': '女子大生'},\n",
       " {'genre_id': '1007', 'genre': 'スチュワーデス'},\n",
       " {'genre_id': '6955', 'genre': 'セレブ'},\n",
       " {'genre_id': '6959', 'genre': 'チアガール'},\n",
       " {'genre_id': '1031', 'genre': '痴女'},\n",
       " {'genre_id': '2019', 'genre': 'ツンデレ'},\n",
       " {'genre_id': '6956', 'genre': 'デート'},\n",
       " {'genre_id': '4021', 'genre': '盗撮・のぞき'},\n",
       " {'genre_id': '4111', 'genre': '寝取り・寝取られ・NTR'},\n",
       " {'genre_id': '6964', 'genre': 'ノーパン'},\n",
       " {'genre_id': '6972', 'genre': 'ノーブラ'},\n",
       " {'genre_id': '6957', 'genre': '飲み会・合コン'},\n",
       " {'genre_id': '5071', 'genre': 'ハーレム'},\n",
       " {'genre_id': '6974', 'genre': '花嫁'},\n",
       " {'genre_id': '1012', 'genre': 'バスガイド'},\n",
       " {'genre_id': '1023', 'genre': '秘書'},\n",
       " {'genre_id': '1039', 'genre': '人妻・主婦'},\n",
       " {'genre_id': '6164', 'genre': 'ビッチ'},\n",
       " {'genre_id': '6963', 'genre': '病院・クリニック'},\n",
       " {'genre_id': '1069', 'genre': '不倫'},\n",
       " {'genre_id': '6961', 'genre': '部活・マネージャー'},\n",
       " {'genre_id': '6946', 'genre': '部下・同僚'},\n",
       " {'genre_id': '6937', 'genre': 'ヘルス・ソープ'},\n",
       " {'genre_id': '6962', 'genre': 'ホテル'},\n",
       " {'genre_id': '4124', 'genre': 'マッサージ・リフレ'},\n",
       " {'genre_id': '1025', 'genre': '未亡人'},\n",
       " {'genre_id': '6973', 'genre': '娘・養女'},\n",
       " {'genre_id': '6971', 'genre': '胸チラ'},\n",
       " {'genre_id': '1008', 'genre': 'メイド'},\n",
       " {'genre_id': '6936', 'genre': '面接'},\n",
       " {'genre_id': '1009', 'genre': 'モデル'},\n",
       " {'genre_id': '4020', 'genre': '野外・露出'},\n",
       " {'genre_id': '6933', 'genre': 'ヨガ'},\n",
       " {'genre_id': '4005', 'genre': '乱交'},\n",
       " {'genre_id': '6975', 'genre': '旅行'},\n",
       " {'genre_id': '1011', 'genre': 'レースクィーン'},\n",
       " {'genre_id': '1020', 'genre': '若妻・幼妻'}]"
      ]
     },
     "execution_count": 18,
     "metadata": {},
     "output_type": "execute_result"
    }
   ],
   "source": [
    "dd"
   ]
  },
  {
   "cell_type": "code",
   "execution_count": 19,
   "id": "3087517b-1c7c-4894-a7cf-5dfdf48cb0fa",
   "metadata": {
    "tags": []
   },
   "outputs": [
    {
     "name": "stdout",
     "output_type": "stream",
     "text": [
      "('4118', 'アイドル・芸能人')\n",
      "('6968', 'アクメ・オーガズム')\n",
      "('6965', 'アスリート')\n",
      "('525', 'アニメキャラクター')\n",
      "('4057', '姉・妹')\n",
      "('4122', 'イタズラ')\n",
      "('1004', 'インストラクター')\n",
      "('1040', 'ウェイトレス')\n",
      "('6942', '受付嬢')\n",
      "('4119', 'エステ')\n",
      "('6967', 'M女')\n",
      "('1001', 'OL')\n",
      "('1032', 'お母さん')\n",
      "('1003', '女将・女主人')\n",
      "('1083', '幼なじみ')\n",
      "('6947', 'お婆ちゃん')\n",
      "('6943', '叔母さん')\n",
      "('528', 'お姫様')\n",
      "('6969', 'お風呂')\n",
      "('4140', '温泉')\n",
      "('1016', '女教師')\n",
      "('6945', '女上司')\n",
      "('4026', 'カーセックス')\n",
      "('4123', 'カップル')\n",
      "('1022', '家庭教師')\n",
      "('1013', '看護婦・ナース')\n",
      "('1036', 'キャバ嬢・風俗嬢')\n",
      "('1005', 'キャンギャル')\n",
      "('4002', '近親相姦')\n",
      "('524', '義母')\n",
      "('1041', 'コンパニオン')\n",
      "('5063', '主観')\n",
      "('1026', '職業色々')\n",
      "('4058', 'ショタ')\n",
      "('6966', '白目・失神')\n",
      "('1014', '熟女')\n",
      "('1015', '女医')\n",
      "('1017', '女子アナ')\n",
      "('1018', '女子校生')\n",
      "('1019', '女子大生')\n",
      "('1007', 'スチュワーデス')\n",
      "('6955', 'セレブ')\n",
      "('6959', 'チアガール')\n",
      "('1031', '痴女')\n",
      "('2019', 'ツンデレ')\n",
      "('6956', 'デート')\n",
      "('4021', '盗撮・のぞき')\n",
      "('4111', '寝取り・寝取られ・NTR')\n",
      "('6964', 'ノーパン')\n",
      "('6972', 'ノーブラ')\n",
      "('6957', '飲み会・合コン')\n",
      "('5071', 'ハーレム')\n",
      "('6974', '花嫁')\n",
      "('1012', 'バスガイド')\n",
      "('1023', '秘書')\n",
      "('1039', '人妻・主婦')\n",
      "('6164', 'ビッチ')\n",
      "('6963', '病院・クリニック')\n",
      "('1069', '不倫')\n",
      "('6961', '部活・マネージャー')\n",
      "('6946', '部下・同僚')\n",
      "('6937', 'ヘルス・ソープ')\n",
      "('6962', 'ホテル')\n",
      "('4124', 'マッサージ・リフレ')\n",
      "('1025', '未亡人')\n",
      "('6973', '娘・養女')\n",
      "('6971', '胸チラ')\n",
      "('1008', 'メイド')\n",
      "('6936', '面接')\n",
      "('1009', 'モデル')\n",
      "('4020', '野外・露出')\n",
      "('6933', 'ヨガ')\n",
      "('4005', '乱交')\n",
      "('6975', '旅行')\n",
      "('1011', 'レースクィーン')\n",
      "('1020', '若妻・幼妻')\n"
     ]
    }
   ],
   "source": [
    "genre_name = []\n",
    "for _ in dd:\n",
    "    #print(_['genre_id'] + _['genre'])\n",
    "    genre_name.append(list(_.values()))\n",
    "    #result = list(my_list[0].items())\n",
    "    print(tuple(_.values()))"
   ]
  },
  {
   "cell_type": "code",
   "execution_count": 20,
   "id": "1a9f5d32-2116-42b0-a848-a08b7a79c3ca",
   "metadata": {
    "tags": []
   },
   "outputs": [
    {
     "data": {
      "text/plain": [
       "[['4118', 'アイドル・芸能人'],\n",
       " ['6968', 'アクメ・オーガズム'],\n",
       " ['6965', 'アスリート'],\n",
       " ['525', 'アニメキャラクター'],\n",
       " ['4057', '姉・妹'],\n",
       " ['4122', 'イタズラ'],\n",
       " ['1004', 'インストラクター'],\n",
       " ['1040', 'ウェイトレス'],\n",
       " ['6942', '受付嬢'],\n",
       " ['4119', 'エステ'],\n",
       " ['6967', 'M女'],\n",
       " ['1001', 'OL'],\n",
       " ['1032', 'お母さん'],\n",
       " ['1003', '女将・女主人'],\n",
       " ['1083', '幼なじみ'],\n",
       " ['6947', 'お婆ちゃん'],\n",
       " ['6943', '叔母さん'],\n",
       " ['528', 'お姫様'],\n",
       " ['6969', 'お風呂'],\n",
       " ['4140', '温泉'],\n",
       " ['1016', '女教師'],\n",
       " ['6945', '女上司'],\n",
       " ['4026', 'カーセックス'],\n",
       " ['4123', 'カップル'],\n",
       " ['1022', '家庭教師'],\n",
       " ['1013', '看護婦・ナース'],\n",
       " ['1036', 'キャバ嬢・風俗嬢'],\n",
       " ['1005', 'キャンギャル'],\n",
       " ['4002', '近親相姦'],\n",
       " ['524', '義母'],\n",
       " ['1041', 'コンパニオン'],\n",
       " ['5063', '主観'],\n",
       " ['1026', '職業色々'],\n",
       " ['4058', 'ショタ'],\n",
       " ['6966', '白目・失神'],\n",
       " ['1014', '熟女'],\n",
       " ['1015', '女医'],\n",
       " ['1017', '女子アナ'],\n",
       " ['1018', '女子校生'],\n",
       " ['1019', '女子大生'],\n",
       " ['1007', 'スチュワーデス'],\n",
       " ['6955', 'セレブ'],\n",
       " ['6959', 'チアガール'],\n",
       " ['1031', '痴女'],\n",
       " ['2019', 'ツンデレ'],\n",
       " ['6956', 'デート'],\n",
       " ['4021', '盗撮・のぞき'],\n",
       " ['4111', '寝取り・寝取られ・NTR'],\n",
       " ['6964', 'ノーパン'],\n",
       " ['6972', 'ノーブラ'],\n",
       " ['6957', '飲み会・合コン'],\n",
       " ['5071', 'ハーレム'],\n",
       " ['6974', '花嫁'],\n",
       " ['1012', 'バスガイド'],\n",
       " ['1023', '秘書'],\n",
       " ['1039', '人妻・主婦'],\n",
       " ['6164', 'ビッチ'],\n",
       " ['6963', '病院・クリニック'],\n",
       " ['1069', '不倫'],\n",
       " ['6961', '部活・マネージャー'],\n",
       " ['6946', '部下・同僚'],\n",
       " ['6937', 'ヘルス・ソープ'],\n",
       " ['6962', 'ホテル'],\n",
       " ['4124', 'マッサージ・リフレ'],\n",
       " ['1025', '未亡人'],\n",
       " ['6973', '娘・養女'],\n",
       " ['6971', '胸チラ'],\n",
       " ['1008', 'メイド'],\n",
       " ['6936', '面接'],\n",
       " ['1009', 'モデル'],\n",
       " ['4020', '野外・露出'],\n",
       " ['6933', 'ヨガ'],\n",
       " ['4005', '乱交'],\n",
       " ['6975', '旅行'],\n",
       " ['1011', 'レースクィーン'],\n",
       " ['1020', '若妻・幼妻']]"
      ]
     },
     "execution_count": 20,
     "metadata": {},
     "output_type": "execute_result"
    }
   ],
   "source": [
    "genre_name"
   ]
  },
  {
   "cell_type": "code",
   "execution_count": 21,
   "id": "6d77898f-7c46-441c-8b53-add8f31e2295",
   "metadata": {},
   "outputs": [],
   "source": [
    "with open('genre_シチュエーション.csv', 'w') as file:\n",
    "    writer = csv.writer(file, lineterminator='\\n')\n",
    "    writer.writerows(genre_name)"
   ]
  },
  {
   "cell_type": "code",
   "execution_count": 22,
   "id": "937e657a-7ff6-44af-9dd7-ab8a13dccba6",
   "metadata": {},
   "outputs": [],
   "source": [
    "genre_id = [d.get('genre_id') for d in dic_01[0]['genres']]"
   ]
  },
  {
   "cell_type": "code",
   "execution_count": 23,
   "id": "45ed20ee-1aea-4e82-8aa9-6743b44265a3",
   "metadata": {},
   "outputs": [],
   "source": [
    "genre = [d.get('genre') for d in dic_01[0]['genres']]"
   ]
  },
  {
   "cell_type": "code",
   "execution_count": 24,
   "id": "f94e3b0c-44ff-46db-8c45-97b645288870",
   "metadata": {
    "collapsed": true,
    "jupyter": {
     "outputs_hidden": true
    },
    "tags": []
   },
   "outputs": [
    {
     "data": {
      "text/plain": [
       "['4118',\n",
       " '6968',\n",
       " '6965',\n",
       " '525',\n",
       " '4057',\n",
       " '4122',\n",
       " '1004',\n",
       " '1040',\n",
       " '6942',\n",
       " '4119',\n",
       " '6967',\n",
       " '1001',\n",
       " '1032',\n",
       " '1003',\n",
       " '1083',\n",
       " '6947',\n",
       " '6943',\n",
       " '528',\n",
       " '6969',\n",
       " '4140',\n",
       " '1016',\n",
       " '6945',\n",
       " '4026',\n",
       " '4123',\n",
       " '1022',\n",
       " '1013',\n",
       " '1036',\n",
       " '1005',\n",
       " '4002',\n",
       " '524',\n",
       " '1041',\n",
       " '5063',\n",
       " '1026',\n",
       " '4058',\n",
       " '6966',\n",
       " '1014',\n",
       " '1015',\n",
       " '1017',\n",
       " '1018',\n",
       " '1019',\n",
       " '1007',\n",
       " '6955',\n",
       " '6959',\n",
       " '1031',\n",
       " '2019',\n",
       " '6956',\n",
       " '4021',\n",
       " '4111',\n",
       " '6964',\n",
       " '6972',\n",
       " '6957',\n",
       " '5071',\n",
       " '6974',\n",
       " '1012',\n",
       " '1023',\n",
       " '1039',\n",
       " '6164',\n",
       " '6963',\n",
       " '1069',\n",
       " '6961',\n",
       " '6946',\n",
       " '6937',\n",
       " '6962',\n",
       " '4124',\n",
       " '1025',\n",
       " '6973',\n",
       " '6971',\n",
       " '1008',\n",
       " '6936',\n",
       " '1009',\n",
       " '4020',\n",
       " '6933',\n",
       " '4005',\n",
       " '6975',\n",
       " '1011',\n",
       " '1020']"
      ]
     },
     "execution_count": 24,
     "metadata": {},
     "output_type": "execute_result"
    }
   ],
   "source": [
    "genre_id"
   ]
  },
  {
   "cell_type": "code",
   "execution_count": 25,
   "id": "96609472-43bd-4fe8-8c10-d643e48cd39f",
   "metadata": {},
   "outputs": [
    {
     "name": "stdout",
     "output_type": "stream",
     "text": [
      "<class 'list'>\n"
     ]
    }
   ],
   "source": [
    "print(type(genre))"
   ]
  },
  {
   "cell_type": "code",
   "execution_count": 26,
   "id": "01b6d355-9772-45b8-ab74-8378ea69f98d",
   "metadata": {},
   "outputs": [
    {
     "name": "stdout",
     "output_type": "stream",
     "text": [
      "dict_items([('id', 1), ('name', 'Alice')])\n",
      "dict_items([('id', 2), ('name', 'Bob')])\n",
      "dict_items([('id', 3), ('name', 'Carl')])\n"
     ]
    }
   ],
   "source": [
    "my_list = [\n",
    "    {'id': 1, 'name': 'Alice'},\n",
    "    {'id': 2, 'name': 'Bob'},\n",
    "    {'id': 3, 'name': 'Carl'},\n",
    "]\n",
    "\n",
    "for person in my_list:\n",
    "    print(person.items())\n"
   ]
  },
  {
   "cell_type": "code",
   "execution_count": 28,
   "id": "c02e8a27-299a-47ec-a777-c668358796e3",
   "metadata": {},
   "outputs": [],
   "source": [
    "def genre_name_list():\n",
    "    # ジャンル別のURLは直接取得しているのではなく、baseURLとジャンルIDを使用して組立る。こっちのほうが手っ取り早い。\n",
    "    url = \"https://www.dmm.co.jp/digital/videoc/-/genre/\"\n",
    "    genre_base_url = \"https://www.dmm.co.jp/digital/videoa/-/list/=/article=keyword/id=\"\n",
    "    res = requests.get(url)\n",
    "    soup = BeautifulSoup(res.text, 'html.parser')\n",
    "    firstpage_url = soup.find('a', class_=\"ageCheck__link ageCheck__link--r18\").get('href')\n",
    "    res2 = requests.get(firstpage_url)\n",
    "    soup2 = BeautifulSoup(res2.text, 'html.parser')\n",
    "    #ここで取得される構造は辞書構造に見えるが実はタプルと判定される事に注意！！\n",
    "    data = soup2.find(\"div\", id=\"genre_list_box\").encode().decode('unicode-escape')\n",
    "    #正規表現で{}囲まれている部分を抽出。リストで取得される。インデックスは１まで\n",
    "    dic = re.findall(r'\\{.*\\}', data) \n",
    "    \n",
    "    dic1 = dic[1] #ここが取得したい部分でstrなので、まだ値をキーを使用して取り出せない\n",
    "    dd = dic_01[0]['genres']\n",
    "    \n",
    "    genre_name = []\n",
    "    for _ in dd:\n",
    "        #print(_['genre_id'] + _['genre'])\n",
    "        genre_name.append(list(_.values()))\n",
    "        #result = list(my_list[0].items())\n",
    "        print(tuple(_.values()))\n",
    "    #作成した配列を\n",
    "    with open('genre_シチュエーション.csv', 'w') as file:\n",
    "        writer = csv.writer(file, lineterminator='\\n')\n",
    "        writer.writerows(genre_name)\n",
    "    #各ジャンルのURLを作成\n",
    "    genre_url = []\n",
    "    for _ in genre_name:\n",
    "        genre_url.append(genre_base_url + _[0] + \"/\")\n",
    "    \n",
    "    return genre_url"
   ]
  },
  {
   "cell_type": "code",
   "execution_count": 143,
   "id": "c873f99b-3737-4a1a-b887-1763b55d6148",
   "metadata": {
    "collapsed": true,
    "jupyter": {
     "outputs_hidden": true
    },
    "tags": []
   },
   "outputs": [
    {
     "name": "stdout",
     "output_type": "stream",
     "text": [
      "('4118', 'アイドル・芸能人')\n",
      "('6968', 'アクメ・オーガズム')\n",
      "('6965', 'アスリート')\n",
      "('525', 'アニメキャラクター')\n",
      "('4057', '姉・妹')\n",
      "('4122', 'イタズラ')\n",
      "('1004', 'インストラクター')\n",
      "('1040', 'ウェイトレス')\n",
      "('4119', 'エステ')\n",
      "('6967', 'M女')\n",
      "('1001', 'OL')\n",
      "('1032', 'お母さん')\n",
      "('1003', '女将・女主人')\n",
      "('1083', '幼なじみ')\n",
      "('6947', 'お婆ちゃん')\n",
      "('6943', '叔母さん')\n",
      "('528', 'お姫様')\n",
      "('6969', 'お風呂')\n",
      "('4140', '温泉')\n",
      "('1016', '女教師')\n",
      "('6945', '女上司')\n",
      "('4026', 'カーセックス')\n",
      "('4123', 'カップル')\n",
      "('1022', '家庭教師')\n",
      "('1013', '看護婦・ナース')\n",
      "('1036', 'キャバ嬢・風俗嬢')\n",
      "('1005', 'キャンギャル')\n",
      "('4002', '近親相姦')\n",
      "('524', '義母')\n",
      "('1041', 'コンパニオン')\n",
      "('5063', '主観')\n",
      "('1026', '職業色々')\n",
      "('4058', 'ショタ')\n",
      "('6966', '白目・失神')\n",
      "('1014', '熟女')\n",
      "('1015', '女医')\n",
      "('1017', '女子アナ')\n",
      "('1019', '女子大生')\n",
      "('1018', '女子校生')\n",
      "('1007', 'スチュワーデス')\n",
      "('6955', 'セレブ')\n",
      "('6959', 'チアガール')\n",
      "('1031', '痴女')\n",
      "('2019', 'ツンデレ')\n",
      "('6956', 'デート')\n",
      "('4021', '盗撮・のぞき')\n",
      "('4111', '寝取り・寝取られ・NTR')\n",
      "('6964', 'ノーパン')\n",
      "('6972', 'ノーブラ')\n",
      "('6957', '飲み会・合コン')\n",
      "('5071', 'ハーレム')\n",
      "('6974', '花嫁')\n",
      "('1012', 'バスガイド')\n",
      "('1023', '秘書')\n",
      "('1039', '人妻・主婦')\n",
      "('6164', 'ビッチ')\n",
      "('6963', '病院・クリニック')\n",
      "('1069', '不倫')\n",
      "('6961', '部活・マネージャー')\n",
      "('6946', '部下・同僚')\n",
      "('6937', 'ヘルス・ソープ')\n",
      "('6962', 'ホテル')\n",
      "('4124', 'マッサージ・リフレ')\n",
      "('1025', '未亡人')\n",
      "('6973', '娘・養女')\n",
      "('6971', '胸チラ')\n",
      "('1008', 'メイド')\n",
      "('6936', '面接')\n",
      "('1009', 'モデル')\n",
      "('4020', '野外・露出')\n",
      "('6933', 'ヨガ')\n",
      "('4005', '乱交')\n",
      "('6975', '旅行')\n",
      "('1011', 'レースクィーン')\n",
      "('1020', '若妻・幼妻')\n"
     ]
    }
   ],
   "source": [
    "gn = genre_name_list()"
   ]
  },
  {
   "cell_type": "code",
   "execution_count": 144,
   "id": "86b0ca09-55de-4ce6-ba31-31f3338e44b2",
   "metadata": {},
   "outputs": [
    {
     "data": {
      "text/plain": [
       "['https://www.dmm.co.jp/digital/videoa/-/list/=/article=keyword/id=4118/',\n",
       " 'https://www.dmm.co.jp/digital/videoa/-/list/=/article=keyword/id=6968/',\n",
       " 'https://www.dmm.co.jp/digital/videoa/-/list/=/article=keyword/id=6965/',\n",
       " 'https://www.dmm.co.jp/digital/videoa/-/list/=/article=keyword/id=525/',\n",
       " 'https://www.dmm.co.jp/digital/videoa/-/list/=/article=keyword/id=4057/',\n",
       " 'https://www.dmm.co.jp/digital/videoa/-/list/=/article=keyword/id=4122/',\n",
       " 'https://www.dmm.co.jp/digital/videoa/-/list/=/article=keyword/id=1004/',\n",
       " 'https://www.dmm.co.jp/digital/videoa/-/list/=/article=keyword/id=1040/',\n",
       " 'https://www.dmm.co.jp/digital/videoa/-/list/=/article=keyword/id=4119/',\n",
       " 'https://www.dmm.co.jp/digital/videoa/-/list/=/article=keyword/id=6967/',\n",
       " 'https://www.dmm.co.jp/digital/videoa/-/list/=/article=keyword/id=1001/',\n",
       " 'https://www.dmm.co.jp/digital/videoa/-/list/=/article=keyword/id=1032/',\n",
       " 'https://www.dmm.co.jp/digital/videoa/-/list/=/article=keyword/id=1003/',\n",
       " 'https://www.dmm.co.jp/digital/videoa/-/list/=/article=keyword/id=1083/',\n",
       " 'https://www.dmm.co.jp/digital/videoa/-/list/=/article=keyword/id=6947/',\n",
       " 'https://www.dmm.co.jp/digital/videoa/-/list/=/article=keyword/id=6943/',\n",
       " 'https://www.dmm.co.jp/digital/videoa/-/list/=/article=keyword/id=528/',\n",
       " 'https://www.dmm.co.jp/digital/videoa/-/list/=/article=keyword/id=6969/',\n",
       " 'https://www.dmm.co.jp/digital/videoa/-/list/=/article=keyword/id=4140/',\n",
       " 'https://www.dmm.co.jp/digital/videoa/-/list/=/article=keyword/id=1016/',\n",
       " 'https://www.dmm.co.jp/digital/videoa/-/list/=/article=keyword/id=6945/',\n",
       " 'https://www.dmm.co.jp/digital/videoa/-/list/=/article=keyword/id=4026/',\n",
       " 'https://www.dmm.co.jp/digital/videoa/-/list/=/article=keyword/id=4123/',\n",
       " 'https://www.dmm.co.jp/digital/videoa/-/list/=/article=keyword/id=1022/',\n",
       " 'https://www.dmm.co.jp/digital/videoa/-/list/=/article=keyword/id=1013/',\n",
       " 'https://www.dmm.co.jp/digital/videoa/-/list/=/article=keyword/id=1036/',\n",
       " 'https://www.dmm.co.jp/digital/videoa/-/list/=/article=keyword/id=1005/',\n",
       " 'https://www.dmm.co.jp/digital/videoa/-/list/=/article=keyword/id=4002/',\n",
       " 'https://www.dmm.co.jp/digital/videoa/-/list/=/article=keyword/id=524/',\n",
       " 'https://www.dmm.co.jp/digital/videoa/-/list/=/article=keyword/id=1041/',\n",
       " 'https://www.dmm.co.jp/digital/videoa/-/list/=/article=keyword/id=5063/',\n",
       " 'https://www.dmm.co.jp/digital/videoa/-/list/=/article=keyword/id=1026/',\n",
       " 'https://www.dmm.co.jp/digital/videoa/-/list/=/article=keyword/id=4058/',\n",
       " 'https://www.dmm.co.jp/digital/videoa/-/list/=/article=keyword/id=6966/',\n",
       " 'https://www.dmm.co.jp/digital/videoa/-/list/=/article=keyword/id=1014/',\n",
       " 'https://www.dmm.co.jp/digital/videoa/-/list/=/article=keyword/id=1015/',\n",
       " 'https://www.dmm.co.jp/digital/videoa/-/list/=/article=keyword/id=1017/',\n",
       " 'https://www.dmm.co.jp/digital/videoa/-/list/=/article=keyword/id=1019/',\n",
       " 'https://www.dmm.co.jp/digital/videoa/-/list/=/article=keyword/id=1018/',\n",
       " 'https://www.dmm.co.jp/digital/videoa/-/list/=/article=keyword/id=1007/',\n",
       " 'https://www.dmm.co.jp/digital/videoa/-/list/=/article=keyword/id=6955/',\n",
       " 'https://www.dmm.co.jp/digital/videoa/-/list/=/article=keyword/id=6959/',\n",
       " 'https://www.dmm.co.jp/digital/videoa/-/list/=/article=keyword/id=1031/',\n",
       " 'https://www.dmm.co.jp/digital/videoa/-/list/=/article=keyword/id=2019/',\n",
       " 'https://www.dmm.co.jp/digital/videoa/-/list/=/article=keyword/id=6956/',\n",
       " 'https://www.dmm.co.jp/digital/videoa/-/list/=/article=keyword/id=4021/',\n",
       " 'https://www.dmm.co.jp/digital/videoa/-/list/=/article=keyword/id=4111/',\n",
       " 'https://www.dmm.co.jp/digital/videoa/-/list/=/article=keyword/id=6964/',\n",
       " 'https://www.dmm.co.jp/digital/videoa/-/list/=/article=keyword/id=6972/',\n",
       " 'https://www.dmm.co.jp/digital/videoa/-/list/=/article=keyword/id=6957/',\n",
       " 'https://www.dmm.co.jp/digital/videoa/-/list/=/article=keyword/id=5071/',\n",
       " 'https://www.dmm.co.jp/digital/videoa/-/list/=/article=keyword/id=6974/',\n",
       " 'https://www.dmm.co.jp/digital/videoa/-/list/=/article=keyword/id=1012/',\n",
       " 'https://www.dmm.co.jp/digital/videoa/-/list/=/article=keyword/id=1023/',\n",
       " 'https://www.dmm.co.jp/digital/videoa/-/list/=/article=keyword/id=1039/',\n",
       " 'https://www.dmm.co.jp/digital/videoa/-/list/=/article=keyword/id=6164/',\n",
       " 'https://www.dmm.co.jp/digital/videoa/-/list/=/article=keyword/id=6963/',\n",
       " 'https://www.dmm.co.jp/digital/videoa/-/list/=/article=keyword/id=1069/',\n",
       " 'https://www.dmm.co.jp/digital/videoa/-/list/=/article=keyword/id=6961/',\n",
       " 'https://www.dmm.co.jp/digital/videoa/-/list/=/article=keyword/id=6946/',\n",
       " 'https://www.dmm.co.jp/digital/videoa/-/list/=/article=keyword/id=6937/',\n",
       " 'https://www.dmm.co.jp/digital/videoa/-/list/=/article=keyword/id=6962/',\n",
       " 'https://www.dmm.co.jp/digital/videoa/-/list/=/article=keyword/id=4124/',\n",
       " 'https://www.dmm.co.jp/digital/videoa/-/list/=/article=keyword/id=1025/',\n",
       " 'https://www.dmm.co.jp/digital/videoa/-/list/=/article=keyword/id=6973/',\n",
       " 'https://www.dmm.co.jp/digital/videoa/-/list/=/article=keyword/id=6971/',\n",
       " 'https://www.dmm.co.jp/digital/videoa/-/list/=/article=keyword/id=1008/',\n",
       " 'https://www.dmm.co.jp/digital/videoa/-/list/=/article=keyword/id=6936/',\n",
       " 'https://www.dmm.co.jp/digital/videoa/-/list/=/article=keyword/id=1009/',\n",
       " 'https://www.dmm.co.jp/digital/videoa/-/list/=/article=keyword/id=4020/',\n",
       " 'https://www.dmm.co.jp/digital/videoa/-/list/=/article=keyword/id=6933/',\n",
       " 'https://www.dmm.co.jp/digital/videoa/-/list/=/article=keyword/id=4005/',\n",
       " 'https://www.dmm.co.jp/digital/videoa/-/list/=/article=keyword/id=6975/',\n",
       " 'https://www.dmm.co.jp/digital/videoa/-/list/=/article=keyword/id=1011/',\n",
       " 'https://www.dmm.co.jp/digital/videoa/-/list/=/article=keyword/id=1020/']"
      ]
     },
     "execution_count": 144,
     "metadata": {},
     "output_type": "execute_result"
    }
   ],
   "source": [
    "gn"
   ]
  },
  {
   "cell_type": "code",
   "execution_count": null,
   "id": "ab2507ef-3c79-4dc0-b5f4-00e7c7c0b23c",
   "metadata": {},
   "outputs": [],
   "source": []
  }
 ],
 "metadata": {
  "kernelspec": {
   "display_name": "Python 3 (ipykernel)",
   "language": "python",
   "name": "python3"
  },
  "language_info": {
   "codemirror_mode": {
    "name": "ipython",
    "version": 3
   },
   "file_extension": ".py",
   "mimetype": "text/x-python",
   "name": "python",
   "nbconvert_exporter": "python",
   "pygments_lexer": "ipython3",
   "version": "3.9.8"
  }
 },
 "nbformat": 4,
 "nbformat_minor": 5
}
