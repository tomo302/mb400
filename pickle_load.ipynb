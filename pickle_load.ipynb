{
 "cells": [
  {
   "cell_type": "code",
   "execution_count": 13,
   "id": "0f823e83-b74a-4a54-aedd-7af1772cd02b",
   "metadata": {},
   "outputs": [
    {
     "name": "stdout",
     "output_type": "stream",
     "text": [
      "C:/Users/i3-12100/git/mb400/OK_pickle_data_bynary\\AV女優 [ま].pickle\n"
     ]
    },
    {
     "ename": "EOFError",
     "evalue": "Ran out of input",
     "output_type": "error",
     "traceback": [
      "\u001b[1;31m---------------------------------------------------------------------------\u001b[0m",
      "\u001b[1;31mEOFError\u001b[0m                                  Traceback (most recent call last)",
      "Cell \u001b[1;32mIn [13], line 21\u001b[0m\n\u001b[0;32m     16\u001b[0m \u001b[38;5;66;03m#full_size = 0\u001b[39;00m\n\u001b[0;32m     18\u001b[0m \u001b[38;5;28;01mwith\u001b[39;00m \u001b[38;5;28mopen\u001b[39m(txt_files[\u001b[38;5;241m3\u001b[39m],\u001b[38;5;124m'\u001b[39m\u001b[38;5;124mrb\u001b[39m\u001b[38;5;124m'\u001b[39m) \u001b[38;5;28;01mas\u001b[39;00m f:\n\u001b[1;32m---> 21\u001b[0m \tx \u001b[38;5;241m=\u001b[39m \u001b[43mpickle\u001b[49m\u001b[38;5;241;43m.\u001b[39;49m\u001b[43mload\u001b[49m\u001b[43m(\u001b[49m\u001b[43mf\u001b[49m\u001b[43m)\u001b[49m\n\u001b[0;32m     22\u001b[0m \t\u001b[38;5;28mprint\u001b[39m(x\u001b[38;5;241m.\u001b[39mfind_all(\u001b[38;5;124m'\u001b[39m\u001b[38;5;124mul\u001b[39m\u001b[38;5;124m'\u001b[39m, class_ \u001b[38;5;241m=\u001b[39m \u001b[38;5;124m'\u001b[39m\u001b[38;5;124md-item act-box-100 group\u001b[39m\u001b[38;5;124m'\u001b[39m))\n\u001b[0;32m     23\u001b[0m \t\u001b[38;5;66;03m#print(x)\u001b[39;00m\n",
      "\u001b[1;31mEOFError\u001b[0m: Ran out of input"
     ]
    }
   ],
   "source": [
    "#!/usr/bin/env python\n",
    "# coding: utf-8\n",
    "import os\n",
    "import glob\n",
    "import pickle\n",
    "import sys\n",
    "import re \n",
    "\n",
    "#from pickle_save import soup2\n",
    "sys.setrecursionlimit(20000)\n",
    "dir_path = \"C:/Users/i3-12100/git/mb400/OK_pickle_data_bynary/*pickle\" ##ワイルドカードを設定「*txt」\n",
    "#type(list)\n",
    "txt_files = glob.glob(dir_path)\n",
    "#txt_files = txt_files[0]\n",
    "print(txt_files[3])\n",
    "#full_size = 0\n",
    "\n",
    "with open(txt_files[3],'rb') as f:\n",
    "\t\n",
    "\n",
    "\tx = pickle.load(f)\n",
    "\tprint(x.find_all('ul', class_ = 'd-item act-box-100 group'))\n",
    "\t#print(x)\n",
    "print(\"aaaaaa\")"
   ]
  },
  {
   "cell_type": "raw",
   "id": "2158bed3-f7c3-4323-9ef4-deacbf8113f3",
   "metadata": {},
   "source": []
  },
  {
   "cell_type": "code",
   "execution_count": null,
   "id": "a7721806-6321-4cf9-a4b8-df72ee5aadbe",
   "metadata": {},
   "outputs": [],
   "source": []
  },
  {
   "cell_type": "code",
   "execution_count": null,
   "id": "aa971ff5-7661-4c6c-98a4-43d7fd9f2a3b",
   "metadata": {},
   "outputs": [],
   "source": []
  }
 ],
 "metadata": {
  "kernelspec": {
   "display_name": "Python 3 (ipykernel)",
   "language": "python",
   "name": "python3"
  },
  "language_info": {
   "codemirror_mode": {
    "name": "ipython",
    "version": 3
   },
   "file_extension": ".py",
   "mimetype": "text/x-python",
   "name": "python",
   "nbconvert_exporter": "python",
   "pygments_lexer": "ipython3",
   "version": "3.8.13"
  }
 },
 "nbformat": 4,
 "nbformat_minor": 5
}
