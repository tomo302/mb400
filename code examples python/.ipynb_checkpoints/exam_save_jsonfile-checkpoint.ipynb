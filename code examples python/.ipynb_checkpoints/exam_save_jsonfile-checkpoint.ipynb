{
 "cells": [
  {
   "cell_type": "code",
   "execution_count": 12,
   "id": "9a4280a7-dab7-440d-9005-2a9acbbb0d88",
   "metadata": {},
   "outputs": [
    {
     "name": "stdout",
     "output_type": "stream",
     "text": [
      "<class 'str'>\n"
     ]
    }
   ],
   "source": [
    "#２次元リストを任意のフォーマットでjson形式で出力\n",
    "\n",
    "from itertools import groupby\n",
    "from operator import itemgetter\n",
    "import json\n",
    "\n",
    "tbl = [\n",
    "  ['部署A', 'ID100', 10],\n",
    "  ['部署A', 'ID101', 11],\n",
    "  ['部署B', 'ID200',  8],\n",
    "  ['部署B', 'ID201', 30],\n",
    "]\n",
    "\n",
    "lst = [{\n",
    "        'department': dep,\n",
    "        'data': [{'ID': d[1], 'value': d[2]} for d in data]\n",
    "       } for dep, data in groupby(tbl, key=itemgetter(0))]\n",
    "\n",
    "json_text = json.dumps(lst, ensure_ascii=False, indent=4)\n",
    "print(type(json_text[0]))"
   ]
  },
  {
   "cell_type": "code",
   "execution_count": 22,
   "id": "4259c66d-99db-4c80-8185-397ff69cd3e6",
   "metadata": {},
   "outputs": [
    {
     "name": "stdout",
     "output_type": "stream",
     "text": [
      "[\n",
      "    {\n",
      "        \"department\": \"部署A\",\n",
      "        \"data\": [\n",
      "            {\n",
      "                \"ID\": \"ID100\",\n",
      "                \"value\": 10\n",
      "            },\n",
      "            {\n",
      "                \"ID\": \"ID101\",\n",
      "                \"value\": 11\n",
      "            }\n",
      "        ]\n",
      "    },\n",
      "    {\n",
      "        \"department\": \"部署B\",\n",
      "        \"data\": [\n",
      "            {\n",
      "                \"ID\": \"ID200\",\n",
      "                \"value\": 8\n",
      "            },\n",
      "            {\n",
      "                \"ID\": \"ID201\",\n",
      "                \"value\": 30\n",
      "            }\n",
      "        ]\n",
      "    }\n",
      "]\n"
     ]
    }
   ],
   "source": [
    "print(json_text)"
   ]
  },
  {
   "cell_type": "code",
   "execution_count": 20,
   "id": "a8f184f5-fcb0-4824-acde-68d3800f7b91",
   "metadata": {},
   "outputs": [],
   "source": [
    "#このコードで出力されるファイルは意味不明、使えない！！！！\n",
    "with open('sample.json', 'w') as fp:\n",
    "    json.dump(json_text, fp, indent=4, ensure_ascii=False)"
   ]
  },
  {
   "cell_type": "code",
   "execution_count": 17,
   "id": "3683c74b-dc57-4223-ac2c-1b56b1f891d0",
   "metadata": {},
   "outputs": [],
   "source": [
    "import pickle\n",
    "with open('data.json', 'wb') as fp:\n",
    "    pickle.dump(json_text, fp)"
   ]
  },
  {
   "cell_type": "code",
   "execution_count": 18,
   "id": "ad1b71c3-6b45-46f2-a88e-da7494243404",
   "metadata": {},
   "outputs": [
    {
     "name": "stdout",
     "output_type": "stream",
     "text": [
      "[\n",
      "    {\n",
      "        \"department\": \"部署A\",\n",
      "        \"data\": [\n",
      "            {\n",
      "                \"ID\": \"ID100\",\n",
      "                \"value\": 10\n",
      "            },\n",
      "            {\n",
      "                \"ID\": \"ID101\",\n",
      "                \"value\": 11\n",
      "            }\n",
      "        ]\n",
      "    },\n",
      "    {\n",
      "        \"department\": \"部署B\",\n",
      "        \"data\": [\n",
      "            {\n",
      "                \"ID\": \"ID200\",\n",
      "                \"value\": 8\n",
      "            },\n",
      "            {\n",
      "                \"ID\": \"ID201\",\n",
      "                \"value\": 30\n",
      "            }\n",
      "        ]\n",
      "    }\n",
      "]\n"
     ]
    }
   ],
   "source": [
    "with open('data.json', 'rb') as fp:\n",
    "    data = pickle.load(fp)\n",
    "print(data)"
   ]
  },
  {
   "cell_type": "code",
   "execution_count": 21,
   "id": "037e5265-0960-4961-a890-084506075d16",
   "metadata": {},
   "outputs": [
    {
     "data": {
      "text/plain": [
       "datetime.datetime(2022, 9, 11, 13, 42, 57, 237933)"
      ]
     },
     "execution_count": 21,
     "metadata": {},
     "output_type": "execute_result"
    }
   ],
   "source": [
    "from datetime import datetime\n",
    "datetime.now()"
   ]
  },
  {
   "cell_type": "code",
   "execution_count": null,
   "id": "721c5f17-c73c-453f-902b-6638e6afd360",
   "metadata": {},
   "outputs": [],
   "source": []
  }
 ],
 "metadata": {
  "kernelspec": {
   "display_name": "Python 3 (ipykernel)",
   "language": "python",
   "name": "python3"
  },
  "language_info": {
   "codemirror_mode": {
    "name": "ipython",
    "version": 3
   },
   "file_extension": ".py",
   "mimetype": "text/x-python",
   "name": "python",
   "nbconvert_exporter": "python",
   "pygments_lexer": "ipython3",
   "version": "3.9.8"
  }
 },
 "nbformat": 4,
 "nbformat_minor": 5
}
