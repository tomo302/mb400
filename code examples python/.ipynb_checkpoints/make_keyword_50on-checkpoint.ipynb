{
 "cells": [
  {
   "cell_type": "code",
   "execution_count": 2,
   "id": "8a59e55d-2f2f-4b65-848e-0acc75dca9dc",
   "metadata": {},
   "outputs": [],
   "source": [
    "boon = ['a', 'i', 'u', 'e', 'o']"
   ]
  },
  {
   "cell_type": "code",
   "execution_count": 3,
   "id": "3a45dfcc-b2c7-4d6d-8a43-6d7f5fc228c0",
   "metadata": {},
   "outputs": [],
   "source": [
    "sion = ['k', 's', 't', 'n', 'h', 'm', 'y', 'r', 'w']"
   ]
  },
  {
   "cell_type": "code",
   "execution_count": 33,
   "id": "3a896a2e-8b9f-4445-9583-dc0aa765494d",
   "metadata": {},
   "outputs": [],
   "source": [
    "gojyuon = []"
   ]
  },
  {
   "cell_type": "code",
   "execution_count": null,
   "id": "f0d2c38c-8896-420e-b3ac-8b5e32a27fc4",
   "metadata": {},
   "outputs": [],
   "source": []
  },
  {
   "cell_type": "code",
   "execution_count": 34,
   "id": "e2610a4e-9470-46d1-a470-6a9d464b5489",
   "metadata": {},
   "outputs": [],
   "source": [
    "for bo in boon:\n",
    "    gojyuon.append(bo)\n",
    "for row in sion:\n",
    "    for _ in boon:\n",
    "        if not (row+_)== \"wi\" and not (row+_)==\"wu\" and not (row+_)==\"we\" and not (row+_)==\"wo\":\n",
    "            #print(\"あたりです\")\n",
    "            gojyuon.append(row + _)"
   ]
  },
  {
   "cell_type": "code",
   "execution_count": 42,
   "id": "5fe15ae1-684c-4279-80e5-0b7e2427cb5d",
   "metadata": {},
   "outputs": [],
   "source": [
    "def keyword():\n",
    "    gojyuon = []\n",
    "    boon = ['a', 'i', 'u', 'e', 'o']\n",
    "    sion = ['k', 's', 't', 'n', 'h', 'm', 'y', 'r', 'w']\n",
    "    for bo in boon:\n",
    "        gojyuon.append(bo)\n",
    "    for row in sion:\n",
    "        for _ in boon:\n",
    "            if not (row+_)== \"wi\" and not (row+_)==\"wu\" and not (row+_)==\"we\" and not (row+_)==\"wo\":\n",
    "                #print(\"あたりです\")\n",
    "                gojyuon.append(row + _)\n",
    "    return gojyuon"
   ]
  },
  {
   "cell_type": "code",
   "execution_count": 43,
   "id": "7d406853-4911-4d47-a3e3-aaf38f4487dc",
   "metadata": {},
   "outputs": [
    {
     "data": {
      "text/plain": [
       "['a',\n",
       " 'i',\n",
       " 'u',\n",
       " 'e',\n",
       " 'o',\n",
       " 'ka',\n",
       " 'ki',\n",
       " 'ku',\n",
       " 'ke',\n",
       " 'ko',\n",
       " 'sa',\n",
       " 'si',\n",
       " 'su',\n",
       " 'se',\n",
       " 'so',\n",
       " 'ta',\n",
       " 'ti',\n",
       " 'tu',\n",
       " 'te',\n",
       " 'to',\n",
       " 'na',\n",
       " 'ni',\n",
       " 'nu',\n",
       " 'ne',\n",
       " 'no',\n",
       " 'ha',\n",
       " 'hi',\n",
       " 'hu',\n",
       " 'he',\n",
       " 'ho',\n",
       " 'ma',\n",
       " 'mi',\n",
       " 'mu',\n",
       " 'me',\n",
       " 'mo',\n",
       " 'ya',\n",
       " 'yi',\n",
       " 'yu',\n",
       " 'ye',\n",
       " 'yo',\n",
       " 'ra',\n",
       " 'ri',\n",
       " 'ru',\n",
       " 're',\n",
       " 'ro',\n",
       " 'wa']"
      ]
     },
     "execution_count": 43,
     "metadata": {},
     "output_type": "execute_result"
    }
   ],
   "source": [
    "keyword()"
   ]
  },
  {
   "cell_type": "code",
   "execution_count": null,
   "id": "5a855d9d-3621-4125-9ff8-6ea6cf9d8ca5",
   "metadata": {},
   "outputs": [],
   "source": []
  }
 ],
 "metadata": {
  "kernelspec": {
   "display_name": "Python 3 (ipykernel)",
   "language": "python",
   "name": "python3"
  },
  "language_info": {
   "codemirror_mode": {
    "name": "ipython",
    "version": 3
   },
   "file_extension": ".py",
   "mimetype": "text/x-python",
   "name": "python",
   "nbconvert_exporter": "python",
   "pygments_lexer": "ipython3",
   "version": "3.9.8"
  }
 },
 "nbformat": 4,
 "nbformat_minor": 5
}
