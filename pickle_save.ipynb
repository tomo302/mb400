{
 "cells": [
  {
   "cell_type": "code",
   "execution_count": null,
   "id": "2c7a1c3d-eda2-4d8a-90b0-8046e4e94664",
   "metadata": {},
   "outputs": [],
   "source": [
    "#!/usr/bin/env python\n",
    "# coding: utf-8\n",
    "\n",
    "from bs4 import BeautifulSoup\n",
    "import requests\n",
    "import sys\n",
    "import pickle\n",
    "\n",
    "\n",
    "url = \"https://www.dmm.co.jp/digital/videoa/-/actress/=/keyword=sa/\"\n",
    "\n",
    "data = None\n",
    "\n",
    "sys.setrecursionlimit(20000)\n",
    "\n",
    "res  = requests.get(url)\n",
    "soup = BeautifulSoup(res.content, 'html.parser')\n",
    "\n",
    "res2 = requests.get(soup.find('a', class_ =\"ageCheck__link ageCheck__link--r18\")['href'])\n",
    "soup2 = BeautifulSoup(res2.content, 'html.parser')\n",
    "\n",
    "replace_word = \" - エロ動画・アダルトビデオ - FANZA動画\"\n",
    "\n",
    "\n",
    "#data = (soup2.prettify())\n",
    "print(type(soup2))\n",
    "#print(type(data))\n",
    "\n",
    "\n",
    "#print(data)\n",
    "page_title = soup2.title.text.replace(replace_word, '')\n",
    "#print(page_title)\n",
    "\n",
    "with open(\"./\" + page_title + \".pickle\", \"wb\") as f:\n",
    "    pickle.dump(soup2, f)\n",
    "\n",
    "print(sys.getrecursionlimit())\n",
    "\n"
   ]
  },
  {
   "cell_type": "code",
   "execution_count": null,
   "id": "c1d6f11b-4612-4e8f-8cbb-38a33b32ca40",
   "metadata": {},
   "outputs": [],
   "source": []
  }
 ],
 "metadata": {
  "kernelspec": {
   "display_name": "Python 3 (ipykernel)",
   "language": "python",
   "name": "python3"
  },
  "language_info": {
   "codemirror_mode": {
    "name": "ipython",
    "version": 3
   },
   "file_extension": ".py",
   "mimetype": "text/x-python",
   "name": "python",
   "nbconvert_exporter": "python",
   "pygments_lexer": "ipython3",
   "version": "3.9.8"
  }
 },
 "nbformat": 4,
 "nbformat_minor": 5
}
