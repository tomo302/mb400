{
 "cells": [
  {
   "cell_type": "code",
   "execution_count": 418,
   "id": "fc28262f-a6ef-4984-bae9-dd61ade59caf",
   "metadata": {},
   "outputs": [],
   "source": [
    "import requests\n",
    "from bs4 import BeautifulSoup\n",
    "import json\n"
   ]
  },
  {
   "cell_type": "code",
   "execution_count": 419,
   "id": "70a21a56-9d5e-4788-978c-474b90555695",
   "metadata": {},
   "outputs": [],
   "source": [
    "#女優一覧（あ）\n",
    "#url1 = \"https://www.dmm.co.jp/digital/videoa/-/actress/=/keyword=i/\" #max_page 6\n",
    "#url1 = \"https://www.dmm.co.jp/digital/videoa/-/actress/=/keyword=a/\" #max_page 12\n",
    "url1 = \"https://www.dmm.co.jp/digital/videoa/-/actress/=/keyword=re/\" #max_page 1"
   ]
  },
  {
   "cell_type": "code",
   "execution_count": 420,
   "id": "1a1936a6-f96a-4a93-b724-17c92f20780f",
   "metadata": {},
   "outputs": [],
   "source": [
    "#ジャンル（OL)\n",
    "url2 = \"https://www.dmm.co.jp/digital/videoa/-/list/=/article=keyword/id=1001/\" #max_page 89\n",
    "#ジャンル（受付嬢）\n",
    "#url2 = \"https://www.dmm.co.jp/digital/videoa/-/list/=/article=keyword/id=6942/\" #max_page 1"
   ]
  },
  {
   "cell_type": "code",
   "execution_count": 421,
   "id": "3f2c3cc0-3885-4f67-9516-42b318ce82f3",
   "metadata": {},
   "outputs": [],
   "source": [
    "#作品ページ（篠田ゆう）\n",
    "url3 = \"https://www.dmm.co.jp/digital/videoa/-/list/=/article=actress/id=1008785/\""
   ]
  },
  {
   "cell_type": "code",
   "execution_count": 422,
   "id": "18b80f7a-92c5-4f3e-b44c-bf3c9b3a344a",
   "metadata": {},
   "outputs": [],
   "source": [
    "url4 = \"https://www.dmm.co.jp/digital/videoa/-/list/=/article=actress/id=1008785/\""
   ]
  },
  {
   "cell_type": "code",
   "execution_count": 423,
   "id": "5a878903-846f-47c0-b44a-87e894d28310",
   "metadata": {},
   "outputs": [],
   "source": [
    "url5 = \"https://www.dmm.co.jp/digital/videoa/-/detail/=/cid=mrhp00004/?dmmref=actress_1008785&i3_ref=list&i3_ord=33\""
   ]
  },
  {
   "cell_type": "code",
   "execution_count": 424,
   "id": "c10dff78-63e5-41ea-8832-a055e27c1c8f",
   "metadata": {},
   "outputs": [],
   "source": [
    "def soup2(url):\n",
    "    res = requests.get(url)\n",
    "    soup = BeautifulSoup(res.text, 'html.parser')\n",
    "    res2 = requests.get(soup.find('a', class_ = \"ageCheck__link ageCheck__link--r18\")['href'])\n",
    "\n",
    "    soup2 = BeautifulSoup(res2.text, 'html.parser')\n",
    "    \n",
    "    if \"d/i\" in url:\n",
    "        print(\"ジャンルページです\")\n",
    "        #ジャンルページ用の関数を実行\n",
    "        url_kind = \"genre\"\n",
    "    elif \"a/-/a\" in url:\n",
    "        print(\"５０音ページです\")\n",
    "        url_kind =\"50on\"\n",
    "        #５０音ページ用の関数を実行\n",
    "    elif \"t&\" in url:\n",
    "        print(\"ビデオページです\")\n",
    "        url_kind = \"video\"\n",
    "        #ビデオページ用の関数を実行\n",
    "\n",
    "    elif \"s/i\" in url:\n",
    "        print(\"出演一覧ページ\")\n",
    "        url_kind = \"syutuen_itiran\"\n",
    "        #出演一覧ページ用の関数を実行\n",
    "\n",
    "    return soup2, url_kind"
   ]
  },
  {
   "cell_type": "code",
   "execution_count": 425,
   "id": "b81d5392-39ec-4887-bb1e-b72728e92768",
   "metadata": {},
   "outputs": [
    {
     "name": "stdout",
     "output_type": "stream",
     "text": [
      "出演一覧ページ\n"
     ]
    }
   ],
   "source": [
    "soup9, url_kind = soup2(url4)"
   ]
  },
  {
   "cell_type": "code",
   "execution_count": 426,
   "id": "61504533-05cc-4ca9-aec5-86012f70cb88",
   "metadata": {},
   "outputs": [
    {
     "data": {
      "text/plain": [
       "<title>篠田ゆう(しのだゆう) - エロ動画・アダルトビデオ - FANZA動画</title>"
      ]
     },
     "execution_count": 426,
     "metadata": {},
     "output_type": "execute_result"
    }
   ],
   "source": [
    "soup9.title"
   ]
  },
  {
   "cell_type": "code",
   "execution_count": null,
   "id": "309782e6-3f7d-4267-931d-853b8a844264",
   "metadata": {},
   "outputs": [],
   "source": [
    "if url_kind == \"syutuen_itiran\":\n",
    "    "
   ]
  },
  {
   "cell_type": "code",
   "execution_count": 440,
   "id": "ac9c6749-041e-409a-aeb1-d2000d5ebc0e",
   "metadata": {},
   "outputs": [
    {
     "name": "stdout",
     "output_type": "stream",
     "text": [
      "【VR】男を虜にする最上級痴女 激売れ30タイトル厳選BEST\n"
     ]
    }
   ],
   "source": [
    "if url_kind == \"syutuen_itiran\":\n",
    "    su = sakuhin_list(soup9)"
   ]
  },
  {
   "cell_type": "code",
   "execution_count": 441,
   "id": "d62f9482-378a-4a7e-a572-9cb1d92623ce",
   "metadata": {
    "tags": []
   },
   "outputs": [
    {
     "data": {
      "text/plain": [
       "[]"
      ]
     },
     "execution_count": 441,
     "metadata": {},
     "output_type": "execute_result"
    }
   ],
   "source": [
    "su"
   ]
  },
  {
   "cell_type": "code",
   "execution_count": 360,
   "id": "f4513edf-dea6-443e-9c93-cd63dfe06175",
   "metadata": {},
   "outputs": [
    {
     "data": {
      "text/plain": [
       "'syutuen_itiran'"
      ]
     },
     "execution_count": 360,
     "metadata": {},
     "output_type": "execute_result"
    }
   ],
   "source": [
    "url_kind"
   ]
  },
  {
   "cell_type": "code",
   "execution_count": 323,
   "id": "d6f9e2cb-3037-4cae-9428-bb44c46172eb",
   "metadata": {},
   "outputs": [],
   "source": [
    "actor_soup = soup2(url1)\n",
    "#５０音キーワード別女優総人数：total_number_of_actor\n",
    "total_number_of_actor= actor_soup.find('div', class_ = \"list-boxcaptside list-boxpagenation group\").p.text.replace('　', '').split('人')[0]\n",
    "max_page_number = actor_soup.find('div', class_ = \"list-boxcaptside list-boxpagenation group\").p.text.replace('　', '').split('全')[1].split('ペ')[0]"
   ]
  },
  {
   "cell_type": "code",
   "execution_count": 324,
   "id": "6f231cbd-99dc-4444-bdf0-b01cc44f2e37",
   "metadata": {
    "tags": []
   },
   "outputs": [],
   "source": [
    "genre_soup = soup2(url2)\n",
    "#ジャンルページは、「10,581タイトル中　1～120タイトル　1ページ目を表示」で全ページ数の表示がないのでタイトル数//１２０で切り上げ割り算でページ数を取得する\n",
    "#.replace(',', '')はタイトル数が４桁になると「1,000」とカンマが入るので削除している。int()に変換できないので。この記述がタイトル数３桁でエラーを発生することはない。\n",
    "sakuhin_title_number = int(genre_soup.find('div', class_ =\"list-boxcaptside list-boxpagenation\").p.text.replace('　', '').split('タ')[0].replace(',', ''))\n",
    "# 121//120は切り捨て割り算、期待値は切り上げ割り算の結果で下記のようになる。\n",
    "max_page_number = -(-sakuhin_title_number // 120)"
   ]
  },
  {
   "cell_type": "code",
   "execution_count": 325,
   "id": "f305a404-0808-43a5-aadf-a2e538598ae3",
   "metadata": {},
   "outputs": [
    {
     "data": {
      "text/plain": [
       "89"
      ]
     },
     "execution_count": 325,
     "metadata": {},
     "output_type": "execute_result"
    }
   ],
   "source": [
    "max_page_number"
   ]
  },
  {
   "cell_type": "code",
   "execution_count": 326,
   "id": "b2de389b-0865-4283-ad6f-72ce0ad59c72",
   "metadata": {},
   "outputs": [],
   "source": [
    "sakuhin_soup = soup2(url3)\n",
    "#ジャンルページは、「10,581タイトル中　1～120タイトル　1ページ目を表示」で全ページ数の表示がないのでタイトル数//１２０で切り上げ割り算でページ数を取得する\n",
    "#.replace(',', '')はタイトル数が４桁になると「1,000」とカンマが入るので削除している。int()に変換できないので。この記述がタイトル数３桁でエラーを発生することはない。\n",
    "sakuhin_title_number = int(sakuhin_soup.find('div', class_ =\"list-boxcaptside list-boxpagenation\").p.text.replace('　', '').split('タ')[0].replace(',', ''))\n",
    "# 121//120は切り捨て割り算、期待値は切り上げ割り算の結果で下記のようになる。\n",
    "max_page_number = -(-sakuhin_title_number // 120)"
   ]
  },
  {
   "cell_type": "code",
   "execution_count": 327,
   "id": "b6005707-666c-4cff-9d71-24c21a4ea61e",
   "metadata": {},
   "outputs": [
    {
     "data": {
      "text/plain": [
       "15"
      ]
     },
     "execution_count": 327,
     "metadata": {},
     "output_type": "execute_result"
    }
   ],
   "source": [
    "max_page_number"
   ]
  },
  {
   "cell_type": "code",
   "execution_count": 328,
   "id": "393672a2-8ed0-4f29-8cff-8fe7612c93db",
   "metadata": {},
   "outputs": [],
   "source": [
    "sakujyo_title_word = \" - エロ動画・アダルトビデオ - FANZA動画\""
   ]
  },
  {
   "cell_type": "code",
   "execution_count": 329,
   "id": "c9ecd66e-8e6f-4179-9214-deaf18e7375d",
   "metadata": {},
   "outputs": [
    {
     "data": {
      "text/plain": [
       "'AV女優 [れ]'"
      ]
     },
     "execution_count": 329,
     "metadata": {},
     "output_type": "execute_result"
    }
   ],
   "source": [
    "actor_soup.title.text.replace(sakujyo_title_word, '')"
   ]
  },
  {
   "cell_type": "code",
   "execution_count": null,
   "id": "bf180d6e-c872-4d4b-b01e-267110174bed",
   "metadata": {},
   "outputs": [],
   "source": []
  },
  {
   "cell_type": "code",
   "execution_count": 330,
   "id": "599d1caf-761a-480e-b459-7b0d57e96b66",
   "metadata": {},
   "outputs": [],
   "source": [
    "total_number_of_actor= actor_soup.find('div', class_ = \"list-boxcaptside list-boxpagenation group\").p.text.replace('　', '').split('人')[0]"
   ]
  },
  {
   "cell_type": "code",
   "execution_count": 331,
   "id": "efc38457-62f7-4732-925c-62731a855358",
   "metadata": {},
   "outputs": [
    {
     "data": {
      "text/plain": [
       "'13'"
      ]
     },
     "execution_count": 331,
     "metadata": {},
     "output_type": "execute_result"
    }
   ],
   "source": [
    "total_number_of_actor"
   ]
  },
  {
   "cell_type": "code",
   "execution_count": 332,
   "id": "1aa16988-a2a3-47b7-8e34-0c90d5343251",
   "metadata": {},
   "outputs": [],
   "source": [
    "#５０音キーワード別、ページネーション数"
   ]
  },
  {
   "cell_type": "code",
   "execution_count": 333,
   "id": "4d39f620-7d2e-451b-b0af-580c7bb23562",
   "metadata": {},
   "outputs": [
    {
     "data": {
      "text/plain": [
       "'1'"
      ]
     },
     "execution_count": 333,
     "metadata": {},
     "output_type": "execute_result"
    }
   ],
   "source": [
    "actor_soup.find('div', class_ = \"list-boxcaptside list-boxpagenation group\").p.text.replace('　', '').split('全')[1].split('ペ')[0]"
   ]
  },
  {
   "cell_type": "code",
   "execution_count": 334,
   "id": "af128769-bd67-4116-ad8f-8c74321c0928",
   "metadata": {},
   "outputs": [
    {
     "data": {
      "text/plain": [
       "'OL'"
      ]
     },
     "execution_count": 334,
     "metadata": {},
     "output_type": "execute_result"
    }
   ],
   "source": [
    "genre_soup.title.text.replace(sakujyo_title_word, '')"
   ]
  },
  {
   "cell_type": "code",
   "execution_count": 335,
   "id": "f983323e-47af-42a5-bce2-dff979b0d69a",
   "metadata": {},
   "outputs": [
    {
     "data": {
      "text/plain": [
       "'篠田ゆう(しのだゆう)'"
      ]
     },
     "execution_count": 335,
     "metadata": {},
     "output_type": "execute_result"
    }
   ],
   "source": [
    "sakuhin_soup.title.text.replace(sakujyo_title_word, '')"
   ]
  },
  {
   "cell_type": "code",
   "execution_count": 254,
   "id": "11b00f4e-258b-4339-9a56-e7ad92fbab4d",
   "metadata": {},
   "outputs": [],
   "source": [
    "video_soup = soup2(url5)"
   ]
  },
  {
   "cell_type": "code",
   "execution_count": 255,
   "id": "eb10556c-35b8-4c3c-b435-c4e5b1ab58d6",
   "metadata": {},
   "outputs": [
    {
     "data": {
      "text/plain": [
       "<title>大音量でAV見てたら隣の家に住むデカ尻美人妻がクレーム入れに押しかけて来た。欲求不満の人妻は僕の勃起チ●ポに発情して逆レ搾精！僕は生ディルドとして飼われることになった 篠田ゆう - エロ動画・アダルトビデオ - FANZA動画</title>"
      ]
     },
     "execution_count": 255,
     "metadata": {},
     "output_type": "execute_result"
    }
   ],
   "source": [
    "video_soup.title"
   ]
  },
  {
   "cell_type": "code",
   "execution_count": 244,
   "id": "8c2942f0-aa65-4c1f-96c0-5cc80cdbfcb4",
   "metadata": {},
   "outputs": [],
   "source": [
    "soup2 = soup2(url2)"
   ]
  },
  {
   "cell_type": "code",
   "execution_count": 315,
   "id": "5db4a542-ec35-4e13-b8d2-79f2c15338ca",
   "metadata": {
    "tags": []
   },
   "outputs": [
    {
     "ename": "AttributeError",
     "evalue": "'function' object has no attribute 'title'",
     "output_type": "error",
     "traceback": [
      "\u001b[1;31m---------------------------------------------------------------------------\u001b[0m",
      "\u001b[1;31mAttributeError\u001b[0m                            Traceback (most recent call last)",
      "Input \u001b[1;32mIn [315]\u001b[0m, in \u001b[0;36m<cell line: 1>\u001b[1;34m()\u001b[0m\n\u001b[1;32m----> 1\u001b[0m \u001b[43msoup2\u001b[49m\u001b[38;5;241;43m.\u001b[39;49m\u001b[43mtitle\u001b[49m\n",
      "\u001b[1;31mAttributeError\u001b[0m: 'function' object has no attribute 'title'"
     ]
    }
   ],
   "source": [
    "soup2.title"
   ]
  },
  {
   "cell_type": "code",
   "execution_count": 246,
   "id": "d9741fc1-dd44-471c-a35e-23f890792c86",
   "metadata": {},
   "outputs": [
    {
     "data": {
      "text/plain": [
       "[<li class=\"terminal\"><a href=\"/digital/videoa/-/list/=/article=keyword/id=1001/page=89/\">最後へ</a></li>,\n",
       " <li class=\"terminal\"><a href=\"/digital/videoa/-/list/=/article=keyword/id=1001/page=89/\">最後へ</a></li>]"
      ]
     },
     "execution_count": 246,
     "metadata": {},
     "output_type": "execute_result"
    }
   ],
   "source": [
    "soup2.find_all('li', class_ = 'terminal')"
   ]
  },
  {
   "cell_type": "code",
   "execution_count": 247,
   "id": "e100c444-e629-44ce-a0ac-fd76c79dbe08",
   "metadata": {},
   "outputs": [
    {
     "data": {
      "text/plain": [
       "'article=keyword'"
      ]
     },
     "execution_count": 247,
     "metadata": {},
     "output_type": "execute_result"
    }
   ],
   "source": [
    "str(soup2.find_all('li', class_ = 'terminal')[1]).split('/')[6]"
   ]
  },
  {
   "cell_type": "code",
   "execution_count": 314,
   "id": "bf33134e-cc75-426b-b6ce-235ed6b77b52",
   "metadata": {},
   "outputs": [
    {
     "name": "stdout",
     "output_type": "stream",
     "text": [
      "ジャンルページです\n"
     ]
    },
    {
     "ename": "UnboundLocalError",
     "evalue": "local variable 'soup3' referenced before assignment",
     "output_type": "error",
     "traceback": [
      "\u001b[1;31m---------------------------------------------------------------------------\u001b[0m",
      "\u001b[1;31mUnboundLocalError\u001b[0m                         Traceback (most recent call last)",
      "Input \u001b[1;32mIn [314]\u001b[0m, in \u001b[0;36m<cell line: 1>\u001b[1;34m()\u001b[0m\n\u001b[1;32m----> 1\u001b[0m sp \u001b[38;5;241m=\u001b[39m \u001b[43murl_check\u001b[49m\u001b[43m(\u001b[49m\u001b[43murl2\u001b[49m\u001b[43m)\u001b[49m\n",
      "Input \u001b[1;32mIn [306]\u001b[0m, in \u001b[0;36murl_check\u001b[1;34m(url)\u001b[0m\n\u001b[0;32m      3\u001b[0m     \u001b[38;5;28mprint\u001b[39m(\u001b[38;5;124m\"\u001b[39m\u001b[38;5;124mジャンルページです\u001b[39m\u001b[38;5;124m\"\u001b[39m)\n\u001b[0;32m      4\u001b[0m     \u001b[38;5;66;03m#ジャンルページ用の関数を実行\u001b[39;00m\n\u001b[1;32m----> 5\u001b[0m     soup4 \u001b[38;5;241m=\u001b[39m \u001b[43mgenre\u001b[49m\u001b[43m(\u001b[49m\u001b[43murl\u001b[49m\u001b[43m)\u001b[49m\n\u001b[0;32m      6\u001b[0m     \u001b[38;5;28mprint\u001b[39m(soup4\u001b[38;5;241m.\u001b[39mtitle\u001b[38;5;241m.\u001b[39mtext)\n\u001b[0;32m      7\u001b[0m \u001b[38;5;28;01melif\u001b[39;00m \u001b[38;5;124m\"\u001b[39m\u001b[38;5;124ma/-/a\u001b[39m\u001b[38;5;124m\"\u001b[39m \u001b[38;5;129;01min\u001b[39;00m url:\n",
      "Input \u001b[1;32mIn [306]\u001b[0m, in \u001b[0;36mgenre\u001b[1;34m(url)\u001b[0m\n\u001b[0;32m     24\u001b[0m \u001b[38;5;28;01mdef\u001b[39;00m \u001b[38;5;21mgenre\u001b[39m(url):\n\u001b[1;32m---> 25\u001b[0m     soup3 \u001b[38;5;241m=\u001b[39m \u001b[43msoup3\u001b[49m(url)\n\u001b[0;32m     26\u001b[0m     \u001b[38;5;28;01mreturn\u001b[39;00m soup3\n",
      "\u001b[1;31mUnboundLocalError\u001b[0m: local variable 'soup3' referenced before assignment"
     ]
    }
   ],
   "source": [
    "sp = url_check(url2)"
   ]
  },
  {
   "cell_type": "code",
   "execution_count": 444,
   "id": "cc083d2b-f307-45ab-a563-c171b633f414",
   "metadata": {},
   "outputs": [],
   "source": [
    "def actress(url):\n",
    "\tpass\n",
    "\n",
    "def genre(url):\n",
    "    pass\n",
    "def sakuhin_list(soup9):\n",
    "    data = []\n",
    "    sakuhin_title_number = int(soup9.find('div', class_ =\"list-boxcaptside list-boxpagenation\").p.text.replace('　', '').split('タ')[0].replace(',', ''))\n",
    "    # 121//120は切り捨て割り算、期待値は切り上げ割り算の結果で下記のようになる。\n",
    "    max_page_number = -(-sakuhin_title_number // 120)\n",
    "    replace_word = \" - エロ動画・アダルトビデオ - FANZA動画\"\n",
    "    actor_name = soup9.title.text.replace(replace_word, '')\n",
    "    #print(actor_name)\n",
    "    #data = soup9.find_all('p', class_ = \"tmb\")\n",
    "    sakuhin_data = soup9.find_all('p', class_ = \"tmb\")\n",
    "    sakuhin_title = soup9.find_all('p', class_ = \"tmb\")[0].a.span.next_sibling.next_sibling.text\n",
    "    print(sakuhin_title)\n",
    "    return data\n",
    "\n",
    "def video_page(url):\n",
    "    pass\n",
    "\n",
    "def sakuhin(max_page, url):\n",
    "    base_url = \"baseurl:https://www.dmm.co.jp/digital/videoa/-/list/=/article=actress/id=1008887/page=\"\n",
    "    sakuhin_lists = []\n",
    "    #ページネーション処理\n",
    "    for row in range(1, max_page): #index 1から開始指定\n",
    "        #print(row)\n",
    "        #print(url + \"page=\" + str(row))\n",
    "        res3 = requests.get(url + \"page=\" + str(row))\n",
    "        soup4 = BeautifulSoup(res3.text, 'html.parser')\n",
    "        res4 = requests.get(soup4.find('a', class_=\"ageCheck__link ageCheck__link--r18\").get('href'))\n",
    "        soup5 = BeautifulSoup(res4.text, 'html.parser')\n",
    "        actress = soup5.find('ul', class_ = 'd-item act-box-100 group')\n",
    "        #print(actress.select('span')[0].text)\n",
    "        #配列内に配列を追記\n",
    "\n",
    "        act_list = [furigana, act_name, syutuen_su, act_gazou_url, act_base_url]\n",
    "        act_lists.pend(act_list)\n",
    "    return act_lists"
   ]
  },
  {
   "cell_type": "code",
   "execution_count": null,
   "id": "e202b1ea-6598-4551-9659-7d8f1a1fc3b9",
   "metadata": {},
   "outputs": [],
   "source": []
  },
  {
   "cell_type": "code",
   "execution_count": 340,
   "id": "073ef2fe-543b-4030-bd7a-247296deeaf4",
   "metadata": {},
   "outputs": [
    {
     "name": "stdout",
     "output_type": "stream",
     "text": [
      "ビデオページです\n"
     ]
    }
   ],
   "source": [
    "url_check(url5)"
   ]
  },
  {
   "cell_type": "code",
   "execution_count": null,
   "id": "5cc4bdd9-75ae-41bf-a884-80844c12eef4",
   "metadata": {},
   "outputs": [],
   "source": []
  }
 ],
 "metadata": {
  "kernelspec": {
   "display_name": "Python 3 (ipykernel)",
   "language": "python",
   "name": "python3"
  },
  "language_info": {
   "codemirror_mode": {
    "name": "ipython",
    "version": 3
   },
   "file_extension": ".py",
   "mimetype": "text/x-python",
   "name": "python",
   "nbconvert_exporter": "python",
   "pygments_lexer": "ipython3",
   "version": "3.9.8"
  }
 },
 "nbformat": 4,
 "nbformat_minor": 5
}
