{
 "cells": [
  {
   "cell_type": "code",
   "execution_count": 2,
   "id": "dc365e93-d171-4e1d-89b6-9a921819b878",
   "metadata": {},
   "outputs": [],
   "source": [
    "import requests\n",
    "from bs4 import BeautifulSoup\n",
    "import json\n"
   ]
  },
  {
   "cell_type": "code",
   "execution_count": 3,
   "id": "706e3d85-869f-4ba2-b32e-a673a78b3b4a",
   "metadata": {},
   "outputs": [],
   "source": [
    "#女優一覧（あ）\n",
    "#url1 = \"https://www.dmm.co.jp/digital/videoa/-/actress/=/keyword=i/\" #max_page 6\n",
    "#url1 = \"https://www.dmm.co.jp/digital/videoa/-/actress/=/keyword=a/\" #max_page 12\n",
    "url1 = \"https://www.dmm.co.jp/digital/videoa/-/actress/=/keyword=re/\" #max_page 1"
   ]
  },
  {
   "cell_type": "code",
   "execution_count": 4,
   "id": "1ad89dfa-4fd1-4beb-9d9d-76c0d8d001d8",
   "metadata": {},
   "outputs": [],
   "source": [
    "#ジャンル（OL)\n",
    "url2 = \"https://www.dmm.co.jp/digital/videoa/-/list/=/article=keyword/id=1001/\" #max_page 89\n",
    "#ジャンル（受付嬢）\n",
    "#url2 = \"https://www.dmm.co.jp/digital/videoa/-/list/=/article=keyword/id=6942/\" #max_page 1"
   ]
  },
  {
   "cell_type": "code",
   "execution_count": 5,
   "id": "b162e59f-0a79-404a-8a5d-dc871d143217",
   "metadata": {},
   "outputs": [],
   "source": [
    "#作品ページ（篠田ゆう）\n",
    "url3 = \"https://www.dmm.co.jp/digital/videoa/-/list/=/article=actress/id=1008785/\""
   ]
  },
  {
   "cell_type": "code",
   "execution_count": 6,
   "id": "aeb928fe-9c56-406d-896d-fc46090e1d8a",
   "metadata": {},
   "outputs": [],
   "source": [
    "url4 = \"https://www.dmm.co.jp/digital/videoa/-/list/=/article=actress/id=1008785/\""
   ]
  },
  {
   "cell_type": "code",
   "execution_count": 7,
   "id": "3fdf5b9a-94b0-47a3-be78-818be78aabc1",
   "metadata": {},
   "outputs": [],
   "source": [
    "url5 = \"https://www.dmm.co.jp/digital/videoa/-/detail/=/cid=mrhp00004/?dmmref=actress_1008785&i3_ref=list&i3_ord=33\""
   ]
  },
  {
   "cell_type": "code",
   "execution_count": 16,
   "id": "bf1a13ce-ef21-45ab-ab9e-987150891fcb",
   "metadata": {},
   "outputs": [],
   "source": [
    "def actor_max_page(soup2):\n",
    "    #５０音キーワード別女優総人数：total_number_of_actor\n",
    "    total_number_of_actor= soup2.find('div', class_ = \"list-boxcaptside list-boxpagenation group\").p.text.replace('　', '').split('人')[0]\n",
    "    max_page_number = soup2.find('div', class_ = \"list-boxcaptside list-boxpagenation group\").p.text.replace('　', '').split('全')[1].split('ペ')[0]\n",
    "    return max_page_number"
   ]
  },
  {
   "cell_type": "code",
   "execution_count": 17,
   "id": "e97cbf49-8db6-4761-9462-2b88e89c0be3",
   "metadata": {},
   "outputs": [],
   "source": [
    "def genre_sakuhi_maxpage(soup2):\n",
    "    #ジャンルページは、「10,581タイトル中　1～120タイトル　1ページ目を表示」で全ページ数の表示がないのでタイトル数//１２０で切り上げ割り算でページ数を取得する\n",
    "    #.replace(',', '')はタイトル数が４桁になると「1,000」とカンマが入るので削除している。int()に変換できないので。この記述がタイトル数３桁でエラーを発生することはない。\n",
    "    sakuhin_title_number = int(soup2.find('div', class_ =\"list-boxcaptside list-boxpagenation\").p.text.replace('　', '').split('タ')[0].replace(',', ''))\n",
    "    # 121//120は切り捨て割り算、期待値は切り上げ割り算の結果で下記のようになる。\n",
    "    max_page_number = -(-sakuhin_title_number // 120)\n",
    "    return max_page_number"
   ]
  },
  {
   "cell_type": "code",
   "execution_count": 18,
   "id": "49c873e4-3ac8-4354-a381-4549fbafc423",
   "metadata": {},
   "outputs": [],
   "source": [
    "def soup2(url):\n",
    "    res = requests.get(url)\n",
    "    soup = BeautifulSoup(res.text, 'html.parser')\n",
    "    res2 = requests.get(soup.find('a', class_ = \"ageCheck__link ageCheck__link--r18\")['href'])\n",
    "\n",
    "    soup2 = BeautifulSoup(res2.text, 'html.parser')\n",
    "    \n",
    "    if \"d/i\" in url:\n",
    "        print(\"ジャンルページです\")\n",
    "        #ジャンルページ用の関数を実行\n",
    "        max_page = genre_sakuhi_maxpage(soup2)\n",
    "        url_kind = \"genre\"\n",
    "        baseurl = \"https://www.dmm.co.jp/digital/videoa/-/list/=/article=keyword/id=1001/page=\"\n",
    "    elif \"a/-/a\" in url:\n",
    "        print(\"５０音ページです\")\n",
    "        url_kind =\"50on\"\n",
    "        max_page =  actor_max_page(soup2) \n",
    "        baseurl = \"https://www.dmm.co.jp/digital/videoa/-/actress/=/keyword=a/page=\"\n",
    "        #５０音ページ用の関数を実行\n",
    "    elif \"t&\" in url:\n",
    "        print(\"ビデオページです\")\n",
    "        url_kind = \"video\"\n",
    "        #ビデオページ用の関数を実行\n",
    "\n",
    "    elif \"s/i\" in url:\n",
    "        print(\"出演一覧ページ\")\n",
    "        url_kind = \"syutuen_itiran\"\n",
    "        max_page = genre_sakuhi_maxpage(soup2)\n",
    "        baseurl = \"https://www.dmm.co.jp/digital/videoa/-/list/=/article=actress/id=1008887/page=\"\n",
    "        #出演一覧ページ用の関数を実行\n",
    "\n",
    "    return soup2, url_kind, max_page+1, baseurl"
   ]
  },
  {
   "cell_type": "code",
   "execution_count": 19,
   "id": "be375270-2156-43f6-833d-0bf44f068230",
   "metadata": {
    "tags": []
   },
   "outputs": [
    {
     "name": "stdout",
     "output_type": "stream",
     "text": [
      "ジャンルページです\n"
     ]
    }
   ],
   "source": [
    "soup9, url_kind, max_page, baseurl= soup2(url2)"
   ]
  },
  {
   "cell_type": "code",
   "execution_count": 26,
   "id": "53d94703-2a7f-4105-a6fb-b3c7d71315f3",
   "metadata": {},
   "outputs": [],
   "source": [
    "#ページネーション分のURLを作成する\n",
    "def make_url(max_page, baseurl):\n",
    "    url_lists = []\n",
    "    for page in range(1, max_page):\n",
    "        (baseurl + str(page) + \"/\")\n",
    "        url_lists.append(baseurl + str(page) + \"/\")\n",
    "    print(url_lists)"
   ]
  },
  {
   "cell_type": "code",
   "execution_count": 25,
   "id": "79bd1ec4-c752-40bb-8738-dd3c0dbf4f3a",
   "metadata": {
    "collapsed": true,
    "jupyter": {
     "outputs_hidden": true
    },
    "tags": []
   },
   "outputs": [
    {
     "name": "stdout",
     "output_type": "stream",
     "text": [
      "['https://www.dmm.co.jp/digital/videoa/-/list/=/article=keyword/id=1001/page=1/', 'https://www.dmm.co.jp/digital/videoa/-/list/=/article=keyword/id=1001/page=2/', 'https://www.dmm.co.jp/digital/videoa/-/list/=/article=keyword/id=1001/page=3/', 'https://www.dmm.co.jp/digital/videoa/-/list/=/article=keyword/id=1001/page=4/', 'https://www.dmm.co.jp/digital/videoa/-/list/=/article=keyword/id=1001/page=5/', 'https://www.dmm.co.jp/digital/videoa/-/list/=/article=keyword/id=1001/page=6/', 'https://www.dmm.co.jp/digital/videoa/-/list/=/article=keyword/id=1001/page=7/', 'https://www.dmm.co.jp/digital/videoa/-/list/=/article=keyword/id=1001/page=8/', 'https://www.dmm.co.jp/digital/videoa/-/list/=/article=keyword/id=1001/page=9/', 'https://www.dmm.co.jp/digital/videoa/-/list/=/article=keyword/id=1001/page=10/', 'https://www.dmm.co.jp/digital/videoa/-/list/=/article=keyword/id=1001/page=11/', 'https://www.dmm.co.jp/digital/videoa/-/list/=/article=keyword/id=1001/page=12/', 'https://www.dmm.co.jp/digital/videoa/-/list/=/article=keyword/id=1001/page=13/', 'https://www.dmm.co.jp/digital/videoa/-/list/=/article=keyword/id=1001/page=14/', 'https://www.dmm.co.jp/digital/videoa/-/list/=/article=keyword/id=1001/page=15/', 'https://www.dmm.co.jp/digital/videoa/-/list/=/article=keyword/id=1001/page=16/', 'https://www.dmm.co.jp/digital/videoa/-/list/=/article=keyword/id=1001/page=17/', 'https://www.dmm.co.jp/digital/videoa/-/list/=/article=keyword/id=1001/page=18/', 'https://www.dmm.co.jp/digital/videoa/-/list/=/article=keyword/id=1001/page=19/', 'https://www.dmm.co.jp/digital/videoa/-/list/=/article=keyword/id=1001/page=20/', 'https://www.dmm.co.jp/digital/videoa/-/list/=/article=keyword/id=1001/page=21/', 'https://www.dmm.co.jp/digital/videoa/-/list/=/article=keyword/id=1001/page=22/', 'https://www.dmm.co.jp/digital/videoa/-/list/=/article=keyword/id=1001/page=23/', 'https://www.dmm.co.jp/digital/videoa/-/list/=/article=keyword/id=1001/page=24/', 'https://www.dmm.co.jp/digital/videoa/-/list/=/article=keyword/id=1001/page=25/', 'https://www.dmm.co.jp/digital/videoa/-/list/=/article=keyword/id=1001/page=26/', 'https://www.dmm.co.jp/digital/videoa/-/list/=/article=keyword/id=1001/page=27/', 'https://www.dmm.co.jp/digital/videoa/-/list/=/article=keyword/id=1001/page=28/', 'https://www.dmm.co.jp/digital/videoa/-/list/=/article=keyword/id=1001/page=29/', 'https://www.dmm.co.jp/digital/videoa/-/list/=/article=keyword/id=1001/page=30/', 'https://www.dmm.co.jp/digital/videoa/-/list/=/article=keyword/id=1001/page=31/', 'https://www.dmm.co.jp/digital/videoa/-/list/=/article=keyword/id=1001/page=32/', 'https://www.dmm.co.jp/digital/videoa/-/list/=/article=keyword/id=1001/page=33/', 'https://www.dmm.co.jp/digital/videoa/-/list/=/article=keyword/id=1001/page=34/', 'https://www.dmm.co.jp/digital/videoa/-/list/=/article=keyword/id=1001/page=35/', 'https://www.dmm.co.jp/digital/videoa/-/list/=/article=keyword/id=1001/page=36/', 'https://www.dmm.co.jp/digital/videoa/-/list/=/article=keyword/id=1001/page=37/', 'https://www.dmm.co.jp/digital/videoa/-/list/=/article=keyword/id=1001/page=38/', 'https://www.dmm.co.jp/digital/videoa/-/list/=/article=keyword/id=1001/page=39/', 'https://www.dmm.co.jp/digital/videoa/-/list/=/article=keyword/id=1001/page=40/', 'https://www.dmm.co.jp/digital/videoa/-/list/=/article=keyword/id=1001/page=41/', 'https://www.dmm.co.jp/digital/videoa/-/list/=/article=keyword/id=1001/page=42/', 'https://www.dmm.co.jp/digital/videoa/-/list/=/article=keyword/id=1001/page=43/', 'https://www.dmm.co.jp/digital/videoa/-/list/=/article=keyword/id=1001/page=44/', 'https://www.dmm.co.jp/digital/videoa/-/list/=/article=keyword/id=1001/page=45/', 'https://www.dmm.co.jp/digital/videoa/-/list/=/article=keyword/id=1001/page=46/', 'https://www.dmm.co.jp/digital/videoa/-/list/=/article=keyword/id=1001/page=47/', 'https://www.dmm.co.jp/digital/videoa/-/list/=/article=keyword/id=1001/page=48/', 'https://www.dmm.co.jp/digital/videoa/-/list/=/article=keyword/id=1001/page=49/', 'https://www.dmm.co.jp/digital/videoa/-/list/=/article=keyword/id=1001/page=50/', 'https://www.dmm.co.jp/digital/videoa/-/list/=/article=keyword/id=1001/page=51/', 'https://www.dmm.co.jp/digital/videoa/-/list/=/article=keyword/id=1001/page=52/', 'https://www.dmm.co.jp/digital/videoa/-/list/=/article=keyword/id=1001/page=53/', 'https://www.dmm.co.jp/digital/videoa/-/list/=/article=keyword/id=1001/page=54/', 'https://www.dmm.co.jp/digital/videoa/-/list/=/article=keyword/id=1001/page=55/', 'https://www.dmm.co.jp/digital/videoa/-/list/=/article=keyword/id=1001/page=56/', 'https://www.dmm.co.jp/digital/videoa/-/list/=/article=keyword/id=1001/page=57/', 'https://www.dmm.co.jp/digital/videoa/-/list/=/article=keyword/id=1001/page=58/', 'https://www.dmm.co.jp/digital/videoa/-/list/=/article=keyword/id=1001/page=59/', 'https://www.dmm.co.jp/digital/videoa/-/list/=/article=keyword/id=1001/page=60/', 'https://www.dmm.co.jp/digital/videoa/-/list/=/article=keyword/id=1001/page=61/', 'https://www.dmm.co.jp/digital/videoa/-/list/=/article=keyword/id=1001/page=62/', 'https://www.dmm.co.jp/digital/videoa/-/list/=/article=keyword/id=1001/page=63/', 'https://www.dmm.co.jp/digital/videoa/-/list/=/article=keyword/id=1001/page=64/', 'https://www.dmm.co.jp/digital/videoa/-/list/=/article=keyword/id=1001/page=65/', 'https://www.dmm.co.jp/digital/videoa/-/list/=/article=keyword/id=1001/page=66/', 'https://www.dmm.co.jp/digital/videoa/-/list/=/article=keyword/id=1001/page=67/', 'https://www.dmm.co.jp/digital/videoa/-/list/=/article=keyword/id=1001/page=68/', 'https://www.dmm.co.jp/digital/videoa/-/list/=/article=keyword/id=1001/page=69/', 'https://www.dmm.co.jp/digital/videoa/-/list/=/article=keyword/id=1001/page=70/', 'https://www.dmm.co.jp/digital/videoa/-/list/=/article=keyword/id=1001/page=71/', 'https://www.dmm.co.jp/digital/videoa/-/list/=/article=keyword/id=1001/page=72/', 'https://www.dmm.co.jp/digital/videoa/-/list/=/article=keyword/id=1001/page=73/', 'https://www.dmm.co.jp/digital/videoa/-/list/=/article=keyword/id=1001/page=74/', 'https://www.dmm.co.jp/digital/videoa/-/list/=/article=keyword/id=1001/page=75/', 'https://www.dmm.co.jp/digital/videoa/-/list/=/article=keyword/id=1001/page=76/', 'https://www.dmm.co.jp/digital/videoa/-/list/=/article=keyword/id=1001/page=77/', 'https://www.dmm.co.jp/digital/videoa/-/list/=/article=keyword/id=1001/page=78/', 'https://www.dmm.co.jp/digital/videoa/-/list/=/article=keyword/id=1001/page=79/', 'https://www.dmm.co.jp/digital/videoa/-/list/=/article=keyword/id=1001/page=80/', 'https://www.dmm.co.jp/digital/videoa/-/list/=/article=keyword/id=1001/page=81/', 'https://www.dmm.co.jp/digital/videoa/-/list/=/article=keyword/id=1001/page=82/', 'https://www.dmm.co.jp/digital/videoa/-/list/=/article=keyword/id=1001/page=83/', 'https://www.dmm.co.jp/digital/videoa/-/list/=/article=keyword/id=1001/page=84/', 'https://www.dmm.co.jp/digital/videoa/-/list/=/article=keyword/id=1001/page=85/', 'https://www.dmm.co.jp/digital/videoa/-/list/=/article=keyword/id=1001/page=86/', 'https://www.dmm.co.jp/digital/videoa/-/list/=/article=keyword/id=1001/page=87/', 'https://www.dmm.co.jp/digital/videoa/-/list/=/article=keyword/id=1001/page=88/', 'https://www.dmm.co.jp/digital/videoa/-/list/=/article=keyword/id=1001/page=89/']\n"
     ]
    }
   ],
   "source": [
    "make_url(max_page, baseurl)"
   ]
  },
  {
   "cell_type": "code",
   "execution_count": null,
   "id": "57158018-a295-4f32-b1d9-0d8fb594f0d0",
   "metadata": {},
   "outputs": [],
   "source": []
  },
  {
   "cell_type": "code",
   "execution_count": 13,
   "id": "6290995d-129b-4de3-8270-63e46b87774f",
   "metadata": {},
   "outputs": [],
   "source": [
    "def sakuhin():\n",
    "    base_url = \"baseurl:https://www.dmm.co.jp/digital/videoa/-/list/=/article=actress/id=1008887/page=\"\n",
    "    sakuhin_lists = []\n",
    "    #ページネーション処理\n",
    "    for row in range(1, max_page): #index 1から開始指定\n",
    "        #print(row)\n",
    "        #print(url + \"page=\" + str(row))\n",
    "        res3 = requests.get(url + \"page=\" + str(row))\n",
    "        soup4 = BeautifulSoup(res3.text, 'html.parser')\n",
    "        res4 = requests.get(soup4.find('a', class_=\"ageCheck__link ageCheck__link--r18\").get('href'))\n",
    "        soup5 = BeautifulSoup(res4.text, 'html.parser')\n",
    "        actress = soup5.find('ul', class_ = 'd-item act-box-100 group')\n",
    "        #print(actress.select('span')[0].text)\n",
    "        #配列内に配列を追記\n",
    "\n",
    "        act_list = [furigana, act_name, syutuen_su, act_gazou_url, act_base_url]\n",
    "        act_lists.pend(act_list)\n",
    "    return act_lists"
   ]
  },
  {
   "cell_type": "code",
   "execution_count": 9,
   "id": "a34e5dd7-b43c-4206-a500-8fc8d27ae44a",
   "metadata": {},
   "outputs": [
    {
     "name": "stdout",
     "output_type": "stream",
     "text": [
      "出演一覧ページ\n"
     ]
    }
   ],
   "source": [
    "soup9, url_kind = soup2(url4)"
   ]
  },
  {
   "cell_type": "code",
   "execution_count": 10,
   "id": "1dd9b125-9c41-4b6d-ab2b-156634efd6cb",
   "metadata": {},
   "outputs": [
    {
     "data": {
      "text/plain": [
       "<title>篠田ゆう(しのだゆう) - エロ動画・アダルトビデオ - FANZA動画</title>"
      ]
     },
     "execution_count": 10,
     "metadata": {},
     "output_type": "execute_result"
    }
   ],
   "source": [
    "soup9.title"
   ]
  },
  {
   "cell_type": "code",
   "execution_count": 12,
   "id": "e286f1ba-dc84-448e-bd80-8df699450594",
   "metadata": {},
   "outputs": [
    {
     "ename": "TypeError",
     "evalue": "sakuhin() missing 1 required positional argument: 'url'",
     "output_type": "error",
     "traceback": [
      "\u001b[1;31m---------------------------------------------------------------------------\u001b[0m",
      "\u001b[1;31mTypeError\u001b[0m                                 Traceback (most recent call last)",
      "Input \u001b[1;32mIn [12]\u001b[0m, in \u001b[0;36m<cell line: 1>\u001b[1;34m()\u001b[0m\n\u001b[0;32m      1\u001b[0m \u001b[38;5;28;01mif\u001b[39;00m url_kind \u001b[38;5;241m==\u001b[39m \u001b[38;5;124m\"\u001b[39m\u001b[38;5;124msyutuen_itiran\u001b[39m\u001b[38;5;124m\"\u001b[39m:\n\u001b[1;32m----> 2\u001b[0m     su \u001b[38;5;241m=\u001b[39m \u001b[43msakuhin\u001b[49m\u001b[43m(\u001b[49m\u001b[43msoup9\u001b[49m\u001b[43m)\u001b[49m\n",
      "\u001b[1;31mTypeError\u001b[0m: sakuhin() missing 1 required positional argument: 'url'"
     ]
    }
   ],
   "source": [
    "if url_kind == \"syutuen_itiran\":\n",
    "    su = sakuhin(soup9)"
   ]
  },
  {
   "cell_type": "code",
   "execution_count": null,
   "id": "53530d96-fdbc-48d8-9fd9-3c646aa426f6",
   "metadata": {},
   "outputs": [],
   "source": []
  }
 ],
 "metadata": {
  "kernelspec": {
   "display_name": "Python 3 (ipykernel)",
   "language": "python",
   "name": "python3"
  },
  "language_info": {
   "codemirror_mode": {
    "name": "ipython",
    "version": 3
   },
   "file_extension": ".py",
   "mimetype": "text/x-python",
   "name": "python",
   "nbconvert_exporter": "python",
   "pygments_lexer": "ipython3",
   "version": "3.8.13"
  }
 },
 "nbformat": 4,
 "nbformat_minor": 5
}
