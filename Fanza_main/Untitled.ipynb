{
 "cells": [
  {
   "cell_type": "code",
   "execution_count": 1,
   "id": "fc28262f-a6ef-4984-bae9-dd61ade59caf",
   "metadata": {},
   "outputs": [],
   "source": [
    "import requests\n",
    "from bs4 import BeautifulSoup\n",
    "import json\n",
    "import pickle\n",
    "import sys"
   ]
  },
  {
   "cell_type": "code",
   "execution_count": 2,
   "id": "70a21a56-9d5e-4788-978c-474b90555695",
   "metadata": {},
   "outputs": [],
   "source": [
    "#女優一覧（あ）\n",
    "#url1 = \"https://www.dmm.co.jp/digital/videoa/-/actress/=/keyword=i/\" #max_page 6\n",
    "url1 = \"https://www.dmm.co.jp/digital/videoa/-/actress/=/keyword=a/\" #max_page 12\n",
    "#url1 = \"https://www.dmm.co.jp/digital/videoa/-/actress/=/keyword=re/\" #max_page 1"
   ]
  },
  {
   "cell_type": "code",
   "execution_count": null,
   "id": "79d2e062-11d9-4bb2-8704-60d2ed74b4d7",
   "metadata": {},
   "outputs": [],
   "source": []
  },
  {
   "cell_type": "code",
   "execution_count": 3,
   "id": "1a1936a6-f96a-4a93-b724-17c92f20780f",
   "metadata": {},
   "outputs": [],
   "source": [
    "#ジャンル（OL)\n",
    "url2 = \"https://www.dmm.co.jp/digital/videoa/-/list/=/article=keyword/id=1001/\" #max_page 89\n",
    "#ジャンル（受付嬢）\n",
    "#url2 = \"https://www.dmm.co.jp/digital/videoa/-/list/=/article=keyword/id=6942/\" #max_page 1"
   ]
  },
  {
   "cell_type": "code",
   "execution_count": 4,
   "id": "3f2c3cc0-3885-4f67-9516-42b318ce82f3",
   "metadata": {},
   "outputs": [],
   "source": [
    "#作品ページ（篠田ゆう）\n",
    "url3 = \"https://www.dmm.co.jp/digital/videoa/-/list/=/article=actress/id=1008785/\""
   ]
  },
  {
   "cell_type": "code",
   "execution_count": 5,
   "id": "18b80f7a-92c5-4f3e-b44c-bf3c9b3a344a",
   "metadata": {},
   "outputs": [],
   "source": [
    "#url4 = \"https://www.dmm.co.jp/digital/videoa/-/list/=/article=actress/id=1008785/\""
   ]
  },
  {
   "cell_type": "code",
   "execution_count": 6,
   "id": "5a878903-846f-47c0-b44a-87e894d28310",
   "metadata": {},
   "outputs": [],
   "source": [
    "url5 = \"https://www.dmm.co.jp/digital/videoa/-/detail/=/cid=mrhp00004/?dmmref=actress_1008785&i3_ref=list&i3_ord=33\""
   ]
  },
  {
   "cell_type": "code",
   "execution_count": 76,
   "id": "c10dff78-63e5-41ea-8832-a055e27c1c8f",
   "metadata": {},
   "outputs": [],
   "source": [
    "def soup2(url):\n",
    "    res = requests.get(url)\n",
    "    soup = BeautifulSoup(res.text, 'html.parser')\n",
    "    res2 = requests.get(soup.find('a', class_ = \"ageCheck__link ageCheck__link--r18\")['href'])\n",
    "\n",
    "    soup2 = BeautifulSoup(res2.text, 'html.parser')\n",
    "    \n",
    "    if \"d/i\" in url:\n",
    "        print(\"ジャンルページです\")\n",
    "        #ジャンルページ用の関数を実行\n",
    "        max_page = genre_sakuhi_maxpage(soup2)\n",
    "        url_kind = \"genre\"\n",
    "        baseurl = \"https://www.dmm.co.jp/digital/videoa/-/list/=/article=keyword/id=1001/page=\"\n",
    "    elif \"a/-/a\" in url:\n",
    "        print(\"５０音ページです\")\n",
    "        url_kind =\"50on\"\n",
    "        max_page =  actor_max_page(soup2) \n",
    "        baseurl = \"https://www.dmm.co.jp/digital/videoa/-/actress/=/keyword=a/page=\"\n",
    "        #５０音ページ用の関数を実行\n",
    "    elif \"t&\" in url:\n",
    "        print(\"ビデオページです\")\n",
    "        url_kind = \"video\"\n",
    "        #ビデオページ用の関数を実行\n",
    "\n",
    "    elif \"s/i\" in url:\n",
    "        print(\"出演一覧ページ\")\n",
    "        url_kind = \"syutuen_itiran\"\n",
    "        max_page = genre_sakuhi_maxpage(soup2)\n",
    "        baseurl = \"https://www.dmm.co.jp/digital/videoa/-/list/=/article=actress/id=1008887/page=\"\n",
    "        #出演一覧ページ用の関数を実行\n",
    "\n",
    "    return soup2, url_kind, max_page+1, baseurl"
   ]
  },
  {
   "cell_type": "code",
   "execution_count": 80,
   "id": "b81d5392-39ec-4887-bb1e-b72728e92768",
   "metadata": {
    "tags": []
   },
   "outputs": [
    {
     "name": "stdout",
     "output_type": "stream",
     "text": [
      "ジャンルページです\n"
     ]
    }
   ],
   "source": [
    "soup9, url_kind, max_page, baseurl = soup2(url2)"
   ]
  },
  {
   "cell_type": "code",
   "execution_count": 81,
   "id": "bd9de1e3-d129-419f-b7b2-2298a95fa22a",
   "metadata": {},
   "outputs": [],
   "source": [
    "def make_url(max_page, baseurl):\n",
    "    url_lists = []\n",
    "    for page in range(1, max_page):\n",
    "        print(baseurl + str(page) + \"/\")"
   ]
  },
  {
   "cell_type": "code",
   "execution_count": 82,
   "id": "58c1d0b8-d1e2-4ba8-838f-5c3ddd1c79c7",
   "metadata": {
    "collapsed": true,
    "jupyter": {
     "outputs_hidden": true
    },
    "tags": []
   },
   "outputs": [
    {
     "name": "stdout",
     "output_type": "stream",
     "text": [
      "https://www.dmm.co.jp/digital/videoa/-/list/=/article=keyword/id=1001/page=1/\n",
      "https://www.dmm.co.jp/digital/videoa/-/list/=/article=keyword/id=1001/page=2/\n",
      "https://www.dmm.co.jp/digital/videoa/-/list/=/article=keyword/id=1001/page=3/\n",
      "https://www.dmm.co.jp/digital/videoa/-/list/=/article=keyword/id=1001/page=4/\n",
      "https://www.dmm.co.jp/digital/videoa/-/list/=/article=keyword/id=1001/page=5/\n",
      "https://www.dmm.co.jp/digital/videoa/-/list/=/article=keyword/id=1001/page=6/\n",
      "https://www.dmm.co.jp/digital/videoa/-/list/=/article=keyword/id=1001/page=7/\n",
      "https://www.dmm.co.jp/digital/videoa/-/list/=/article=keyword/id=1001/page=8/\n",
      "https://www.dmm.co.jp/digital/videoa/-/list/=/article=keyword/id=1001/page=9/\n",
      "https://www.dmm.co.jp/digital/videoa/-/list/=/article=keyword/id=1001/page=10/\n",
      "https://www.dmm.co.jp/digital/videoa/-/list/=/article=keyword/id=1001/page=11/\n",
      "https://www.dmm.co.jp/digital/videoa/-/list/=/article=keyword/id=1001/page=12/\n",
      "https://www.dmm.co.jp/digital/videoa/-/list/=/article=keyword/id=1001/page=13/\n",
      "https://www.dmm.co.jp/digital/videoa/-/list/=/article=keyword/id=1001/page=14/\n",
      "https://www.dmm.co.jp/digital/videoa/-/list/=/article=keyword/id=1001/page=15/\n",
      "https://www.dmm.co.jp/digital/videoa/-/list/=/article=keyword/id=1001/page=16/\n",
      "https://www.dmm.co.jp/digital/videoa/-/list/=/article=keyword/id=1001/page=17/\n",
      "https://www.dmm.co.jp/digital/videoa/-/list/=/article=keyword/id=1001/page=18/\n",
      "https://www.dmm.co.jp/digital/videoa/-/list/=/article=keyword/id=1001/page=19/\n",
      "https://www.dmm.co.jp/digital/videoa/-/list/=/article=keyword/id=1001/page=20/\n",
      "https://www.dmm.co.jp/digital/videoa/-/list/=/article=keyword/id=1001/page=21/\n",
      "https://www.dmm.co.jp/digital/videoa/-/list/=/article=keyword/id=1001/page=22/\n",
      "https://www.dmm.co.jp/digital/videoa/-/list/=/article=keyword/id=1001/page=23/\n",
      "https://www.dmm.co.jp/digital/videoa/-/list/=/article=keyword/id=1001/page=24/\n",
      "https://www.dmm.co.jp/digital/videoa/-/list/=/article=keyword/id=1001/page=25/\n",
      "https://www.dmm.co.jp/digital/videoa/-/list/=/article=keyword/id=1001/page=26/\n",
      "https://www.dmm.co.jp/digital/videoa/-/list/=/article=keyword/id=1001/page=27/\n",
      "https://www.dmm.co.jp/digital/videoa/-/list/=/article=keyword/id=1001/page=28/\n",
      "https://www.dmm.co.jp/digital/videoa/-/list/=/article=keyword/id=1001/page=29/\n",
      "https://www.dmm.co.jp/digital/videoa/-/list/=/article=keyword/id=1001/page=30/\n",
      "https://www.dmm.co.jp/digital/videoa/-/list/=/article=keyword/id=1001/page=31/\n",
      "https://www.dmm.co.jp/digital/videoa/-/list/=/article=keyword/id=1001/page=32/\n",
      "https://www.dmm.co.jp/digital/videoa/-/list/=/article=keyword/id=1001/page=33/\n",
      "https://www.dmm.co.jp/digital/videoa/-/list/=/article=keyword/id=1001/page=34/\n",
      "https://www.dmm.co.jp/digital/videoa/-/list/=/article=keyword/id=1001/page=35/\n",
      "https://www.dmm.co.jp/digital/videoa/-/list/=/article=keyword/id=1001/page=36/\n",
      "https://www.dmm.co.jp/digital/videoa/-/list/=/article=keyword/id=1001/page=37/\n",
      "https://www.dmm.co.jp/digital/videoa/-/list/=/article=keyword/id=1001/page=38/\n",
      "https://www.dmm.co.jp/digital/videoa/-/list/=/article=keyword/id=1001/page=39/\n",
      "https://www.dmm.co.jp/digital/videoa/-/list/=/article=keyword/id=1001/page=40/\n",
      "https://www.dmm.co.jp/digital/videoa/-/list/=/article=keyword/id=1001/page=41/\n",
      "https://www.dmm.co.jp/digital/videoa/-/list/=/article=keyword/id=1001/page=42/\n",
      "https://www.dmm.co.jp/digital/videoa/-/list/=/article=keyword/id=1001/page=43/\n",
      "https://www.dmm.co.jp/digital/videoa/-/list/=/article=keyword/id=1001/page=44/\n",
      "https://www.dmm.co.jp/digital/videoa/-/list/=/article=keyword/id=1001/page=45/\n",
      "https://www.dmm.co.jp/digital/videoa/-/list/=/article=keyword/id=1001/page=46/\n",
      "https://www.dmm.co.jp/digital/videoa/-/list/=/article=keyword/id=1001/page=47/\n",
      "https://www.dmm.co.jp/digital/videoa/-/list/=/article=keyword/id=1001/page=48/\n",
      "https://www.dmm.co.jp/digital/videoa/-/list/=/article=keyword/id=1001/page=49/\n",
      "https://www.dmm.co.jp/digital/videoa/-/list/=/article=keyword/id=1001/page=50/\n",
      "https://www.dmm.co.jp/digital/videoa/-/list/=/article=keyword/id=1001/page=51/\n",
      "https://www.dmm.co.jp/digital/videoa/-/list/=/article=keyword/id=1001/page=52/\n",
      "https://www.dmm.co.jp/digital/videoa/-/list/=/article=keyword/id=1001/page=53/\n",
      "https://www.dmm.co.jp/digital/videoa/-/list/=/article=keyword/id=1001/page=54/\n",
      "https://www.dmm.co.jp/digital/videoa/-/list/=/article=keyword/id=1001/page=55/\n",
      "https://www.dmm.co.jp/digital/videoa/-/list/=/article=keyword/id=1001/page=56/\n",
      "https://www.dmm.co.jp/digital/videoa/-/list/=/article=keyword/id=1001/page=57/\n",
      "https://www.dmm.co.jp/digital/videoa/-/list/=/article=keyword/id=1001/page=58/\n",
      "https://www.dmm.co.jp/digital/videoa/-/list/=/article=keyword/id=1001/page=59/\n",
      "https://www.dmm.co.jp/digital/videoa/-/list/=/article=keyword/id=1001/page=60/\n",
      "https://www.dmm.co.jp/digital/videoa/-/list/=/article=keyword/id=1001/page=61/\n",
      "https://www.dmm.co.jp/digital/videoa/-/list/=/article=keyword/id=1001/page=62/\n",
      "https://www.dmm.co.jp/digital/videoa/-/list/=/article=keyword/id=1001/page=63/\n",
      "https://www.dmm.co.jp/digital/videoa/-/list/=/article=keyword/id=1001/page=64/\n",
      "https://www.dmm.co.jp/digital/videoa/-/list/=/article=keyword/id=1001/page=65/\n",
      "https://www.dmm.co.jp/digital/videoa/-/list/=/article=keyword/id=1001/page=66/\n",
      "https://www.dmm.co.jp/digital/videoa/-/list/=/article=keyword/id=1001/page=67/\n",
      "https://www.dmm.co.jp/digital/videoa/-/list/=/article=keyword/id=1001/page=68/\n",
      "https://www.dmm.co.jp/digital/videoa/-/list/=/article=keyword/id=1001/page=69/\n",
      "https://www.dmm.co.jp/digital/videoa/-/list/=/article=keyword/id=1001/page=70/\n",
      "https://www.dmm.co.jp/digital/videoa/-/list/=/article=keyword/id=1001/page=71/\n",
      "https://www.dmm.co.jp/digital/videoa/-/list/=/article=keyword/id=1001/page=72/\n",
      "https://www.dmm.co.jp/digital/videoa/-/list/=/article=keyword/id=1001/page=73/\n",
      "https://www.dmm.co.jp/digital/videoa/-/list/=/article=keyword/id=1001/page=74/\n",
      "https://www.dmm.co.jp/digital/videoa/-/list/=/article=keyword/id=1001/page=75/\n",
      "https://www.dmm.co.jp/digital/videoa/-/list/=/article=keyword/id=1001/page=76/\n",
      "https://www.dmm.co.jp/digital/videoa/-/list/=/article=keyword/id=1001/page=77/\n",
      "https://www.dmm.co.jp/digital/videoa/-/list/=/article=keyword/id=1001/page=78/\n",
      "https://www.dmm.co.jp/digital/videoa/-/list/=/article=keyword/id=1001/page=79/\n",
      "https://www.dmm.co.jp/digital/videoa/-/list/=/article=keyword/id=1001/page=80/\n",
      "https://www.dmm.co.jp/digital/videoa/-/list/=/article=keyword/id=1001/page=81/\n",
      "https://www.dmm.co.jp/digital/videoa/-/list/=/article=keyword/id=1001/page=82/\n",
      "https://www.dmm.co.jp/digital/videoa/-/list/=/article=keyword/id=1001/page=83/\n",
      "https://www.dmm.co.jp/digital/videoa/-/list/=/article=keyword/id=1001/page=84/\n",
      "https://www.dmm.co.jp/digital/videoa/-/list/=/article=keyword/id=1001/page=85/\n",
      "https://www.dmm.co.jp/digital/videoa/-/list/=/article=keyword/id=1001/page=86/\n",
      "https://www.dmm.co.jp/digital/videoa/-/list/=/article=keyword/id=1001/page=87/\n",
      "https://www.dmm.co.jp/digital/videoa/-/list/=/article=keyword/id=1001/page=88/\n",
      "https://www.dmm.co.jp/digital/videoa/-/list/=/article=keyword/id=1001/page=89/\n"
     ]
    }
   ],
   "source": [
    "make_url(max_page, baseurl)"
   ]
  },
  {
   "cell_type": "code",
   "execution_count": 35,
   "id": "61504533-05cc-4ca9-aec5-86012f70cb88",
   "metadata": {},
   "outputs": [
    {
     "data": {
      "text/plain": [
       "<title>OL - エロ動画・アダルトビデオ - FANZA動画</title>"
      ]
     },
     "execution_count": 35,
     "metadata": {},
     "output_type": "execute_result"
    }
   ],
   "source": [
    "soup9.title"
   ]
  },
  {
   "cell_type": "code",
   "execution_count": 75,
   "id": "d6f9e2cb-3037-4cae-9428-bb44c46172eb",
   "metadata": {},
   "outputs": [],
   "source": [
    "def actor_max_page(soup2):\n",
    "    #５０音キーワード別女優総人数：total_number_of_actor\n",
    "    total_number_of_actor= soup2.find('div', class_ = \"list-boxcaptside list-boxpagenation group\").p.text.replace('　', '').split('人')[0]\n",
    "    max_page_number = int(soup2.find('div', class_ = \"list-boxcaptside list-boxpagenation group\").p.text.replace('　', '').split('全')[1].split('ペ')[0])\n",
    "    return max_page_number"
   ]
  },
  {
   "cell_type": "code",
   "execution_count": 47,
   "id": "6f231cbd-99dc-4444-bdf0-b01cc44f2e37",
   "metadata": {
    "tags": []
   },
   "outputs": [],
   "source": [
    "def genre_sakuhi_maxpage(soup2):\n",
    "    #ジャンルページは、「10,581タイトル中　1～120タイトル　1ページ目を表示」で全ページ数の表示がないのでタイトル数//１２０で切り上げ割り算でページ数を取得する\n",
    "    #.replace(',', '')はタイトル数が４桁になると「1,000」とカンマが入るので削除している。int()に変換できないので。この記述がタイトル数３桁でエラーを発生することはない。\n",
    "    sakuhin_title_number = int(soup2.find('div', class_ =\"list-boxcaptside list-boxpagenation\").p.text.replace('　', '').split('タ')[0].replace(',', ''))\n",
    "    # 121//120は切り捨て割り算、期待値は切り上げ割り算の結果で下記のようになる。\n",
    "    max_page_number = -(-sakuhin_title_number // 120)\n",
    "    return max_page_number"
   ]
  },
  {
   "cell_type": "code",
   "execution_count": null,
   "id": "393672a2-8ed0-4f29-8cff-8fe7612c93db",
   "metadata": {},
   "outputs": [],
   "source": [
    "sakujyo_title_word = \" - エロ動画・アダルトビデオ - FANZA動画\""
   ]
  },
  {
   "cell_type": "code",
   "execution_count": null,
   "id": "bf180d6e-c872-4d4b-b01e-267110174bed",
   "metadata": {},
   "outputs": [],
   "source": []
  },
  {
   "cell_type": "code",
   "execution_count": null,
   "id": "cc083d2b-f307-45ab-a563-c171b633f414",
   "metadata": {},
   "outputs": [],
   "source": [
    "def actress(url):\n",
    "\tpass\n",
    "\n",
    "def genre(url):\n",
    "    pass\n",
    "def sakuhin_list(soup9):\n",
    "    data = []\n",
    "    sakuhin_title_number = int(soup9.find('div', class_ =\"list-boxcaptside list-boxpagenation\").p.text.replace('　', '').split('タ')[0].replace(',', ''))\n",
    "    # 121//120は切り捨て割り算、期待値は切り上げ割り算の結果で下記のようになる。\n",
    "    max_page_number = -(-sakuhin_title_number // 120)\n",
    "    replace_word = \" - エロ動画・アダルトビデオ - FANZA動画\"\n",
    "    actor_name = soup9.title.text.replace(replace_word, '')\n",
    "    #print(actor_name)\n",
    "    #data = soup9.find_all('p', class_ = \"tmb\")\n",
    "    sakuhin_data = soup9.find_all('p', class_ = \"tmb\")\n",
    "    sakuhin_title = soup9.find_all('p', class_ = \"tmb\")[0].a.span.next_sibling.next_sibling.text\n",
    "    print(sakuhin_title)\n",
    "    return data\n",
    "\n",
    "def video_page(url):\n",
    "    pass\n",
    "\n",
    "def sakuhin(max_page, url):\n",
    "    base_url = \"baseurl:https://www.dmm.co.jp/digital/videoa/-/list/=/article=actress/id=1008887/page=\"\n",
    "    sakuhin_lists = []\n",
    "    #ページネーション処理\n",
    "    for row in range(1, max_page): #index 1から開始指定\n",
    "        #print(row)\n",
    "        #print(url + \"page=\" + str(row))\n",
    "        res3 = requests.get(url + \"page=\" + str(row))\n",
    "        soup4 = BeautifulSoup(res3.text, 'html.parser')\n",
    "        res4 = requests.get(soup4.find('a', class_=\"ageCheck__link ageCheck__link--r18\").get('href'))\n",
    "        soup5 = BeautifulSoup(res4.text, 'html.parser')\n",
    "        actress = soup5.find('ul', class_ = 'd-item act-box-100 group')\n",
    "        #print(actress.select('span')[0].text)\n",
    "        #配列内に配列を追記\n",
    "\n",
    "        act_list = [furigana, act_name, syutuen_su, act_gazou_url, act_base_url]\n",
    "        act_lists.pend(act_list)\n",
    "    return act_lists"
   ]
  },
  {
   "cell_type": "code",
   "execution_count": null,
   "id": "e202b1ea-6598-4551-9659-7d8f1a1fc3b9",
   "metadata": {},
   "outputs": [],
   "source": []
  },
  {
   "cell_type": "code",
   "execution_count": null,
   "id": "073ef2fe-543b-4030-bd7a-247296deeaf4",
   "metadata": {},
   "outputs": [],
   "source": [
    "url_check(url5)"
   ]
  },
  {
   "cell_type": "code",
   "execution_count": null,
   "id": "5cc4bdd9-75ae-41bf-a884-80844c12eef4",
   "metadata": {},
   "outputs": [],
   "source": [
    "#女優\n",
    "#ジャンル\n",
    "#作品一覧"
   ]
  },
  {
   "cell_type": "code",
   "execution_count": 66,
   "id": "2ed58fbe-cdcc-4cd9-a224-2944de8fb589",
   "metadata": {},
   "outputs": [
    {
     "data": {
      "text/plain": [
       "'AV女優 [あ]'"
      ]
     },
     "execution_count": 66,
     "metadata": {},
     "output_type": "execute_result"
    }
   ],
   "source": [
    "soup3.title.text.replace(replace_word, '')"
   ]
  },
  {
   "cell_type": "code",
   "execution_count": 67,
   "id": "bb3df8d6-6e7b-4df9-b796-f64c954f1633",
   "metadata": {},
   "outputs": [],
   "source": [
    "replace_word = \" - エロ動画・アダルトビデオ - FANZA動画\""
   ]
  },
  {
   "cell_type": "code",
   "execution_count": 57,
   "id": "e652dc02-432c-463f-a003-3514937bb67b",
   "metadata": {},
   "outputs": [],
   "source": [
    "def soup3(url):\n",
    "    res = requests.get(url)\n",
    "    soup = BeautifulSoup(res.text, 'html.parser')\n",
    "    res2 = requests.get(soup.find('a', class_ = \"ageCheck__link ageCheck__link--r18\")['href'])\n",
    "\n",
    "    soup3 = BeautifulSoup(res2.text, 'html.parser')\n",
    "    return soup3"
   ]
  },
  {
   "cell_type": "code",
   "execution_count": 59,
   "id": "511b039b-7f31-4722-9e4f-8e990e52d4d4",
   "metadata": {},
   "outputs": [],
   "source": [
    "soup3 = soup3(url1)"
   ]
  },
  {
   "cell_type": "code",
   "execution_count": null,
   "id": "118a1506-b10b-4c27-9c6e-ec451bbfd7d8",
   "metadata": {},
   "outputs": [],
   "source": [
    "actor_page = soup2(url1)"
   ]
  },
  {
   "cell_type": "code",
   "execution_count": null,
   "id": "b11d6fbb-ba2f-41bc-b652-f044da6a14ee",
   "metadata": {},
   "outputs": [],
   "source": [
    " file_name = actor_page.title.text.replace(replace_word, '')"
   ]
  },
  {
   "cell_type": "code",
   "execution_count": null,
   "id": "b579d23f-a666-4ee8-b592-d24e272a0764",
   "metadata": {},
   "outputs": [],
   "source": []
  },
  {
   "cell_type": "code",
   "execution_count": null,
   "id": "ca079857-f4c6-4c55-959b-40fb6a494976",
   "metadata": {},
   "outputs": [],
   "source": []
  }
 ],
 "metadata": {
  "kernelspec": {
   "display_name": "Python 3 (ipykernel)",
   "language": "python",
   "name": "python3"
  },
  "language_info": {
   "codemirror_mode": {
    "name": "ipython",
    "version": 3
   },
   "file_extension": ".py",
   "mimetype": "text/x-python",
   "name": "python",
   "nbconvert_exporter": "python",
   "pygments_lexer": "ipython3",
   "version": "3.10.6"
  }
 },
 "nbformat": 4,
 "nbformat_minor": 5
}
