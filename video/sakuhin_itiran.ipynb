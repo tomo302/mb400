{
 "cells": [
  {
   "cell_type": "code",
   "execution_count": 2,
   "id": "dce9d129-6e49-413d-aac7-56f857220f38",
   "metadata": {},
   "outputs": [],
   "source": [
    "import requests\n",
    "from bs4 import BeautifulSoup\n",
    "import os"
   ]
  },
  {
   "cell_type": "code",
   "execution_count": 3,
   "id": "f5fcc080-07a3-4517-9b3b-21c169f0d6f5",
   "metadata": {},
   "outputs": [],
   "source": [
    "#url = \"https://www.dmm.co.jp/digital/videoa/-/list/=/article=actress/id=26225/\"\n",
    "#url = \"https://www.dmm.co.jp/digital/videoa/-/list/=/article=actress/id=1072127/\"\n",
    "url = \"https://www.dmm.co.jp/digital/videoa/-/list/=/article=actress/id=1008785/\""
   ]
  },
  {
   "cell_type": "code",
   "execution_count": 4,
   "id": "6d6a53e5-ba6b-4a8a-ac1f-84b33b072535",
   "metadata": {},
   "outputs": [],
   "source": [
    "res = requests.get(url)\n",
    "soup = BeautifulSoup(res.text, 'html.parser')\n",
    "firstpage_url = soup.find('a', class_=\"ageCheck__link ageCheck__link--r18\").get('href')\n",
    "res2 = requests.get(firstpage_url)\n",
    "soup2 = BeautifulSoup(res2.text, 'html.parser')"
   ]
  },
  {
   "cell_type": "code",
   "execution_count": 6,
   "id": "53097a47-4238-4c6f-8f76-baaa15b5c019",
   "metadata": {},
   "outputs": [
    {
     "ename": "IndentationError",
     "evalue": "unindent does not match any outer indentation level (<tokenize>, line 3)",
     "output_type": "error",
     "traceback": [
      "\u001b[1;36m  File \u001b[1;32m<tokenize>:3\u001b[1;36m\u001b[0m\n\u001b[1;33m    <meta itemprop=\"position\" content=\"4\">\u001b[0m\n\u001b[1;37m    ^\u001b[0m\n\u001b[1;31mIndentationError\u001b[0m\u001b[1;31m:\u001b[0m unindent does not match any outer indentation level\n"
     ]
    }
   ],
   "source": [
    "<li itemscope=\"\" itemprop=\"itemListElement\" itemtype=\"https://schema.org/ListItem\">\n",
    "                                    <span itemprop=\"name\">波多野結衣(はたのゆい)</span>\n",
    "                                <meta itemprop=\"position\" content=\"4\">\n",
    "            </li>"
   ]
  },
  {
   "cell_type": "code",
   "execution_count": null,
   "id": "ac62d734-3d6b-479c-a0e6-a50c8eb42cd6",
   "metadata": {},
   "outputs": [],
   "source": [
    "soup2.find_all('li', itemprop=\"itemListElement\")[3].span.text"
   ]
  },
  {
   "cell_type": "code",
   "execution_count": 7,
   "id": "1a312c38-5192-4f36-ba1f-da9fa7502502",
   "metadata": {},
   "outputs": [
    {
     "data": {
      "text/plain": [
       "['1,722タイトル中', '1～120タイトル', '1ページ目を表示']"
      ]
     },
     "execution_count": 7,
     "metadata": {},
     "output_type": "execute_result"
    }
   ],
   "source": [
    "soup2.find('div', class_ = \"list-boxcaptside list-boxpagenation\").p.text.split()"
   ]
  },
  {
   "cell_type": "code",
   "execution_count": 8,
   "id": "62752248-fb50-4cff-a69f-db5f9843befd",
   "metadata": {
    "tags": []
   },
   "outputs": [
    {
     "data": {
      "text/plain": [
       "'1722'"
      ]
     },
     "execution_count": 8,
     "metadata": {},
     "output_type": "execute_result"
    }
   ],
   "source": [
    "soup2.find('div', class_ = \"list-boxcaptside list-boxpagenation\").p.text.split('タ')[0].replace(',', '')"
   ]
  },
  {
   "cell_type": "code",
   "execution_count": 9,
   "id": "44d96f92-7de5-423c-aa43-43d61c367027",
   "metadata": {},
   "outputs": [
    {
     "ename": "SyntaxError",
     "evalue": "invalid syntax (4035180201.py, line 1)",
     "output_type": "error",
     "traceback": [
      "\u001b[1;36m  Input \u001b[1;32mIn [9]\u001b[1;36m\u001b[0m\n\u001b[1;33m    <div class=\"list-boxcaptside list-boxpagenation\">\u001b[0m\n\u001b[1;37m    ^\u001b[0m\n\u001b[1;31mSyntaxError\u001b[0m\u001b[1;31m:\u001b[0m invalid syntax\n"
     ]
    }
   ],
   "source": [
    "<div class=\"list-boxcaptside list-boxpagenation\">\n",
    "        <p>20タイトル中　1～20タイトル　1ページ目を表示</p>"
   ]
  },
  {
   "cell_type": "code",
   "execution_count": 10,
   "id": "5e77f766-d2b9-4fc5-b564-efb7527df974",
   "metadata": {},
   "outputs": [],
   "source": [
    "def max_page(url):\n",
    "    res = requests.get(url)\n",
    "    soup = BeautifulSoup(res.text, 'html.parser')\n",
    "    firstpage_url = soup.find('a', class_=\"ageCheck__link ageCheck__link--r18\").get('href')\n",
    "    res2 = requests.get(firstpage_url)\n",
    "    soup2 = BeautifulSoup(res2.text, 'html.parser')\n",
    "    #print(soup2.find(class_ = 'list-boxcaptside list-boxpagenation group').p.text.split())\n",
    "    #['183人中', '1～100人', '全2ページ中', '1ページ目を表示']のインデックス2をsplitで'全'と'ペ'で分割して数値部分を取得する\n",
    "    max_page = int(soup2.find('div', class_ = \"list-boxcaptside list-boxpagenation\").p.text.split('タ')[0].replace(',', '')) // 120\n",
    "    if max_page == 1:\n",
    "        page_nation_max = 2 #ここ１にしてハマった！！for文でindex開始１を指定するため\n",
    "        \n",
    "    #ページネーション最大ページ数を取得\n",
    "    else:\n",
    "        page_nation_max = max_page\n",
    "    return page_nation_max, url, soup2"
   ]
  },
  {
   "cell_type": "code",
   "execution_count": 17,
   "id": "850264d4-97e5-452e-9104-9d6b85144991",
   "metadata": {},
   "outputs": [],
   "source": [
    "rep_word = \"- エロ動画・アダルトビデオ - FANZA動画\"\n",
    "actor_name = soup2.title.text.replace(rep_word, '')"
   ]
  },
  {
   "cell_type": "code",
   "execution_count": 20,
   "id": "e7ed605f-edb7-4117-9e00-4ef3c841db14",
   "metadata": {},
   "outputs": [
    {
     "data": {
      "text/plain": [
       "'篠田ゆう(しのだゆう) '"
      ]
     },
     "execution_count": 20,
     "metadata": {},
     "output_type": "execute_result"
    }
   ],
   "source": [
    "actor_name"
   ]
  },
  {
   "cell_type": "code",
   "execution_count": 15,
   "id": "86cd8494-979e-4dbc-8f88-5409a88a5306",
   "metadata": {},
   "outputs": [
    {
     "data": {
      "text/plain": [
       "<title>篠田ゆう(しのだゆう) - エロ動画・アダルトビデオ - FANZA動画</title>"
      ]
     },
     "execution_count": 15,
     "metadata": {},
     "output_type": "execute_result"
    }
   ],
   "source": [
    "soup2.title"
   ]
  },
  {
   "cell_type": "code",
   "execution_count": 11,
   "id": "6d12adbe-fa5f-4dd7-b4c2-20df93058d08",
   "metadata": {},
   "outputs": [],
   "source": [
    "max_page, url, soup2 = max_page(url)"
   ]
  },
  {
   "cell_type": "code",
   "execution_count": 12,
   "id": "e31edc52-5d18-4cc3-bb6d-6a49ed807c44",
   "metadata": {},
   "outputs": [
    {
     "data": {
      "text/plain": [
       "14"
      ]
     },
     "execution_count": 12,
     "metadata": {},
     "output_type": "execute_result"
    }
   ],
   "source": [
    "max_page"
   ]
  },
  {
   "cell_type": "code",
   "execution_count": 13,
   "id": "20525e89-abab-4b82-9833-657238bafa5c",
   "metadata": {},
   "outputs": [
    {
     "data": {
      "text/plain": [
       "'https://www.dmm.co.jp/digital/videoa/-/list/=/article=actress/id=1008785/'"
      ]
     },
     "execution_count": 13,
     "metadata": {},
     "output_type": "execute_result"
    }
   ],
   "source": [
    "url"
   ]
  },
  {
   "cell_type": "code",
   "execution_count": 14,
   "id": "789a7dc6-9f72-4ee9-b2cc-3b7487c7c3f5",
   "metadata": {},
   "outputs": [
    {
     "data": {
      "text/plain": [
       "<p class=\"tmb\">\n",
       "<a data-i3dmmref=\"actress_1008785\" data-i3ref=\"list\" data-listorder=\"21\" href=\"https://www.dmm.co.jp/digital/videoa/-/detail/=/cid=pbd00428/\" onmousedown=\"var p=[];p.push('dmmref='+this.dataset.i3dmmref);p.push('i3_ref='+this.dataset.i3ref);p.push('i3_ord='+this.dataset.listorder);this.href+='?'+p.join('&amp;');this.onmousedown='function(){};'\">\n",
       "<span class=\"img\"><img alt=\"綺麗なお姉さん達に囲まれ犯●れハーレム 30コーナーBEST\" src=\"https://pics.dmm.co.jp/digital/video/pbd00428/pbd00428ps.jpg\"/></span>\n",
       "<span class=\"txt\">綺麗なお姉さん達に囲まれ犯●れハーレム 30コーナーBEST</span>\n",
       "<!--/tmb--></a></p>"
      ]
     },
     "execution_count": 14,
     "metadata": {},
     "output_type": "execute_result"
    }
   ],
   "source": [
    "soup2.find_all('p', class_ = \"tmb\")[20]"
   ]
  },
  {
   "cell_type": "code",
   "execution_count": 148,
   "id": "355760dd-ceb5-4488-9c33-475d792bff32",
   "metadata": {},
   "outputs": [],
   "source": [
    "sakuhin_title = soup2.find_all('p', class_ = \"tmb\")[0].a.span.next_sibling.next_sibling.text"
   ]
  },
  {
   "cell_type": "code",
   "execution_count": 159,
   "id": "e7a4042d-b586-49db-bd94-aa1fc493d3aa",
   "metadata": {},
   "outputs": [
    {
     "data": {
      "text/plain": [
       "'ヌードモデルNTR 上司と羞恥に溺れた妻の衝撃的浮気映像 篠田ゆう'"
      ]
     },
     "execution_count": 159,
     "metadata": {},
     "output_type": "execute_result"
    }
   ],
   "source": [
    "sakuhin_title"
   ]
  },
  {
   "cell_type": "code",
   "execution_count": 168,
   "id": "e4ad320c-2cf7-4abe-85af-e29e665f267b",
   "metadata": {},
   "outputs": [
    {
     "data": {
      "text/plain": [
       "'https://www.dmm.co.jp/digital/videoa/-/detail/=/cid=jul00959/'"
      ]
     },
     "execution_count": 168,
     "metadata": {},
     "output_type": "execute_result"
    }
   ],
   "source": [
    "soup2.find_all('p', class_ = \"tmb\")[0].a['href']"
   ]
  },
  {
   "cell_type": "code",
   "execution_count": 161,
   "id": "84e790c1-89d5-4bfc-85a7-2e249ce084bf",
   "metadata": {},
   "outputs": [],
   "source": [
    "os.mkdir(sakuhin_title)"
   ]
  },
  {
   "cell_type": "code",
   "execution_count": 162,
   "id": "2d3849fc-12b8-4a11-bc91-f3de3a60cc3e",
   "metadata": {},
   "outputs": [],
   "source": [
    "os.chdir(sakuhin_title)"
   ]
  },
  {
   "cell_type": "code",
   "execution_count": 165,
   "id": "c45cce6e-d228-4faa-bf59-d92cb4406efa",
   "metadata": {},
   "outputs": [
    {
     "name": "stdout",
     "output_type": "stream",
     "text": [
      "/home/fed36-mb400/Fanza\n"
     ]
    }
   ],
   "source": [
    "!pwd"
   ]
  },
  {
   "cell_type": "code",
   "execution_count": 164,
   "id": "38bed160-64a9-41d4-ae6d-87f21e4a32fc",
   "metadata": {},
   "outputs": [],
   "source": [
    "os.chdir('..')"
   ]
  },
  {
   "cell_type": "code",
   "execution_count": 158,
   "id": "31c45b17-51e8-4f0b-8acb-a28c452602cb",
   "metadata": {},
   "outputs": [
    {
     "data": {
      "text/plain": [
       "'https://pics.dmm.co.jp/digital/video/dazd00130/dazd00130ps.jpg'"
      ]
     },
     "execution_count": 158,
     "metadata": {},
     "output_type": "execute_result"
    }
   ],
   "source": [
    "#soup2.find_all('p', class_ = \"tmb\")[21].a.img['src']"
   ]
  },
  {
   "cell_type": "code",
   "execution_count": null,
   "id": "fe1d62dc-6e2e-4e74-b2df-4110fde229eb",
   "metadata": {},
   "outputs": [],
   "source": []
  },
  {
   "cell_type": "code",
   "execution_count": null,
   "id": "3f514952-f010-4ec1-b954-a48e4d291184",
   "metadata": {
    "jupyter": {
     "source_hidden": true
    },
    "tags": []
   },
   "outputs": [],
   "source": []
  },
  {
   "cell_type": "code",
   "execution_count": 130,
   "id": "9f34ffa2-b813-4549-80af-a392dbed0bd6",
   "metadata": {},
   "outputs": [],
   "source": [
    "def sakuhin(max_page, url):\n",
    "    sakuhin_lists = []\n",
    "    #ページネーション処理\n",
    "    for row in range(1, max_page): #index 1から開始指定\n",
    "        #print(row)\n",
    "        #print(url + \"page=\" + str(row))\n",
    "        res3 = requests.get(url + \"page=\" + str(row))\n",
    "        soup4 = BeautifulSoup(res3.text, 'html.parser')\n",
    "        res4 = requests.get(soup4.find('a', class_=\"ageCheck__link ageCheck__link--r18\").get('href'))\n",
    "        soup5 = BeautifulSoup(res4.text, 'html.parser')\n",
    "        actress = soup5.find('ul', class_ = 'd-item act-box-100 group')\n",
    "        #print(actress.select('span')[0].text)\n",
    "        #配列内に配列を追記\n",
    "        \n",
    "            act_list = [furigana, act_name, syutuen_su, act_gazou_url, act_base_url]\n",
    "            act_lists.append(act_list)\n",
    "    return act_lists"
   ]
  },
  {
   "cell_type": "code",
   "execution_count": null,
   "id": "be508bfc-96c6-4044-9bba-e530ac41c7ce",
   "metadata": {},
   "outputs": [],
   "source": [
    "リストにインデックスをつけて取り出す(1から開始)\n",
    "prg = ['python', 'java', 'c#']\n",
    "for i, p in enumerate(prg, start=1):\n",
    "    print(i, p)\n",
    "#[結果] 1 python\n",
    "#[結果] 2 java\n",
    "#[結果] 3 c#"
   ]
  }
 ],
 "metadata": {
  "kernelspec": {
   "display_name": "Python 3 (ipykernel)",
   "language": "python",
   "name": "python3"
  },
  "language_info": {
   "codemirror_mode": {
    "name": "ipython",
    "version": 3
   },
   "file_extension": ".py",
   "mimetype": "text/x-python",
   "name": "python",
   "nbconvert_exporter": "python",
   "pygments_lexer": "ipython3",
   "version": "3.9.8"
  }
 },
 "nbformat": 4,
 "nbformat_minor": 5
}
