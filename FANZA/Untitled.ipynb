{
 "cells": [
  {
   "cell_type": "code",
   "execution_count": 1,
   "id": "a4197bf8-40a7-4355-a8ad-44d2ba70dd36",
   "metadata": {},
   "outputs": [],
   "source": [
    "l = [{'Name': 'Alice', 'Age': 40, 'Point': 80}, \n",
    "     {'Name': 'Bob', 'Age': 20},\n",
    "     {'Name': 'Charlie', 'Age': 30, 'Point': 70}]"
   ]
  },
  {
   "cell_type": "code",
   "execution_count": 4,
   "id": "4f940adf-3343-4f97-a811-b3b8e5c529db",
   "metadata": {},
   "outputs": [
    {
     "name": "stdout",
     "output_type": "stream",
     "text": [
      "['Alice', 'Bob', 'Charlie']\n",
      "[40, 20, 30]\n",
      "[80, None, 70]\n"
     ]
    }
   ],
   "source": [
    "l_name = [d.get('Name') for d in l]\n",
    "print(l_name)\n",
    "# ['Alice', 'Bob', 'Charlie']\n",
    "\n",
    "l_age = [d.get('Age') for d in l]\n",
    "print(l_age)\n",
    "# [40, 20, 30]\n",
    "\n",
    "l_point = [d.get('Point') for d in l]\n",
    "print(l_point)\n",
    "# [80, None, 70]"
   ]
  },
  {
   "cell_type": "code",
   "execution_count": null,
   "id": "689fc625-12eb-4801-be5f-df11d846a53d",
   "metadata": {},
   "outputs": [],
   "source": []
  }
 ],
 "metadata": {
  "kernelspec": {
   "display_name": "Python 3 (ipykernel)",
   "language": "python",
   "name": "python3"
  },
  "language_info": {
   "codemirror_mode": {
    "name": "ipython",
    "version": 3
   },
   "file_extension": ".py",
   "mimetype": "text/x-python",
   "name": "python",
   "nbconvert_exporter": "python",
   "pygments_lexer": "ipython3",
   "version": "3.9.8"
  }
 },
 "nbformat": 4,
 "nbformat_minor": 5
}
