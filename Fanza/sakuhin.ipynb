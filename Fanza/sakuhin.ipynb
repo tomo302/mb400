{
 "cells": [
  {
   "cell_type": "code",
   "execution_count": 2,
   "id": "cfe165ea-3c38-4277-9fd0-8a62e1b59b69",
   "metadata": {},
   "outputs": [],
   "source": [
    "import requests\n",
    "from bs4 import BeautifulSoup\n",
    "import os\n",
    "import json\n",
    "import itertools"
   ]
  },
  {
   "cell_type": "code",
   "execution_count": 3,
   "id": "1be39667-d0d8-4c97-a71a-50d073f96753",
   "metadata": {},
   "outputs": [],
   "source": [
    "url = \"https://www.dmm.co.jp/digital/videoa/-/detail/=/cid=jul00959/\""
   ]
  },
  {
   "cell_type": "code",
   "execution_count": 4,
   "id": "93bae32e-480d-4f9f-9135-a41f15835393",
   "metadata": {},
   "outputs": [],
   "source": [
    "res = requests.get(url)\n",
    "soup = BeautifulSoup(res.text, 'html.parser')\n",
    "firstpage_url = soup.find('a', class_=\"ageCheck__link ageCheck__link--r18\").get('href')\n",
    "res2 = requests.get(firstpage_url)\n",
    "soup2 = BeautifulSoup(res2.text, 'html.parser')"
   ]
  },
  {
   "cell_type": "code",
   "execution_count": 5,
   "id": "9a84125a-a22e-48ff-9cdc-106f57bb0316",
   "metadata": {},
   "outputs": [],
   "source": [
    "json_2 = soup2.find(\"script\", {\"type\": \"application/ld+json\"})"
   ]
  },
  {
   "cell_type": "code",
   "execution_count": 6,
   "id": "d3c45f5e-3ff2-4155-a8da-d44742efcee5",
   "metadata": {},
   "outputs": [
    {
     "name": "stdout",
     "output_type": "stream",
     "text": [
      "<class 'bs4.element.Tag'>\n"
     ]
    }
   ],
   "source": [
    "print(type(json_2))"
   ]
  },
  {
   "cell_type": "code",
   "execution_count": 7,
   "id": "b876139f-802a-4a27-9d68-f18e0b5e18a8",
   "metadata": {},
   "outputs": [],
   "source": [
    "data = json_2.text"
   ]
  },
  {
   "cell_type": "code",
   "execution_count": 8,
   "id": "774c1e6d-8c97-420a-aa19-c434743ee0d8",
   "metadata": {},
   "outputs": [
    {
     "data": {
      "text/plain": [
       "'\\n{\"@context\":\"http://schema.org\", \"@type\":\"Product\", \"name\":\"ヌードモデルNTR 上司と羞恥に溺れた妻の衝撃的浮気映像 篠田ゆう\", \"image\":\"https://pics.dmm.co.jp/digital/video/jul00959/jul00959ps.jpg\", \"description\":\"妻のゆうと結婚して数年、出版社で働く冴えない僕の元に大仕事が舞い込んできた。上司の大木さんから人気カメラマン・大塚玉堂と仕事する機会を与えられ、僕はいつになく意気込んでいた。しかし撮影日、予定していた女性モデルと連絡が全く取れないのだ。見つかるはずのない代理モデル、次第に苛立つ大塚先生、慌てふためくだけの僕に大木さんの怒りは沸点に達して、妻のゆうを代わりのモデルとして呼ぶように命令されて…。\", \"sku\":\"jul00959\", \"brand\":{\"@type\":\"Brand\", \"name\":\"マドンナ\"}, \"subjectOf\":{\"@type\":\"VideoObject\", \"name\":\"ヌードモデルNTR 上司と羞恥に溺れた妻の衝撃的浮気映像 篠田ゆう\", \"description\":\"妻のゆうと結婚して数年、出版社で働く冴えない僕の元に大仕事が舞い込んできた。上司の大木さんから人気カメラマン・大塚玉堂と仕事する機会を与えられ、僕はいつになく意気込んでいた。しかし撮影日、予定していた女性モデルと連絡が全く取れないのだ。見つかるはずのない代理モデル、次第に苛立つ大塚先生、慌てふためくだけの僕に大木さんの怒りは沸点に達して、妻のゆうを代わりのモデルとして呼ぶように命令されて…。\", \"contentUrl\":\"https://cc3001.dmm.co.jp/litevideo/freepv/j/jul/jul00959/jul00959_sm_w.mp4\", \"thumbnailUrl\":\"https://pics.dmm.co.jp/digital/video/jul00959/jul00959jp-2.jpg\", \"uploadDate\":\"2022-04-12\", \"actor\":{\"@type\":\"Person\", \"name\":\"篠田ゆう\", \"alternateName\":\"しのだゆう\"}, \"genre\":[\"ハイビジョン\", \"独占配信\", \"人妻・主婦\", \"単体作品\", \"寝取り・寝取られ・NTR\", \"美乳\", \"熟女\", \"デジモ\", \"巨尻\"]}, \"offers\":{\"@type\":\"Offer\", \"availability\":\"https://schema.org/InStock\", \"priceCurrency\":\"JPY\", \"price\":\"500\"}, \"aggregateRating\":{\"@type\":\"AggregateRating\", \"ratingValue\":\"3.55\", \"ratingCount\":\"11\"}}\\n'"
      ]
     },
     "execution_count": 8,
     "metadata": {},
     "output_type": "execute_result"
    }
   ],
   "source": [
    "data"
   ]
  },
  {
   "cell_type": "code",
   "execution_count": 9,
   "id": "13ce9d02-d2a8-4811-bf8d-b48f5edf419a",
   "metadata": {},
   "outputs": [
    {
     "name": "stdout",
     "output_type": "stream",
     "text": [
      "<class 'str'>\n"
     ]
    }
   ],
   "source": [
    "print(type(data))"
   ]
  },
  {
   "cell_type": "code",
   "execution_count": 10,
   "id": "ce523fd9-cd93-48d1-a05f-261114a1d045",
   "metadata": {},
   "outputs": [
    {
     "name": "stdout",
     "output_type": "stream",
     "text": [
      "篠田ゆう\n",
      "ヌードモデルNTR 上司と羞恥に溺れた妻の衝撃的浮気映像 篠田ゆう\n",
      "\n",
      "妻のゆうと結婚して数年、出版社で働く冴えない僕の元に大仕事が舞い込んできた。上司の大木さんから人気カメラマン・大塚玉堂と仕事する機会を与えられ、僕はいつになく意気込んでいた。しかし撮影日、予定していた女性モデルと連絡が全く取れないのだ。見つかるはずのない代理モデル、次第に苛立つ大塚先生、慌てふためくだけの僕に大木さんの怒りは沸点に達して、妻のゆうを代わりのモデルとして呼ぶように命令されて…。\n",
      "\n",
      "https://cc3001.dmm.co.jp/litevideo/freepv/j/jul/jul00959/jul00959_mhb_w.mp4\n"
     ]
    }
   ],
   "source": [
    "json_dict = None\n",
    "if \"subjectOf\" in data and \"contentUrl\" in data:\n",
    "    json_dict = json.loads(data)\n",
    "    #print(json_dict)\n",
    "    actor_name = json_dict['subjectOf']['actor']['name']\n",
    "    video_title = json_dict['name']\n",
    "    description = json_dict['description']\n",
    "    video_url = (json_dict['subjectOf']['contentUrl']).replace('sm', 'mhb')\n",
    "    print(actor_name)\n",
    "    print(video_title)\n",
    "    print()\n",
    "    print(description)\n",
    "    print()\n",
    "    print(video_url)"
   ]
  },
  {
   "cell_type": "code",
   "execution_count": 18,
   "id": "226dff39-c559-4752-b3e5-d31871e4c697",
   "metadata": {},
   "outputs": [
    {
     "data": {
      "text/plain": [
       "'https://cc3001.dmm.co.jp/litevideo/freepv/j/jul/jul00959/jul00959_mhb_w.mp4'"
      ]
     },
     "execution_count": 18,
     "metadata": {},
     "output_type": "execute_result"
    }
   ],
   "source": [
    "(json_dict['subjectOf']['contentUrl']).replace('sm', 'mhb')"
   ]
  },
  {
   "cell_type": "code",
   "execution_count": 24,
   "id": "3e58bb57-552a-451f-b86c-1b7adf37594a",
   "metadata": {},
   "outputs": [
    {
     "data": {
      "text/plain": [
       "'妻のゆうと結婚して数年、出版社で働く冴えない僕の元に大仕事が舞い込んできた。上司の大木さんから人気カメラマン・大塚玉堂と仕事する機会を与えられ、僕はいつになく意気込んでいた。しかし撮影日、予定していた女性モデルと連絡が全く取れないのだ。見つかるはずのない代理モデル、次第に苛立つ大塚先生、慌てふためくだけの僕に大木さんの怒りは沸点に達して、妻のゆうを代わりのモデルとして呼ぶように命令されて…。'"
      ]
     },
     "execution_count": 24,
     "metadata": {},
     "output_type": "execute_result"
    }
   ],
   "source": [
    "json_dict['description']"
   ]
  },
  {
   "cell_type": "code",
   "execution_count": 21,
   "id": "a4f28495-c347-4f73-979d-b94aec9b43c6",
   "metadata": {},
   "outputs": [],
   "source": [
    "def get_move(url):\n",
    "    json_dict = None\n",
    "    res3 = requests.get(url)\n",
    "    soup3 = BeautifulSoup(res3.text, 'html.parser')\n",
    "    url3 = soup3.find('a', class_ =\"ageCheck__link ageCheck__link--r18\")['href']\n",
    "    res4 = requests.get(url3)\n",
    "    \n",
    "    soup4 = BeautifulSoup(res4.text, 'html.parser')\n",
    "    json_2= soup4.find(\"script\", {\"type\": \"application/ld+json\"})\n",
    "    data = json_2.text\n",
    "    #サンプル動画が存在しないと['subjectOf']キーが無いってエラーが出るのでサンプル動画があったら処理をする。\n",
    "    if \"subjectOf\" in data and \"contentUrl\" in data:\n",
    "        json_dict = json.loads(data)\n",
    "        print(json_dict)\n",
    "    \n",
    "        move_url = (json_dict['subjectOf']['contentUrl']).replace('sm', 'mhb')\n",
    "        move_title = (json_dict['name'])\n",
    "        #動画タイトル名をファイル名に使用するので長すぎるとエラーになるので５０文字以上なら短く加工する処理\n",
    "        if len(move_title) > 50:\n",
    "            #タイトルの先頭から３５文字に＊＊＊＊をつなげてタイトル末尾１５文字を連結してファイル名を作成。\n",
    "            move_title = move_title[:35] + '＊＊＊＊' + move_title[-15:]\n",
    "        #動画タイトルの中に「/」スラッシュが入っていると、動画保存するパスが変わってしまうので置換処理。\n",
    "        move_title = move_title.replace('/', '_')\n",
    "        response = requests.get(move_url)\n",
    "        if response.status_code == 200:\n",
    "            start_time = time.process_time()\n",
    "            with open('/home/fed36-mb400/ビデオ/Fanza/熟女ページ１/' + move_title + '.mp4', 'wb') as saveFile:\n",
    "                saveFile.write(response.content)"
   ]
  },
  {
   "cell_type": "code",
   "execution_count": 1,
   "id": "1d2e41b8-f9d0-46cb-8dc3-2b287b3197bb",
   "metadata": {
    "tags": []
   },
   "outputs": [
    {
     "ename": "NameError",
     "evalue": "name 'soup2' is not defined",
     "output_type": "error",
     "traceback": [
      "\u001b[1;31m---------------------------------------------------------------------------\u001b[0m",
      "\u001b[1;31mNameError\u001b[0m                                 Traceback (most recent call last)",
      "\u001b[1;32m~\\AppData\\Local\\Temp\\ipykernel_12644\\836327485.py\u001b[0m in \u001b[0;36m<module>\u001b[1;34m\u001b[0m\n\u001b[1;32m----> 1\u001b[1;33m \u001b[0msoup2\u001b[0m\u001b[1;33m\u001b[0m\u001b[1;33m\u001b[0m\u001b[0m\n\u001b[0m",
      "\u001b[1;31mNameError\u001b[0m: name 'soup2' is not defined"
     ]
    }
   ],
   "source": [
    "soup2"
   ]
  },
  {
   "cell_type": "code",
   "execution_count": null,
   "id": "60873e73-6bb9-4259-b965-954710494fdd",
   "metadata": {
    "jupyter": {
     "source_hidden": true
    },
    "tags": []
   },
   "outputs": [],
   "source": []
  }
 ],
 "metadata": {
  "kernelspec": {
   "display_name": "Python 3 (ipykernel)",
   "language": "python",
   "name": "python3"
  },
  "language_info": {
   "codemirror_mode": {
    "name": "ipython",
    "version": 3
   },
   "file_extension": ".py",
   "mimetype": "text/x-python",
   "name": "python",
   "nbconvert_exporter": "python",
   "pygments_lexer": "ipython3",
   "version": "3.8.10"
  }
 },
 "nbformat": 4,
 "nbformat_minor": 5
}
