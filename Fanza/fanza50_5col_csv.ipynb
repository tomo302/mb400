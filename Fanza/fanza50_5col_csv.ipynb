{
 "cells": [
  {
   "cell_type": "code",
   "execution_count": 21,
   "id": "8a901297-f9dc-4ab2-bb62-0c4e77fb135a",
   "metadata": {},
   "outputs": [],
   "source": [
    "import requests\n",
    "from bs4 import BeautifulSoup"
   ]
  },
  {
   "cell_type": "code",
   "execution_count": 22,
   "id": "951649f9-1f84-4323-aec1-47369788c4dd",
   "metadata": {},
   "outputs": [],
   "source": [
    "#<div class=\"list-boxcaptside list-boxpagenation group\">\n",
    "#<p>183人中　101～183人　全2ページ中　2ページ目を表示</p>"
   ]
  },
  {
   "cell_type": "code",
   "execution_count": 248,
   "id": "a8605f6e-dbc9-42eb-8a16-3c978b93f0ee",
   "metadata": {},
   "outputs": [],
   "source": [
    "url = \"https://www.dmm.co.jp/digital/videoa/-/actress/=/keyword=e/\""
   ]
  },
  {
   "cell_type": "code",
   "execution_count": 249,
   "id": "1a6acf18-c51a-4bd6-82ac-81b2b6c39608",
   "metadata": {},
   "outputs": [],
   "source": [
    "#soup2.find(class_ = 'list-boxcaptside list-boxpagenation group').p.text.split()"
   ]
  },
  {
   "cell_type": "code",
   "execution_count": 250,
   "id": "f9e187a1-1ed0-44da-a005-4aaf898154a5",
   "metadata": {},
   "outputs": [],
   "source": [
    "def max_page(url):\n",
    "    res = requests.get(url)\n",
    "    soup = BeautifulSoup(res.text, 'html.parser')\n",
    "    firstpage_url = soup.find('a', class_=\"ageCheck__link ageCheck__link--r18\").get('href')\n",
    "    res2 = requests.get(firstpage_url)\n",
    "    soup2 = BeautifulSoup(res2.text, 'html.parser')\n",
    "    #print(soup2.find(class_ = 'list-boxcaptside list-boxpagenation group').p.text.split())\n",
    "    #['183人中', '1～100人', '全2ページ中', '1ページ目を表示']のインデックス2をsplitで'全'と'ペ'で分割して数値部分を取得する\n",
    "    if int(soup2.find(class_ = 'list-boxcaptside list-boxpagenation group').p.text.split()[2].split('全')[1].split('ペ')[0]) == 1:\n",
    "        page_nation_max = 2 #ここ１にしてハマった！！for文でindex開始１を指定するため\n",
    "        \n",
    "    #ページネーション最大ページ数を取得\n",
    "    else:\n",
    "        page_nation_max = int(soup2.find_all('li', class_ ='terminal')[3].a['href'].split('/')[9].split('=')[1]) + 1\n",
    "    return page_nation_max"
   ]
  },
  {
   "cell_type": "code",
   "execution_count": 251,
   "id": "d96cc47d-baaf-4cf2-a839-26e80e697155",
   "metadata": {},
   "outputs": [],
   "source": [
    "max_page = max_page(url)"
   ]
  },
  {
   "cell_type": "code",
   "execution_count": 252,
   "id": "4ea39282-df68-45b6-af84-51874a15b595",
   "metadata": {},
   "outputs": [
    {
     "data": {
      "text/plain": [
       "2"
      ]
     },
     "execution_count": 252,
     "metadata": {},
     "output_type": "execute_result"
    }
   ],
   "source": [
    "max_page"
   ]
  },
  {
   "cell_type": "code",
   "execution_count": 253,
   "id": "dd6eadf8-546a-4c3a-8d41-b5ada08858c3",
   "metadata": {},
   "outputs": [
    {
     "data": {
      "text/plain": [
       "'https://www.dmm.co.jp/digital/videoa/-/actress/=/keyword=e/'"
      ]
     },
     "execution_count": 253,
     "metadata": {},
     "output_type": "execute_result"
    }
   ],
   "source": [
    "url"
   ]
  },
  {
   "cell_type": "code",
   "execution_count": 254,
   "id": "7e246aca-9420-4c57-a823-1716811788e9",
   "metadata": {
    "tags": []
   },
   "outputs": [],
   "source": [
    "def actress(max_page, url):\n",
    "    act_lists = []\n",
    "    #ページネーション処理\n",
    "    for row in range(1, max_page): #index 1から開始指定\n",
    "        #print(row)\n",
    "        #print(url + \"page=\" + str(row))\n",
    "        res3 = requests.get(url + \"page=\" + str(row))\n",
    "        soup4 = BeautifulSoup(res3.text, 'html.parser')\n",
    "        res4 = requests.get(soup4.find('a', class_=\"ageCheck__link ageCheck__link--r18\").get('href'))\n",
    "        soup5 = BeautifulSoup(res4.text, 'html.parser')\n",
    "        actress = soup5.find('ul', class_ = 'd-item act-box-100 group')\n",
    "        #print(actress.select('span')[0].text)\n",
    "        #配列内に配列を追記\n",
    "        for act in actress.select('li a'):\n",
    "            act_list = []\n",
    "            #print(act.img['alt'])\n",
    "            furigana = act.span.text\n",
    "            act_name = (act.img['alt'])\n",
    "            syutuen_su = (act.span.next_sibling.text.split('：')[1])\n",
    "            act_gazou_url = (act.img['src'])\n",
    "            act_base_url = (act['href'])\n",
    "            act_list = [furigana, act_name, syutuen_su, act_gazou_url, act_base_url]\n",
    "            act_lists.append(act_list)\n",
    "    return act_lists"
   ]
  },
  {
   "cell_type": "code",
   "execution_count": 255,
   "id": "b3bd49e9-a8da-4a5c-914d-20e00b38a3d5",
   "metadata": {
    "tags": []
   },
   "outputs": [],
   "source": [
    "act_lists = actress(max_page, url)"
   ]
  },
  {
   "cell_type": "code",
   "execution_count": 256,
   "id": "9dc7ee48-1fb1-409f-9720-086ab8ddbf21",
   "metadata": {},
   "outputs": [],
   "source": [
    "#CSVファイルのファイル名を組み立てるのに使用。手動だと変更するの忘れるから！！\n",
    "keyword = url.split('=')[2].replace('/', '')"
   ]
  },
  {
   "cell_type": "code",
   "execution_count": 257,
   "id": "dfce4375-4a79-483e-9be4-9e72eb99fc36",
   "metadata": {},
   "outputs": [
    {
     "data": {
      "text/plain": [
       "'e'"
      ]
     },
     "execution_count": 257,
     "metadata": {},
     "output_type": "execute_result"
    }
   ],
   "source": [
    "keyword"
   ]
  },
  {
   "cell_type": "code",
   "execution_count": 258,
   "id": "fe36b60e-7c13-4f05-a8e7-e6ffc2b26caf",
   "metadata": {},
   "outputs": [],
   "source": [
    "import csv\n",
    "header = ['furigana', 'actor_name', 'sakuhin_su', 'act_gazou_url', 'sakuhin_url']\n",
    "with open('Fanza_' + keyword + '.csv', 'a', newline='') as fanza_file:\n",
    "    writer = csv.writer(fanza_file)\n",
    "    writer.writerow(header)\n",
    "    writer.writerows(act_lists)\n",
    "    #for row in act_lists:\n",
    "        #writer.writerow(row)\n",
    "       "
   ]
  },
  {
   "cell_type": "code",
   "execution_count": 259,
   "id": "c9aad440-3424-4976-8cd0-c462c72ed895",
   "metadata": {},
   "outputs": [
    {
     "data": {
      "text/plain": [
       "78"
      ]
     },
     "execution_count": 259,
     "metadata": {},
     "output_type": "execute_result"
    }
   ],
   "source": [
    "len(act_lists)"
   ]
  },
  {
   "cell_type": "code",
   "execution_count": null,
   "id": "12840a52-edc0-42a9-8c20-0c6c5a4ab16b",
   "metadata": {},
   "outputs": [],
   "source": []
  },
  {
   "cell_type": "code",
   "execution_count": 172,
   "id": "5c29b72c-ec83-420d-bb61-436ade1f179d",
   "metadata": {},
   "outputs": [
    {
     "name": "stdout",
     "output_type": "stream",
     "text": [
      "/home/fed36-mb400/docker\n"
     ]
    }
   ],
   "source": [
    "!pwd"
   ]
  },
  {
   "cell_type": "code",
   "execution_count": null,
   "id": "7f9dbaea-0d6b-40cd-ade1-efe753cc6f48",
   "metadata": {},
   "outputs": [],
   "source": []
  },
  {
   "cell_type": "code",
   "execution_count": 113,
   "id": "cfa66d15-6f93-4ed6-98af-efb48407ef99",
   "metadata": {},
   "outputs": [
    {
     "name": "stdout",
     "output_type": "stream",
     "text": [
      "uname_result(system='Linux', node='fedora', release='5.18.17-200.fc36.x86_64', version='#1 SMP PREEMPT_DYNAMIC Thu Aug 11 14:36:06 UTC 2022', machine='x86_64')\n"
     ]
    }
   ],
   "source": [
    "import platform\n",
    "import os\n",
    "print(platform.uname())"
   ]
  },
  {
   "cell_type": "code",
   "execution_count": 122,
   "id": "491c6f19-58b5-4565-b315-43dcc6715431",
   "metadata": {},
   "outputs": [],
   "source": [
    "if \"fedora\" in platform.uname():\n",
    "    os.chdir('/home/fed36-mb400/docker')\n",
    "    os.mkdir('aaaaaa')\n",
    "else:\n",
    "    os.chdir('../')"
   ]
  },
  {
   "cell_type": "code",
   "execution_count": 138,
   "id": "36b9c959-0979-460f-b5f8-a3aa23fa3b91",
   "metadata": {},
   "outputs": [
    {
     "name": "stdout",
     "output_type": "stream",
     "text": [
      "/home/fed36-mb400/docker\n"
     ]
    }
   ],
   "source": [
    "!pwd"
   ]
  },
  {
   "cell_type": "code",
   "execution_count": 134,
   "id": "43b4f320-0209-4282-93f3-54a064eaa57c",
   "metadata": {},
   "outputs": [],
   "source": [
    "file = os.listdir('../ドキュメント/FANZA_scraping')"
   ]
  },
  {
   "cell_type": "code",
   "execution_count": 137,
   "id": "0bea7219-6754-4287-b368-bdc18d04023f",
   "metadata": {},
   "outputs": [],
   "source": [
    "if \"あい\" not in file:\n",
    "    os.mkdir(\"あい\")"
   ]
  },
  {
   "cell_type": "code",
   "execution_count": 173,
   "id": "3b5a1fd9-b26f-459c-b642-1000a68802f1",
   "metadata": {},
   "outputs": [
    {
     "name": "stdout",
     "output_type": "stream",
     "text": [
      "Fanza_a.csv  wordpress\twp\n"
     ]
    }
   ],
   "source": [
    "!ls"
   ]
  },
  {
   "cell_type": "code",
   "execution_count": 174,
   "id": "2acd3930-f8a2-4932-a6bb-820a6b2847aa",
   "metadata": {},
   "outputs": [
    {
     "name": "stdout",
     "output_type": "stream",
     "text": [
      "/home/fed36-mb400/docker\n"
     ]
    }
   ],
   "source": [
    "!pwd"
   ]
  },
  {
   "cell_type": "code",
   "execution_count": 178,
   "id": "661ac276-a8e3-430c-ae28-cc271669d83e",
   "metadata": {},
   "outputs": [],
   "source": [
    "os.chdir('/home/fed36-mb400/Fanza')"
   ]
  },
  {
   "cell_type": "code",
   "execution_count": null,
   "id": "721e4c46-72e2-4029-8237-14e2356b48bb",
   "metadata": {},
   "outputs": [],
   "source": []
  }
 ],
 "metadata": {
  "kernelspec": {
   "display_name": "Python 3 (ipykernel)",
   "language": "python",
   "name": "python3"
  },
  "language_info": {
   "codemirror_mode": {
    "name": "ipython",
    "version": 3
   },
   "file_extension": ".py",
   "mimetype": "text/x-python",
   "name": "python",
   "nbconvert_exporter": "python",
   "pygments_lexer": "ipython3",
   "version": "3.10.6"
  }
 },
 "nbformat": 4,
 "nbformat_minor": 5
}
