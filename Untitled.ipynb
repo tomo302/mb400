{
 "cells": [
  {
   "cell_type": "code",
   "execution_count": 1,
   "id": "12a48eec-3b42-4b29-962d-0704d495ea59",
   "metadata": {},
   "outputs": [
    {
     "name": "stdout",
     "output_type": "stream",
     "text": [
      ".\n",
      "..\n"
     ]
    }
   ],
   "source": [
    "import os\n",
    "print(os.curdir)  # .\n",
    "print(os.pardir)  # .."
   ]
  },
  {
   "cell_type": "code",
   "execution_count": 10,
   "id": "12942875-48eb-49d7-90c4-e06832455d5f",
   "metadata": {},
   "outputs": [
    {
     "data": {
      "text/plain": [
       "'C:\\\\Users\\\\i3-12100\\\\git\\\\mb400\\\\Fanza_main'"
      ]
     },
     "execution_count": 10,
     "metadata": {},
     "output_type": "execute_result"
    }
   ],
   "source": [
    "os.getcwd()"
   ]
  },
  {
   "cell_type": "code",
   "execution_count": 9,
   "id": "45ea14ae-5b90-4e7d-aa0f-21ff51ffe169",
   "metadata": {},
   "outputs": [],
   "source": [
    "os.chdir('Fanza_main')"
   ]
  },
  {
   "cell_type": "code",
   "execution_count": null,
   "id": "6260b93d-d5d9-4da1-b227-d4862beae5d2",
   "metadata": {},
   "outputs": [],
   "source": []
  }
 ],
 "metadata": {
  "kernelspec": {
   "display_name": "Python 3 (ipykernel)",
   "language": "python",
   "name": "python3"
  },
  "language_info": {
   "codemirror_mode": {
    "name": "ipython",
    "version": 3
   },
   "file_extension": ".py",
   "mimetype": "text/x-python",
   "name": "python",
   "nbconvert_exporter": "python",
   "pygments_lexer": "ipython3",
   "version": "3.9.8"
  }
 },
 "nbformat": 4,
 "nbformat_minor": 5
}
