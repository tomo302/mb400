{
 "cells": [
  {
   "cell_type": "code",
<<<<<<< HEAD
   "execution_count": 1,
   "id": "12a48eec-3b42-4b29-962d-0704d495ea59",
=======
   "execution_count": 6,
   "id": "85c00f1b-f41e-47c0-a5a9-0f55c7db0006",
>>>>>>> 095c58079e6498b8621db53d8b9794d0470e4ba1
   "metadata": {},
   "outputs": [
    {
     "name": "stdout",
     "output_type": "stream",
     "text": [
<<<<<<< HEAD
      ".\n",
      "..\n"
=======
      "AV女優 [あ]\n",
      "20000\n"
>>>>>>> 095c58079e6498b8621db53d8b9794d0470e4ba1
     ]
    }
   ],
   "source": [
<<<<<<< HEAD
    "import os\n",
    "print(os.curdir)  # .\n",
    "print(os.pardir)  # .."
   ]
  },
  {
   "cell_type": "code",
   "execution_count": 10,
   "id": "12942875-48eb-49d7-90c4-e06832455d5f",
   "metadata": {},
   "outputs": [
    {
     "data": {
      "text/plain": [
       "'C:\\\\Users\\\\i3-12100\\\\git\\\\mb400\\\\Fanza_main'"
      ]
     },
     "execution_count": 10,
     "metadata": {},
     "output_type": "execute_result"
    }
   ],
   "source": [
    "os.getcwd()"
   ]
  },
  {
   "cell_type": "code",
   "execution_count": 9,
   "id": "45ea14ae-5b90-4e7d-aa0f-21ff51ffe169",
   "metadata": {},
   "outputs": [],
   "source": [
    "os.chdir('Fanza_main')"
=======
    "#!/usr/bin/env python\n",
    "# coding: utf-8\n",
    "\n",
    "from bs4 import BeautifulSoup\n",
    "import requests\n",
    "import sys\n",
    "import pickle\n",
    "\n",
    "\n",
    "url = \"https://www.dmm.co.jp/digital/videoa/-/actress/=/keyword=a/\"\n",
    "\n",
    "data = None\n",
    "\n",
    "sys.setrecursionlimit(20000)\n",
    "\n",
    "res  = requests.get(url)\n",
    "soup = BeautifulSoup(res.content, 'html.parser')\n",
    "\n",
    "res2 = requests.get(soup.find('a', class_ =\"ageCheck__link ageCheck__link--r18\")['href'])\n",
    "soup2 = BeautifulSoup(res2.content, 'html.parser')\n",
    "\n",
    "replace_word = \" - エロ動画・アダルトビデオ - FANZA動画\"\n",
    "\n",
    "\n",
    "#data = soup2.prettify()\n",
    "\n",
    "\n",
    "\n",
    "#print(data)\n",
    "page_title = soup2.title.text.replace(replace_word, '')\n",
    "#page_title = soup2.title.text\n",
    "print(page_title)\n",
    "\n",
    "with open(\"./Fanza_main/\" + page_title + \".pickle\", \"wb\") as f:\n",
    "    pickle.dump(soup2, f)\n",
    "\n",
    "print(sys.getrecursionlimit())\n",
    "\n"
>>>>>>> 095c58079e6498b8621db53d8b9794d0470e4ba1
   ]
  },
  {
   "cell_type": "code",
   "execution_count": null,
<<<<<<< HEAD
   "id": "6260b93d-d5d9-4da1-b227-d4862beae5d2",
=======
   "id": "492538f5-2dae-49c8-b520-ded59ad32a03",
>>>>>>> 095c58079e6498b8621db53d8b9794d0470e4ba1
   "metadata": {},
   "outputs": [],
   "source": []
  }
 ],
 "metadata": {
  "kernelspec": {
   "display_name": "Python 3 (ipykernel)",
   "language": "python",
   "name": "python3"
  },
  "language_info": {
   "codemirror_mode": {
    "name": "ipython",
    "version": 3
   },
   "file_extension": ".py",
   "mimetype": "text/x-python",
   "name": "python",
   "nbconvert_exporter": "python",
   "pygments_lexer": "ipython3",
<<<<<<< HEAD
   "version": "3.9.8"
=======
   "version": "3.10.6"
>>>>>>> 095c58079e6498b8621db53d8b9794d0470e4ba1
  }
 },
 "nbformat": 4,
 "nbformat_minor": 5
}
