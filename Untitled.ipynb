{
 "cells": [
  {
   "cell_type": "code",
   "execution_count": 6,
   "id": "85c00f1b-f41e-47c0-a5a9-0f55c7db0006",
   "metadata": {},
   "outputs": [
    {
     "name": "stdout",
     "output_type": "stream",
     "text": [
      "AV女優 [あ]\n",
      "20000\n"
     ]
    }
   ],
   "source": [
    "#!/usr/bin/env python\n",
    "# coding: utf-8\n",
    "\n",
    "from bs4 import BeautifulSoup\n",
    "import requests\n",
    "import sys\n",
    "import pickle\n",
    "\n",
    "\n",
    "url = \"https://www.dmm.co.jp/digital/videoa/-/actress/=/keyword=a/\"\n",
    "\n",
    "data = None\n",
    "\n",
    "sys.setrecursionlimit(20000)\n",
    "\n",
    "res  = requests.get(url)\n",
    "soup = BeautifulSoup(res.content, 'html.parser')\n",
    "\n",
    "res2 = requests.get(soup.find('a', class_ =\"ageCheck__link ageCheck__link--r18\")['href'])\n",
    "soup2 = BeautifulSoup(res2.content, 'html.parser')\n",
    "\n",
    "replace_word = \" - エロ動画・アダルトビデオ - FANZA動画\"\n",
    "\n",
    "\n",
    "#data = soup2.prettify()\n",
    "\n",
    "\n",
    "\n",
    "#print(data)\n",
    "page_title = soup2.title.text.replace(replace_word, '')\n",
    "#page_title = soup2.title.text\n",
    "print(page_title)\n",
    "\n",
    "with open(\"./Fanza_main/\" + page_title + \".pickle\", \"wb\") as f:\n",
    "    pickle.dump(soup2, f)\n",
    "\n",
    "print(sys.getrecursionlimit())\n",
    "\n"
   ]
  },
  {
   "cell_type": "code",
   "execution_count": null,
   "id": "492538f5-2dae-49c8-b520-ded59ad32a03",
   "metadata": {},
   "outputs": [],
   "source": []
  }
 ],
 "metadata": {
  "kernelspec": {
   "display_name": "Python 3 (ipykernel)",
   "language": "python",
   "name": "python3"
  },
  "language_info": {
   "codemirror_mode": {
    "name": "ipython",
    "version": 3
   },
   "file_extension": ".py",
   "mimetype": "text/x-python",
   "name": "python",
   "nbconvert_exporter": "python",
   "pygments_lexer": "ipython3",
   "version": "3.10.6"
  }
 },
 "nbformat": 4,
 "nbformat_minor": 5
}
